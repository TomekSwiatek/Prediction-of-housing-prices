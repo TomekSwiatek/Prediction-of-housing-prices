{
 "cells": [
  {
   "cell_type": "markdown",
   "metadata": {},
   "source": [
    "## Load libraries"
   ]
  },
  {
   "cell_type": "code",
   "execution_count": 2,
   "metadata": {},
   "outputs": [],
   "source": [
    "import pandas as pd\n",
    "import numpy as np\n",
    "import helper as h\n",
    "\n",
    "import xgboost as xgb\n",
    "from sklearn.model_selection import cross_val_score, KFold\n",
    "from sklearn.metrics import mean_absolute_error\n",
    "\n",
    "import matplotlib.pyplot as plt\n",
    "from xgboost import plot_importance\n",
    "from numpy import sort\n",
    "from sklearn.feature_selection import SelectFromModel\n",
    "\n",
    "import eli5\n",
    "\n",
    "from scipy.stats import randint, uniform\n",
    "from sklearn.model_selection import GridSearchCV, RandomizedSearchCV"
   ]
  },
  {
   "cell_type": "markdown",
   "metadata": {},
   "source": [
    "## Upload data"
   ]
  },
  {
   "cell_type": "code",
   "execution_count": 3,
   "metadata": {},
   "outputs": [],
   "source": [
    "df_train = pd.read_hdf(\"../input/train_data.h5\")\n",
    "df_train['price'] = df_train['price'].map(h.parse_price)\n",
    "\n",
    "df_test = pd.read_hdf(\"../input/test_data.h5\")"
   ]
  },
  {
   "cell_type": "markdown",
   "metadata": {},
   "source": [
    "## Combine data\n",
    "Combine `df_train` and` df_test` and save the result to `df`."
   ]
  },
  {
   "cell_type": "code",
   "execution_count": 4,
   "metadata": {},
   "outputs": [
    {
     "name": "stdout",
     "output_type": "stream",
     "text": [
      "(34180, 8) (34180, 8)\n"
     ]
    }
   ],
   "source": [
    "df = pd.concat([df_train, df_test])\n",
    "print(df.shape, df.shape)"
   ]
  },
  {
   "cell_type": "code",
   "execution_count": 5,
   "metadata": {},
   "outputs": [
    {
     "data": {
      "text/html": [
       "<div>\n",
       "<style scoped>\n",
       "    .dataframe tbody tr th:only-of-type {\n",
       "        vertical-align: middle;\n",
       "    }\n",
       "\n",
       "    .dataframe tbody tr th {\n",
       "        vertical-align: top;\n",
       "    }\n",
       "\n",
       "    .dataframe thead th {\n",
       "        text-align: right;\n",
       "    }\n",
       "</style>\n",
       "<table border=\"1\" class=\"dataframe\">\n",
       "  <thead>\n",
       "    <tr style=\"text-align: right;\">\n",
       "      <th></th>\n",
       "      <th>geo_block</th>\n",
       "      <th>breadcrumbs</th>\n",
       "      <th>price</th>\n",
       "      <th>owner</th>\n",
       "      <th>params</th>\n",
       "      <th>date</th>\n",
       "      <th>user_block</th>\n",
       "      <th>id</th>\n",
       "    </tr>\n",
       "  </thead>\n",
       "  <tbody>\n",
       "    <tr>\n",
       "      <th>11792</th>\n",
       "      <td>[г. Москва, г. Москва]</td>\n",
       "      <td>[Москва, МЦК Владыкино]</td>\n",
       "      <td>20.72000</td>\n",
       "      <td>[Квартиры в ЖК \"Фонвизинский\"]</td>\n",
       "      <td>{'Охрана:': 'предусмотрена', 'Тип здания:': 'М...</td>\n",
       "      <td>[5 апреля, 10, (+1 за сегодня), Обновлено 14 мая]</td>\n",
       "      <td>[]</td>\n",
       "      <td>16967</td>\n",
       "    </tr>\n",
       "    <tr>\n",
       "      <th>924</th>\n",
       "      <td>[г. Москва, ул Багрицкого, г. Москва, ул Багри...</td>\n",
       "      <td>[Москва, МЦК Кутузовская, ул. Багрицкого]</td>\n",
       "      <td>24.00000</td>\n",
       "      <td>[]</td>\n",
       "      <td>{'Охрана:': 'закрытая территория', 'Тип здания...</td>\n",
       "      <td>[20 марта, 12, (+2 за сегодня), Обновлено 15 мая]</td>\n",
       "      <td>[&lt;div class=\"block-user__name\"&gt;Агент&lt;/div&gt;, &lt;d...</td>\n",
       "      <td>65061</td>\n",
       "    </tr>\n",
       "    <tr>\n",
       "      <th>17966</th>\n",
       "      <td>[г. Москва, Даниловский, г. Москва, Даниловский]</td>\n",
       "      <td>[Москва, Даниловский, м. Серпуховская, МЦК Пло...</td>\n",
       "      <td>75.00000</td>\n",
       "      <td>[]</td>\n",
       "      <td>{'Охрана:': 'предусмотрена', 'Тип здания:': 'М...</td>\n",
       "      <td>[4 октября 2018, 23, (+1 за сегодня), Обновлен...</td>\n",
       "      <td>[&lt;div class=\"block-user__name\"&gt;Вероника&lt;/div&gt;,...</td>\n",
       "      <td>60334</td>\n",
       "    </tr>\n",
       "    <tr>\n",
       "      <th>11774</th>\n",
       "      <td>[г. Москва, Выхино-Жулебино, г. Москва, Выхино...</td>\n",
       "      <td>[Москва, Выхино-Жулебино, м. Рязанский проспек...</td>\n",
       "      <td>12.19545</td>\n",
       "      <td>[]</td>\n",
       "      <td>{'Общая площадь:': '66.1 м²', 'Дата публикации...</td>\n",
       "      <td>[31 января, 13, (+3 за сегодня), Обновлено 18 ...</td>\n",
       "      <td>[&lt;div class=\"block-user__name\"&gt;Главстрой&lt;/div&gt;...</td>\n",
       "      <td>36377</td>\n",
       "    </tr>\n",
       "    <tr>\n",
       "      <th>5696</th>\n",
       "      <td>[г. Москва, г. Москва]</td>\n",
       "      <td>[Москва, МЦК Стрешнево]</td>\n",
       "      <td>8.40000</td>\n",
       "      <td>[]</td>\n",
       "      <td>{'Тип здания:': 'Монолитно-кирпичный', 'Тип об...</td>\n",
       "      <td>[17 мая, 2, (+1 за сегодня)]</td>\n",
       "      <td>[&lt;div class=\"block-user__name\"&gt;Агент&lt;/div&gt;, &lt;d...</td>\n",
       "      <td>49797</td>\n",
       "    </tr>\n",
       "  </tbody>\n",
       "</table>\n",
       "</div>"
      ],
      "text/plain": [
       "                                               geo_block  \\\n",
       "11792                             [г. Москва, г. Москва]   \n",
       "924    [г. Москва, ул Багрицкого, г. Москва, ул Багри...   \n",
       "17966   [г. Москва, Даниловский, г. Москва, Даниловский]   \n",
       "11774  [г. Москва, Выхино-Жулебино, г. Москва, Выхино...   \n",
       "5696                              [г. Москва, г. Москва]   \n",
       "\n",
       "                                             breadcrumbs     price  \\\n",
       "11792                            [Москва, МЦК Владыкино]  20.72000   \n",
       "924            [Москва, МЦК Кутузовская, ул. Багрицкого]  24.00000   \n",
       "17966  [Москва, Даниловский, м. Серпуховская, МЦК Пло...  75.00000   \n",
       "11774  [Москва, Выхино-Жулебино, м. Рязанский проспек...  12.19545   \n",
       "5696                             [Москва, МЦК Стрешнево]   8.40000   \n",
       "\n",
       "                                owner  \\\n",
       "11792  [Квартиры в ЖК \"Фонвизинский\"]   \n",
       "924                                []   \n",
       "17966                              []   \n",
       "11774                              []   \n",
       "5696                               []   \n",
       "\n",
       "                                                  params  \\\n",
       "11792  {'Охрана:': 'предусмотрена', 'Тип здания:': 'М...   \n",
       "924    {'Охрана:': 'закрытая территория', 'Тип здания...   \n",
       "17966  {'Охрана:': 'предусмотрена', 'Тип здания:': 'М...   \n",
       "11774  {'Общая площадь:': '66.1 м²', 'Дата публикации...   \n",
       "5696   {'Тип здания:': 'Монолитно-кирпичный', 'Тип об...   \n",
       "\n",
       "                                                    date  \\\n",
       "11792  [5 апреля, 10, (+1 за сегодня), Обновлено 14 мая]   \n",
       "924    [20 марта, 12, (+2 за сегодня), Обновлено 15 мая]   \n",
       "17966  [4 октября 2018, 23, (+1 за сегодня), Обновлен...   \n",
       "11774  [31 января, 13, (+3 за сегодня), Обновлено 18 ...   \n",
       "5696                        [17 мая, 2, (+1 за сегодня)]   \n",
       "\n",
       "                                              user_block     id  \n",
       "11792                                                 []  16967  \n",
       "924    [<div class=\"block-user__name\">Агент</div>, <d...  65061  \n",
       "17966  [<div class=\"block-user__name\">Вероника</div>,...  60334  \n",
       "11774  [<div class=\"block-user__name\">Главстрой</div>...  36377  \n",
       "5696   [<div class=\"block-user__name\">Агент</div>, <d...  49797  "
      ]
     },
     "execution_count": 5,
     "metadata": {},
     "output_type": "execute_result"
    }
   ],
   "source": [
    "df.sample(5)"
   ]
  },
  {
   "cell_type": "markdown",
   "metadata": {},
   "source": [
    "### Categorization of the Params feature"
   ]
  },
  {
   "cell_type": "code",
   "execution_count": 6,
   "metadata": {},
   "outputs": [
    {
     "data": {
      "text/plain": [
       "['Охрана:_cat',\n",
       " 'Тип здания:_cat',\n",
       " 'Тип объекта:_cat',\n",
       " 'Количество корпусов:_cat',\n",
       " 'Тип объявления:_cat',\n",
       " 'Застройщик:_cat',\n",
       " 'Общая площадь:_cat',\n",
       " 'Дата публикации:_cat',\n",
       " 'Количество комнат:_cat',\n",
       " 'Парковка:_cat',\n",
       " 'Дата  обновления:_cat',\n",
       " 'Количество этажей:_cat',\n",
       " 'Сдача:_cat',\n",
       " 'Комиссия агенту:_cat',\n",
       " 'Высота потолков:_cat',\n",
       " 'Этаж:_cat',\n",
       " 'Этап строительства:_cat',\n",
       " 'Новостройка:_cat',\n",
       " 'Количество квартир:_cat',\n",
       " 'Класс жилья:_cat',\n",
       " 'Адрес:_cat',\n",
       " 'Лифт:_cat',\n",
       " 'Вид из окна:_cat',\n",
       " 'Возможна ипотека:_cat',\n",
       " 'Год постройки:_cat',\n",
       " 'Этажность:_cat',\n",
       " 'Мусоропровод:_cat',\n",
       " 'Ремонт:_cat',\n",
       " 'Площадь кухни:_cat',\n",
       " 'Жилая комната:_cat',\n",
       " 'Тип санузла:_cat',\n",
       " 'Тип балкона:_cat',\n",
       " 'Мебель на кухне:_cat',\n",
       " 'Холодильник:_cat',\n",
       " 'Интернет:_cat',\n",
       " 'Мебель:_cat',\n",
       " 'Телефон:_cat',\n",
       " 'Свободная планировка:_cat',\n",
       " 'Управляющая компания:_cat',\n",
       " 'Количество подъездов:_cat',\n",
       " 'Тип дома:_cat',\n",
       " 'Тип комнат:_cat',\n",
       " 'Покрытие пола:_cat',\n",
       " 'Серия:_cat',\n",
       " 'Тип перекрытия:_cat',\n",
       " 'Возможен торг:_cat',\n",
       " 'Класс:_cat',\n",
       " 'Телевизор:_cat',\n",
       " 'Тип фундамента:_cat',\n",
       " 'Количество жилых помещений:_cat',\n",
       " 'Детская площадка:_cat',\n",
       " 'Стиральная машина:_cat',\n",
       " 'Наибольшее количество этажей:_cat',\n",
       " 'Наименьшее количество этажей:_cat',\n",
       " 'Предоплата:_cat']"
      ]
     },
     "execution_count": 6,
     "metadata": {},
     "output_type": "execute_result"
    }
   ],
   "source": [
    "params = df[\"params\"].apply(pd.Series)\n",
    "params = params.fillna(-1)\n",
    "\n",
    "if \"Охрана:\" not in df:  #prevents params from being added again \n",
    "    df = pd.concat([df, params], axis=1)\n",
    "    \n",
    "    obj_feats = params.select_dtypes(object).columns\n",
    "\n",
    "    for feat in obj_feats:\n",
    "        df[\"{}_cat\".format(feat)] = df[feat].factorize()[0]\n",
    "\n",
    "cat_feats = [x for x in df.columns if \"_cat\" in x]\n",
    "cat_feats"
   ]
  },
  {
   "cell_type": "markdown",
   "metadata": {},
   "source": [
    "### Features of area "
   ]
  },
  {
   "cell_type": "code",
   "execution_count": 7,
   "metadata": {},
   "outputs": [],
   "source": [
    "def parse_area(val):\n",
    "    if isinstance(val, int): return val\n",
    "    if isinstance(val, float): return val\n",
    "    \n",
    "    return float(val.split(\"м\")[0].replace(\" \", \"\"))\n",
    "\n",
    "df[\"area\"] = df[\"Общая площадь:\"].map(h.parse_area)\n",
    "df[\"kitchen_area\"] = df[\"Площадь кухни:\"].map(parse_area)"
   ]
  },
  {
   "cell_type": "markdown",
   "metadata": {},
   "source": [
    "### model evaluation \n",
    "\n",
    "Two functions: `check_model`, `check_log_model`. "
   ]
  },
  {
   "cell_type": "code",
   "execution_count": 8,
   "metadata": {},
   "outputs": [],
   "source": [
    "def check_model(df, feats, model, cv=5, scoring=\"neg_mean_absolute_error\"):\n",
    "    df_train = df[ ~df[\"price\"].isnull() ].copy()\n",
    "    df_test = df[ df[\"price\"].isnull() ].copy()\n",
    "\n",
    "    X_train = df_train[feats]\n",
    "    y_train = df_train[\"price\"]\n",
    "    \n",
    "    scores = cross_val_score(model, X_train, y_train, cv=cv, scoring=scoring)\n",
    "    return np.mean(scores), np.std(scores)\n",
    "\n",
    "\n",
    "def check_log_model(df, feats, model, cv=5, scoring=\"neg_mean_absolute_error\"):\n",
    "    df_train = df[ ~df[\"price\"].isnull() ].copy()\n",
    "\n",
    "    X = df_train[feats]\n",
    "    y = df_train[\"price\"]\n",
    "    y_log = np.log(y)\n",
    "    \n",
    "    cv = KFold(n_splits=5, shuffle=True, random_state=0)\n",
    "    scores = []\n",
    "    for train_idx, test_idx in cv.split(X):\n",
    "        X_train, X_test = X.iloc[train_idx], X.iloc[test_idx]\n",
    "        y_log_train, y_test = y_log.iloc[train_idx], y.iloc[test_idx]\n",
    "\n",
    "        model = xgb.XGBRegressor(max_depth=5, n_estimators=50, random_state=0)\n",
    "        model.fit(X_train, y_log_train)\n",
    "        y_log_pred = model.predict(X_test)\n",
    "        y_pred = np.exp(y_log_pred)\n",
    "\n",
    "        score = mean_absolute_error(y_test, y_pred)\n",
    "        scores.append(score)\n",
    "\n",
    "    return np.mean(scores), np.std(scores)"
   ]
  },
  {
   "cell_type": "markdown",
   "metadata": {},
   "source": [
    "## Features of area \n",
    "Selected features: `geo_block` i `breadcrumbs`."
   ]
  },
  {
   "cell_type": "markdown",
   "metadata": {},
   "source": [
    "### geo_block"
   ]
  },
  {
   "cell_type": "code",
   "execution_count": 9,
   "metadata": {},
   "outputs": [
    {
     "data": {
      "text/plain": [
       "array([list(['г. Москва', 'Лианозово', 'г. Москва', 'Лианозово']),\n",
       "       list(['г. Москва', 'Ховрино', 'г. Москва', 'Ховрино']),\n",
       "       list(['г. Москва', 'ул Лобачевского', 'г. Москва', 'ул Лобачевского']),\n",
       "       ..., list(['г. Москва', 'Ховрино', 'г. Москва', 'Ховрино']),\n",
       "       list(['Новая Москва', 'п. Внуковское', 'г. Москва', 'Новая Москва', 'п. Внуковское', 'г. Москва']),\n",
       "       list(['г. Москва', 'Ярославский', 'ул Красная Сосна', 'г. Москва', 'Ярославский', 'ул Красная Сосна'])],\n",
       "      dtype=object)"
      ]
     },
     "execution_count": 9,
     "metadata": {},
     "output_type": "execute_result"
    }
   ],
   "source": [
    "df[\"geo_block\"].values"
   ]
  },
  {
   "cell_type": "markdown",
   "metadata": {},
   "source": [
    "Removal of duplicates, because in the lines we have two elements repeated twice. "
   ]
  },
  {
   "cell_type": "code",
   "execution_count": 10,
   "metadata": {},
   "outputs": [
    {
     "data": {
      "text/plain": [
       "0                            [г. Москва, Лианозово]\n",
       "1                              [г. Москва, Ховрино]\n",
       "2                      [г. Москва, ул Лобачевского]\n",
       "3                  [г. Москва, Ховрино, ул Дыбенко]\n",
       "4                          [г. Москва, Даниловский]\n",
       "                            ...                    \n",
       "11443                                   [г. Москва]\n",
       "11444                [г. Москва, Хорошёво-Мнёвники]\n",
       "11445                          [г. Москва, Ховрино]\n",
       "11446      [Новая Москва, п. Внуковское, г. Москва]\n",
       "11447    [г. Москва, Ярославский, ул Красная Сосна]\n",
       "Name: geo_block_norm, Length: 34180, dtype: object"
      ]
     },
     "execution_count": 10,
     "metadata": {},
     "output_type": "execute_result"
    }
   ],
   "source": [
    "df[\"geo_block_norm\"] = df[\"geo_block\"].map(lambda x: x[:int(len(x)/2)])\n",
    "\n",
    "df[\"geo_block_norm\"]"
   ]
  },
  {
   "cell_type": "markdown",
   "metadata": {},
   "source": [
    "Create `DataFrame`."
   ]
  },
  {
   "cell_type": "code",
   "execution_count": 11,
   "metadata": {},
   "outputs": [
    {
     "data": {
      "text/html": [
       "<div>\n",
       "<style scoped>\n",
       "    .dataframe tbody tr th:only-of-type {\n",
       "        vertical-align: middle;\n",
       "    }\n",
       "\n",
       "    .dataframe tbody tr th {\n",
       "        vertical-align: top;\n",
       "    }\n",
       "\n",
       "    .dataframe thead th {\n",
       "        text-align: right;\n",
       "    }\n",
       "</style>\n",
       "<table border=\"1\" class=\"dataframe\">\n",
       "  <thead>\n",
       "    <tr style=\"text-align: right;\">\n",
       "      <th></th>\n",
       "      <th>geo_block_0</th>\n",
       "      <th>geo_block_1</th>\n",
       "      <th>geo_block_2</th>\n",
       "      <th>geo_block_3</th>\n",
       "      <th>geo_block_4</th>\n",
       "      <th>geo_block_5</th>\n",
       "    </tr>\n",
       "  </thead>\n",
       "  <tbody>\n",
       "    <tr>\n",
       "      <th>0</th>\n",
       "      <td>г. Москва</td>\n",
       "      <td>Лианозово</td>\n",
       "      <td>NaN</td>\n",
       "      <td>NaN</td>\n",
       "      <td>NaN</td>\n",
       "      <td>NaN</td>\n",
       "    </tr>\n",
       "    <tr>\n",
       "      <th>1</th>\n",
       "      <td>г. Москва</td>\n",
       "      <td>Ховрино</td>\n",
       "      <td>NaN</td>\n",
       "      <td>NaN</td>\n",
       "      <td>NaN</td>\n",
       "      <td>NaN</td>\n",
       "    </tr>\n",
       "    <tr>\n",
       "      <th>2</th>\n",
       "      <td>г. Москва</td>\n",
       "      <td>ул Лобачевского</td>\n",
       "      <td>NaN</td>\n",
       "      <td>NaN</td>\n",
       "      <td>NaN</td>\n",
       "      <td>NaN</td>\n",
       "    </tr>\n",
       "    <tr>\n",
       "      <th>3</th>\n",
       "      <td>г. Москва</td>\n",
       "      <td>Ховрино</td>\n",
       "      <td>ул Дыбенко</td>\n",
       "      <td>NaN</td>\n",
       "      <td>NaN</td>\n",
       "      <td>NaN</td>\n",
       "    </tr>\n",
       "    <tr>\n",
       "      <th>4</th>\n",
       "      <td>г. Москва</td>\n",
       "      <td>Даниловский</td>\n",
       "      <td>NaN</td>\n",
       "      <td>NaN</td>\n",
       "      <td>NaN</td>\n",
       "      <td>NaN</td>\n",
       "    </tr>\n",
       "    <tr>\n",
       "      <th>...</th>\n",
       "      <td>...</td>\n",
       "      <td>...</td>\n",
       "      <td>...</td>\n",
       "      <td>...</td>\n",
       "      <td>...</td>\n",
       "      <td>...</td>\n",
       "    </tr>\n",
       "    <tr>\n",
       "      <th>11443</th>\n",
       "      <td>г. Москва</td>\n",
       "      <td>NaN</td>\n",
       "      <td>NaN</td>\n",
       "      <td>NaN</td>\n",
       "      <td>NaN</td>\n",
       "      <td>NaN</td>\n",
       "    </tr>\n",
       "    <tr>\n",
       "      <th>11444</th>\n",
       "      <td>г. Москва</td>\n",
       "      <td>Хорошёво-Мнёвники</td>\n",
       "      <td>NaN</td>\n",
       "      <td>NaN</td>\n",
       "      <td>NaN</td>\n",
       "      <td>NaN</td>\n",
       "    </tr>\n",
       "    <tr>\n",
       "      <th>11445</th>\n",
       "      <td>г. Москва</td>\n",
       "      <td>Ховрино</td>\n",
       "      <td>NaN</td>\n",
       "      <td>NaN</td>\n",
       "      <td>NaN</td>\n",
       "      <td>NaN</td>\n",
       "    </tr>\n",
       "    <tr>\n",
       "      <th>11446</th>\n",
       "      <td>Новая Москва</td>\n",
       "      <td>п. Внуковское</td>\n",
       "      <td>г. Москва</td>\n",
       "      <td>NaN</td>\n",
       "      <td>NaN</td>\n",
       "      <td>NaN</td>\n",
       "    </tr>\n",
       "    <tr>\n",
       "      <th>11447</th>\n",
       "      <td>г. Москва</td>\n",
       "      <td>Ярославский</td>\n",
       "      <td>ул Красная Сосна</td>\n",
       "      <td>NaN</td>\n",
       "      <td>NaN</td>\n",
       "      <td>NaN</td>\n",
       "    </tr>\n",
       "  </tbody>\n",
       "</table>\n",
       "<p>34180 rows × 6 columns</p>\n",
       "</div>"
      ],
      "text/plain": [
       "        geo_block_0        geo_block_1       geo_block_2 geo_block_3  \\\n",
       "0         г. Москва          Лианозово               NaN         NaN   \n",
       "1         г. Москва            Ховрино               NaN         NaN   \n",
       "2         г. Москва    ул Лобачевского               NaN         NaN   \n",
       "3         г. Москва            Ховрино        ул Дыбенко         NaN   \n",
       "4         г. Москва        Даниловский               NaN         NaN   \n",
       "...             ...                ...               ...         ...   \n",
       "11443     г. Москва                NaN               NaN         NaN   \n",
       "11444     г. Москва  Хорошёво-Мнёвники               NaN         NaN   \n",
       "11445     г. Москва            Ховрино               NaN         NaN   \n",
       "11446  Новая Москва      п. Внуковское         г. Москва         NaN   \n",
       "11447     г. Москва        Ярославский  ул Красная Сосна         NaN   \n",
       "\n",
       "      geo_block_4 geo_block_5  \n",
       "0             NaN         NaN  \n",
       "1             NaN         NaN  \n",
       "2             NaN         NaN  \n",
       "3             NaN         NaN  \n",
       "4             NaN         NaN  \n",
       "...           ...         ...  \n",
       "11443         NaN         NaN  \n",
       "11444         NaN         NaN  \n",
       "11445         NaN         NaN  \n",
       "11446         NaN         NaN  \n",
       "11447         NaN         NaN  \n",
       "\n",
       "[34180 rows x 6 columns]"
      ]
     },
     "execution_count": 11,
     "metadata": {},
     "output_type": "execute_result"
    }
   ],
   "source": [
    "geo_block = (\n",
    "df[\"geo_block\"]\n",
    "    .map(lambda x: x[:int(len(x)/2) ])\n",
    "    .map(lambda x: {\"geo_block_{}\".format(idx):val for idx,val in enumerate(x) })\n",
    "    .apply(pd.Series)\n",
    ")\n",
    "\n",
    "geo_block"
   ]
  },
  {
   "cell_type": "markdown",
   "metadata": {},
   "source": [
    "Categorization of the `geo_block` feature"
   ]
  },
  {
   "cell_type": "code",
   "execution_count": 12,
   "metadata": {},
   "outputs": [
    {
     "name": "stdout",
     "output_type": "stream",
     "text": [
      "geo_block_0\n",
      "г. Москва             29049\n",
      "Новая Москва           4531\n",
      "г. Зеленоград           318\n",
      "п. Свиблово             138\n",
      "п. Некрасовка           134\n",
      "п. Новобратцевский        3\n",
      "п. Крюково                1\n",
      "п. Главмосстроя           1\n",
      "п. Рублево                1\n",
      "п. Алабушево              1\n",
      "д. Сколково               1\n",
      "п. Подушкино              1\n",
      "пгт Акулово               1\n",
      "Name: geo_block_0, dtype: int64\n",
      "====================================================================================================\n",
      "\n",
      "geo_block_1\n",
      "п. Сосенское              2522\n",
      "Хорошёво-Мнёвники         1142\n",
      "Филёвский Парк             945\n",
      "п. Московский              919\n",
      "Ховрино                    829\n",
      "Раменки                    811\n",
      "Люблино                    666\n",
      "Некрасовка                 654\n",
      "Кунцево                    537\n",
      "Орехово-Борисово Южное     534\n",
      "ул Дыбенко                 525\n",
      "Выхино-Жулебино            496\n",
      "Зябликово                  492\n",
      "ул Лобачевского            442\n",
      "п. Внуковское              430\n",
      "Рязанский                  425\n",
      "Марьино                    407\n",
      "Пресненский                378\n",
      "Лефортово                  374\n",
      "пр-кт Мира                 337\n",
      "Name: geo_block_1, dtype: int64\n",
      "====================================================================================================\n",
      "\n",
      "geo_block_2\n",
      "п. Коммунарка               1720\n",
      "г. Москва                   1082\n",
      "ул Верхние Поля              596\n",
      "ул Дыбенко                   540\n",
      "ул Лобачевского              540\n",
      "д. Николо-Хованское          522\n",
      "г. Московский                505\n",
      "ул Поляны                    231\n",
      "ул Берзарина                 193\n",
      "д. Румянцево                 160\n",
      "ул Золоторожский Вал         144\n",
      "ул Римского-Корсакова        132\n",
      "с. Остафьево                 125\n",
      "д. Староселье                113\n",
      "ул Красная Сосна             101\n",
      "ул Академика Павлова          96\n",
      "пр-кт Академика Сахарова      87\n",
      "ул Генерала Белова            86\n",
      "д. Столбово                   71\n",
      "ул Зорге                      57\n",
      "Name: geo_block_2, dtype: int64\n",
      "====================================================================================================\n",
      "\n",
      "geo_block_3\n",
      "Южное Бутово          1227\n",
      "Тропарёво-Никулино     509\n",
      "Тёплый Стан            436\n",
      "д. 32                   33\n",
      "д. 16                    4\n",
      "СП Сосенское             4\n",
      "д. 3                     4\n",
      "д. 8                     4\n",
      "д. 7, к. 2               3\n",
      "СП Московский            3\n",
      "СП Щаповское             3\n",
      "д. 11, к. 2              3\n",
      "д. 18                    3\n",
      "ул Радужная              3\n",
      "д. 19, к. 1              2\n",
      "д. 5                     2\n",
      "СП Первомайское          2\n",
      "д. 34                    2\n",
      "д. 12                    2\n",
      "ул Нагорная              2\n",
      "Name: geo_block_3, dtype: int64\n",
      "====================================================================================================\n",
      "\n",
      "geo_block_4\n",
      "ул Радужная                2\n",
      "ул Сосенский Стан          1\n",
      "мкр Родники                1\n",
      "ул Александры Монаховой    1\n",
      "ул Фитаревская             1\n",
      "д. 37                      1\n",
      "ул Лазурная                1\n",
      "проезд Пинский             1\n",
      "ул Трофимова               1\n",
      "Name: geo_block_4, dtype: int64\n",
      "====================================================================================================\n",
      "\n",
      "geo_block_5\n",
      "д. 3    2\n",
      "Name: geo_block_5, dtype: int64\n",
      "====================================================================================================\n",
      "\n"
     ]
    }
   ],
   "source": [
    "\n",
    "for feat in geo_block.columns:\n",
    "    print(feat)\n",
    "    print(geo_block[feat].value_counts().head(20))\n",
    "    print(\"=\"*100)\n",
    "    print()\n",
    "    \n",
    "\n",
    "    df[\"{}_cat\".format(feat)] = geo_block[feat].factorize()[0]"
   ]
  },
  {
   "cell_type": "code",
   "execution_count": 13,
   "metadata": {
    "scrolled": true
   },
   "outputs": [
    {
     "data": {
      "text/plain": [
       "['geo_block_0_cat',\n",
       " 'geo_block_1_cat',\n",
       " 'geo_block_2_cat',\n",
       " 'geo_block_3_cat',\n",
       " 'geo_block_4_cat',\n",
       " 'geo_block_5_cat']"
      ]
     },
     "execution_count": 13,
     "metadata": {},
     "output_type": "execute_result"
    }
   ],
   "source": [
    "geo_cat_feats = [x for x in df.columns if \"geo_block\" in x and \"_cat\" in x]\n",
    "geo_cat_feats"
   ]
  },
  {
   "cell_type": "markdown",
   "metadata": {},
   "source": [
    "### Check result"
   ]
  },
  {
   "cell_type": "code",
   "execution_count": 14,
   "metadata": {},
   "outputs": [
    {
     "data": {
      "text/plain": [
       "(3.25358809911422, 0.3150982251982633)"
      ]
     },
     "execution_count": 14,
     "metadata": {},
     "output_type": "execute_result"
    }
   ],
   "source": [
    "feats = [\"area\", \"kitchen_area\"] + geo_cat_feats + cat_feats\n",
    "\n",
    "check_log_model(df, feats, xgb.XGBRegressor(max_depth=5, n_estimators=50, learning_rate=0.3, random_state=0))"
   ]
  },
  {
   "cell_type": "markdown",
   "metadata": {},
   "source": [
    "### Breadcrumbs \n"
   ]
  },
  {
   "cell_type": "code",
   "execution_count": 15,
   "metadata": {},
   "outputs": [
    {
     "data": {
      "text/html": [
       "<div>\n",
       "<style scoped>\n",
       "    .dataframe tbody tr th:only-of-type {\n",
       "        vertical-align: middle;\n",
       "    }\n",
       "\n",
       "    .dataframe tbody tr th {\n",
       "        vertical-align: top;\n",
       "    }\n",
       "\n",
       "    .dataframe thead th {\n",
       "        text-align: right;\n",
       "    }\n",
       "</style>\n",
       "<table border=\"1\" class=\"dataframe\">\n",
       "  <thead>\n",
       "    <tr style=\"text-align: right;\">\n",
       "      <th></th>\n",
       "      <th>breadcrumbs_0</th>\n",
       "      <th>breadcrumbs_1</th>\n",
       "      <th>breadcrumbs_2</th>\n",
       "      <th>breadcrumbs_3</th>\n",
       "      <th>breadcrumbs_4</th>\n",
       "      <th>breadcrumbs_5</th>\n",
       "      <th>breadcrumbs_6</th>\n",
       "      <th>breadcrumbs_7</th>\n",
       "    </tr>\n",
       "  </thead>\n",
       "  <tbody>\n",
       "    <tr>\n",
       "      <th>0</th>\n",
       "      <td>Москва</td>\n",
       "      <td>Лианозово</td>\n",
       "      <td>м. Алтуфьево</td>\n",
       "      <td>МЦК Лихоборы</td>\n",
       "      <td>NaN</td>\n",
       "      <td>NaN</td>\n",
       "      <td>NaN</td>\n",
       "      <td>NaN</td>\n",
       "    </tr>\n",
       "    <tr>\n",
       "      <th>1</th>\n",
       "      <td>Москва</td>\n",
       "      <td>Ховрино</td>\n",
       "      <td>м. Ховрино</td>\n",
       "      <td>МЦК Коптево</td>\n",
       "      <td>NaN</td>\n",
       "      <td>NaN</td>\n",
       "      <td>NaN</td>\n",
       "      <td>NaN</td>\n",
       "    </tr>\n",
       "    <tr>\n",
       "      <th>2</th>\n",
       "      <td>Москва</td>\n",
       "      <td>МЦК Кутузовская</td>\n",
       "      <td>ул. Лобачевского</td>\n",
       "      <td>NaN</td>\n",
       "      <td>NaN</td>\n",
       "      <td>NaN</td>\n",
       "      <td>NaN</td>\n",
       "      <td>NaN</td>\n",
       "    </tr>\n",
       "    <tr>\n",
       "      <th>3</th>\n",
       "      <td>Москва</td>\n",
       "      <td>Ховрино</td>\n",
       "      <td>м. Ховрино</td>\n",
       "      <td>МЦК Коптево</td>\n",
       "      <td>ул. Дыбенко</td>\n",
       "      <td>NaN</td>\n",
       "      <td>NaN</td>\n",
       "      <td>NaN</td>\n",
       "    </tr>\n",
       "    <tr>\n",
       "      <th>4</th>\n",
       "      <td>Москва</td>\n",
       "      <td>Даниловский</td>\n",
       "      <td>м. Автозаводская</td>\n",
       "      <td>МЦК Автозаводская</td>\n",
       "      <td>NaN</td>\n",
       "      <td>NaN</td>\n",
       "      <td>NaN</td>\n",
       "      <td>NaN</td>\n",
       "    </tr>\n",
       "    <tr>\n",
       "      <th>...</th>\n",
       "      <td>...</td>\n",
       "      <td>...</td>\n",
       "      <td>...</td>\n",
       "      <td>...</td>\n",
       "      <td>...</td>\n",
       "      <td>...</td>\n",
       "      <td>...</td>\n",
       "      <td>...</td>\n",
       "    </tr>\n",
       "    <tr>\n",
       "      <th>11443</th>\n",
       "      <td>Москва</td>\n",
       "      <td>МЦК Кутузовская</td>\n",
       "      <td>NaN</td>\n",
       "      <td>NaN</td>\n",
       "      <td>NaN</td>\n",
       "      <td>NaN</td>\n",
       "      <td>NaN</td>\n",
       "      <td>NaN</td>\n",
       "    </tr>\n",
       "    <tr>\n",
       "      <th>11444</th>\n",
       "      <td>Москва</td>\n",
       "      <td>Хорошёво-Мнёвники</td>\n",
       "      <td>м. Октябрьское поле</td>\n",
       "      <td>МЦК Зорге</td>\n",
       "      <td>NaN</td>\n",
       "      <td>NaN</td>\n",
       "      <td>NaN</td>\n",
       "      <td>NaN</td>\n",
       "    </tr>\n",
       "    <tr>\n",
       "      <th>11445</th>\n",
       "      <td>Москва</td>\n",
       "      <td>Ховрино</td>\n",
       "      <td>м. Ховрино</td>\n",
       "      <td>МЦК Коптево</td>\n",
       "      <td>NaN</td>\n",
       "      <td>NaN</td>\n",
       "      <td>NaN</td>\n",
       "      <td>NaN</td>\n",
       "    </tr>\n",
       "    <tr>\n",
       "      <th>11446</th>\n",
       "      <td>Москва</td>\n",
       "      <td>Новая Москва</td>\n",
       "      <td>п. Внуковское</td>\n",
       "      <td>МЦК Кутузовская</td>\n",
       "      <td>NaN</td>\n",
       "      <td>NaN</td>\n",
       "      <td>NaN</td>\n",
       "      <td>NaN</td>\n",
       "    </tr>\n",
       "    <tr>\n",
       "      <th>11447</th>\n",
       "      <td>Москва</td>\n",
       "      <td>Ярославский</td>\n",
       "      <td>МЦК Ростокино</td>\n",
       "      <td>ул. Красная Сосна</td>\n",
       "      <td>NaN</td>\n",
       "      <td>NaN</td>\n",
       "      <td>NaN</td>\n",
       "      <td>NaN</td>\n",
       "    </tr>\n",
       "  </tbody>\n",
       "</table>\n",
       "<p>34180 rows × 8 columns</p>\n",
       "</div>"
      ],
      "text/plain": [
       "      breadcrumbs_0      breadcrumbs_1        breadcrumbs_2  \\\n",
       "0            Москва          Лианозово         м. Алтуфьево   \n",
       "1            Москва            Ховрино           м. Ховрино   \n",
       "2            Москва    МЦК Кутузовская     ул. Лобачевского   \n",
       "3            Москва            Ховрино           м. Ховрино   \n",
       "4            Москва        Даниловский     м. Автозаводская   \n",
       "...             ...                ...                  ...   \n",
       "11443        Москва    МЦК Кутузовская                  NaN   \n",
       "11444        Москва  Хорошёво-Мнёвники  м. Октябрьское поле   \n",
       "11445        Москва            Ховрино           м. Ховрино   \n",
       "11446        Москва       Новая Москва        п. Внуковское   \n",
       "11447        Москва        Ярославский        МЦК Ростокино   \n",
       "\n",
       "           breadcrumbs_3 breadcrumbs_4 breadcrumbs_5 breadcrumbs_6  \\\n",
       "0           МЦК Лихоборы           NaN           NaN           NaN   \n",
       "1            МЦК Коптево           NaN           NaN           NaN   \n",
       "2                    NaN           NaN           NaN           NaN   \n",
       "3            МЦК Коптево   ул. Дыбенко           NaN           NaN   \n",
       "4      МЦК Автозаводская           NaN           NaN           NaN   \n",
       "...                  ...           ...           ...           ...   \n",
       "11443                NaN           NaN           NaN           NaN   \n",
       "11444          МЦК Зорге           NaN           NaN           NaN   \n",
       "11445        МЦК Коптево           NaN           NaN           NaN   \n",
       "11446    МЦК Кутузовская           NaN           NaN           NaN   \n",
       "11447  ул. Красная Сосна           NaN           NaN           NaN   \n",
       "\n",
       "      breadcrumbs_7  \n",
       "0               NaN  \n",
       "1               NaN  \n",
       "2               NaN  \n",
       "3               NaN  \n",
       "4               NaN  \n",
       "...             ...  \n",
       "11443           NaN  \n",
       "11444           NaN  \n",
       "11445           NaN  \n",
       "11446           NaN  \n",
       "11447           NaN  \n",
       "\n",
       "[34180 rows x 8 columns]"
      ]
     },
     "execution_count": 15,
     "metadata": {},
     "output_type": "execute_result"
    }
   ],
   "source": [
    "breadcrumbs = (\n",
    "    df[\"breadcrumbs\"]\n",
    "        .map(lambda x: {\"breadcrumbs_{}\".format(idx):val for idx,val in enumerate(x) })\n",
    "        .apply(pd.Series)\n",
    ")\n",
    "\n",
    "breadcrumbs"
   ]
  },
  {
   "cell_type": "markdown",
   "metadata": {},
   "source": [
    "Categorization of the `breadcrumbs` feature"
   ]
  },
  {
   "cell_type": "code",
   "execution_count": 16,
   "metadata": {},
   "outputs": [
    {
     "name": "stdout",
     "output_type": "stream",
     "text": [
      "breadcrumbs_0\n",
      "Москва    34180\n",
      "Name: breadcrumbs_0, dtype: int64\n",
      "====================================================================================================\n",
      "\n",
      "breadcrumbs_1\n",
      "Новая Москва              4531\n",
      "МЦК Лужники               1245\n",
      "МЦК Кутузовская           1237\n",
      "Хорошёво-Мнёвники         1142\n",
      "Филёвский Парк             945\n",
      "МЦК Крымская               932\n",
      "МЦК Шелепиха               842\n",
      "Ховрино                    829\n",
      "Раменки                    811\n",
      "МЦК Коптево                800\n",
      "Люблино                    666\n",
      "МЦК Хорошёво               633\n",
      "Некрасовка                 608\n",
      "МЦК Нижегородская          564\n",
      "МЦК Лихоборы               549\n",
      "Кунцево                    537\n",
      "Орехово-Борисово Южное     534\n",
      "Выхино-Жулебино            494\n",
      "Зябликово                  492\n",
      "МЦК Ростокино              453\n",
      "Name: breadcrumbs_1, dtype: int64\n",
      "====================================================================================================\n",
      "\n",
      "breadcrumbs_2\n",
      "п. Сосенское             2522\n",
      "п. Московский             919\n",
      "м. Октябрьское поле       864\n",
      "м. Выхино                 856\n",
      "м. Ховрино                829\n",
      "м. Братиславская          649\n",
      "м. Рязанский проспект     600\n",
      "м. Пятницкое шоссе        558\n",
      "м. Фили                   548\n",
      "м. Раменки                545\n",
      "м. Домодедовская          535\n",
      "ул. Дыбенко               525\n",
      "м. Ботанический сад       483\n",
      "м. Зябликово              455\n",
      "м. Молодежная             455\n",
      "п. Внуковское             430\n",
      "м. Люблино                399\n",
      "ул. Лобачевского          386\n",
      "м. Селигерская            377\n",
      "пр-кт. Мира               337\n",
      "Name: breadcrumbs_2, dtype: int64\n",
      "====================================================================================================\n",
      "\n",
      "breadcrumbs_3\n",
      "п. Коммунарка            1720\n",
      "МЦК Шелепиха             1640\n",
      "МЦК Крымская             1507\n",
      "МЦК Кутузовская          1410\n",
      "МЦК ЗИЛ                  1137\n",
      "МЦК Шоссе Энтузиастов     995\n",
      "МЦК Коптево               938\n",
      "МЦК Угрешская             925\n",
      "МЦК Владыкино             818\n",
      "МЦК Хорошёво              756\n",
      "МЦК Нижегородская         646\n",
      "МЦК Ботанический сад      627\n",
      "МЦК Лужники               616\n",
      "МЦК Зорге                 606\n",
      "МЦК Лихоборы              574\n",
      "д. Николо-Хованское       522\n",
      "г. Московский             505\n",
      "МЦК Балтийская            432\n",
      "МЦК Андроновка            385\n",
      "МЦК Стрешнево             307\n",
      "Name: breadcrumbs_3, dtype: int64\n",
      "====================================================================================================\n",
      "\n",
      "breadcrumbs_4\n",
      "Южное Бутово                 1197\n",
      "МЦК Крымская                 1030\n",
      "ул. Верхние Поля              595\n",
      "ул. Дыбенко                   540\n",
      "ул. Лобачевского              539\n",
      "Тропарёво-Никулино            506\n",
      "Тёплый Стан                   405\n",
      "ул. Поляны                    231\n",
      "ул. Берзарина                 193\n",
      "МЦК Лужники                   184\n",
      "МЦК Балтийская                164\n",
      "ул. Золоторожский Вал         144\n",
      "МЦК Ботанический сад          138\n",
      "ул. Римского-Корсакова        132\n",
      "ул. Академика Павлова          96\n",
      "пр-кт. Академика Сахарова      87\n",
      "ул. Генерала Белова            86\n",
      "МЦК Кутузовская                85\n",
      "МЦК Шоссе Энтузиастов          48\n",
      "м. Теплый Стан                 47\n",
      "Name: breadcrumbs_4, dtype: int64\n",
      "====================================================================================================\n",
      "\n",
      "breadcrumbs_5\n",
      "м. Бунинская Аллея             1198\n",
      "м. Саларьево                    504\n",
      "м. Теплый Стан                  409\n",
      "МЦК Крымская                     64\n",
      "МЦК Кутузовская                   3\n",
      "м. Румянцево                      3\n",
      "м. Марьино                        2\n",
      "ул. Радужная                      2\n",
      "ул. Нагорная                      2\n",
      "МЦК Лужники                       1\n",
      "м. Лермонтовский проспект         1\n",
      "м. Аннино                         1\n",
      "м. Бульвар Дмитрия Донского       1\n",
      "м. Улица Скобелевская             1\n",
      "м. Войковская                     1\n",
      "ул. Заречная                      1\n",
      "м. Смоленская                     1\n",
      "ул. Бианки                        1\n",
      "м. Автозаводская                  1\n",
      "м. Сокольники                     1\n",
      "Name: breadcrumbs_5, dtype: int64\n",
      "====================================================================================================\n",
      "\n",
      "breadcrumbs_6\n",
      "МЦК Крымская             2068\n",
      "МЦК Лужники                42\n",
      "МЦК Кутузовская             3\n",
      "МЦК ЗИЛ                     2\n",
      "МЦК Измайлово               1\n",
      "МЦК Ботанический сад        1\n",
      "МЦК Стрешнево               1\n",
      "МЦК Автозаводская           1\n",
      "ул. Сосенский Стан          1\n",
      "МЦК Дубровка                1\n",
      "мкр. Родники                1\n",
      "МЦК Шоссе Энтузиастов       1\n",
      "ул. Лазурная                1\n",
      "ул. Радужная                1\n",
      "МЦК Балтийская              1\n",
      "ул. Фитаревская             1\n",
      "Name: breadcrumbs_6, dtype: int64\n",
      "====================================================================================================\n",
      "\n",
      "breadcrumbs_7\n",
      "ул. Трофимова               1\n",
      "ул. Александры Монаховой    1\n",
      "проезд. Пинский             1\n",
      "Name: breadcrumbs_7, dtype: int64\n",
      "====================================================================================================\n",
      "\n"
     ]
    }
   ],
   "source": [
    "for feat in breadcrumbs.columns:\n",
    "    print(feat)\n",
    "    print(breadcrumbs[feat].value_counts().head(20))\n",
    "    print(\"=\"*100)\n",
    "    print()\n",
    "    \n",
    "\n",
    "    df[\"{}_cat\".format(feat)] = breadcrumbs[feat].factorize()[0]"
   ]
  },
  {
   "cell_type": "code",
   "execution_count": 17,
   "metadata": {},
   "outputs": [
    {
     "data": {
      "text/plain": [
       "['breadcrumbs_0_cat',\n",
       " 'breadcrumbs_1_cat',\n",
       " 'breadcrumbs_2_cat',\n",
       " 'breadcrumbs_3_cat',\n",
       " 'breadcrumbs_4_cat',\n",
       " 'breadcrumbs_5_cat',\n",
       " 'breadcrumbs_6_cat',\n",
       " 'breadcrumbs_7_cat']"
      ]
     },
     "execution_count": 17,
     "metadata": {},
     "output_type": "execute_result"
    }
   ],
   "source": [
    "breadcrumbs_cat_feats = [x for x in df.columns if \"breadcrumbs\" in x and \"_cat\" in x]\n",
    "breadcrumbs_cat_feats"
   ]
  },
  {
   "cell_type": "markdown",
   "metadata": {},
   "source": [
    "A selection of the 7 best features from `breadcrumbs`. "
   ]
  },
  {
   "cell_type": "code",
   "execution_count": 18,
   "metadata": {},
   "outputs": [],
   "source": [
    "beast_feats = ['Общая площадь:_cat',\n",
    " 'Класс жилья:_cat',\n",
    " 'Этаж:_cat',\n",
    " 'Количество комнат:_cat',\n",
    " 'Высота потолков:_cat',\n",
    " 'Дата публикации:_cat',\n",
    " 'Тип балкона:_cat',\n",
    " 'Застройщик:_cat',\n",
    " 'Парковка:_cat',\n",
    " 'Количество квартир:_cat',\n",
    " 'Количество этажей:_cat',\n",
    " 'Площадь кухни:_cat',\n",
    " 'Жилая комната:_cat',\n",
    " 'Охрана:_cat',\n",
    " 'Тип здания:_cat',\n",
    " 'Год постройки:_cat',\n",
    " 'Сдача:_cat'\n",
    "              ]"
   ]
  },
  {
   "cell_type": "markdown",
   "metadata": {},
   "source": [
    "### Check result"
   ]
  },
  {
   "cell_type": "code",
   "execution_count": 19,
   "metadata": {},
   "outputs": [
    {
     "data": {
      "text/plain": [
       "(3.2406849416154246, 0.3516361939626481)"
      ]
     },
     "execution_count": 19,
     "metadata": {},
     "output_type": "execute_result"
    }
   ],
   "source": [
    "feats = [\"area\", \"kitchen_area\"] + geo_cat_feats + beast_feats;\n",
    "check_log_model(df, feats, xgb.XGBRegressor(max_depth=10, n_estimators=50, learning_rate=0.3, random_state=0))"
   ]
  },
  {
   "cell_type": "markdown",
   "metadata": {},
   "source": [
    "## Floor"
   ]
  },
  {
   "cell_type": "code",
   "execution_count": 20,
   "metadata": {},
   "outputs": [],
   "source": [
    "def parse_floor(val):\n",
    "    if isinstance(val, int): return val\n",
    "    if isinstance(val, str):\n",
    "        return val.split('/')[0]\n",
    "    return val"
   ]
  },
  {
   "cell_type": "code",
   "execution_count": 21,
   "metadata": {},
   "outputs": [],
   "source": [
    "df[\"floor\"] = df[\"Этаж:\"].map(parse_floor)\n",
    "df[\"floor\"] = df[\"floor\"].astype(str).astype(float)"
   ]
  },
  {
   "cell_type": "markdown",
   "metadata": {},
   "source": [
    "## Check result"
   ]
  },
  {
   "cell_type": "code",
   "execution_count": 22,
   "metadata": {},
   "outputs": [
    {
     "data": {
      "text/plain": [
       "(3.188459923371516, 0.3164262501583159)"
      ]
     },
     "execution_count": 22,
     "metadata": {},
     "output_type": "execute_result"
    }
   ],
   "source": [
    "feats = [\"area\", \"kitchen_area\",\"floor\"] + geo_cat_feats + beast_feats;\n",
    "check_log_model(df, feats, xgb.XGBRegressor(max_depth=10, n_estimators=50, learning_rate=0.3, random_state=0))"
   ]
  },
  {
   "cell_type": "markdown",
   "metadata": {},
   "source": [
    "## Metro station"
   ]
  },
  {
   "cell_type": "code",
   "execution_count": 23,
   "metadata": {},
   "outputs": [],
   "source": [
    "def get_metro_station(row):\n",
    "        for i in row:\n",
    "            if 'МЦК' in i:\n",
    "                return i"
   ]
  },
  {
   "cell_type": "code",
   "execution_count": 24,
   "metadata": {},
   "outputs": [],
   "source": [
    "metro_station = (\n",
    "    df[\"breadcrumbs\"]\n",
    "        .map(lambda x: get_metro_station(x))\n",
    "        .apply(pd.Series)\n",
    ")\n",
    "metro_station.columns = ['metro_station_name']"
   ]
  },
  {
   "cell_type": "code",
   "execution_count": 25,
   "metadata": {},
   "outputs": [],
   "source": [
    "df[\"metro_station_cat\"] = metro_station.apply(lambda x : pd.factorize(x)[0])"
   ]
  },
  {
   "cell_type": "markdown",
   "metadata": {},
   "source": [
    "## Check result"
   ]
  },
  {
   "cell_type": "code",
   "execution_count": 27,
   "metadata": {},
   "outputs": [
    {
     "data": {
      "text/plain": [
       "(3.09804353293389, 0.3370788557053665)"
      ]
     },
     "execution_count": 27,
     "metadata": {},
     "output_type": "execute_result"
    }
   ],
   "source": [
    "feats = [\"area\", \"kitchen_area\",\"floor\",\"metro_station_cat\"] + geo_cat_feats + beast_feats;\n",
    "check_log_model(df, feats, xgb.XGBRegressor(max_depth=10, n_estimators=50, learning_rate=0.3, random_state=0))"
   ]
  },
  {
   "cell_type": "markdown",
   "metadata": {},
   "source": [
    "## Importance of features "
   ]
  },
  {
   "cell_type": "code",
   "execution_count": 28,
   "metadata": {},
   "outputs": [],
   "source": [
    "feats = [\"area\", \"kitchen_area\", \"floor\"] + geo_cat_feats + beast_feats+breadcrumbs_cat_feats;\n",
    "\n",
    "df_train = df[ ~df[\"price\"].isnull() ].copy()\n",
    "df_test = df[ df[\"price\"].isnull() ].copy()\n",
    "\n",
    "X_train = df_train[feats]\n",
    "y_train = df_train[\"price\"]"
   ]
  },
  {
   "cell_type": "code",
   "execution_count": 29,
   "metadata": {},
   "outputs": [
    {
     "name": "stdout",
     "output_type": "stream",
     "text": [
      " 1) area                           0.342180\n",
      " 2) Класс жилья:_cat               0.322520\n",
      " 3) breadcrumbs_5_cat              0.035477\n",
      " 4) Количество комнат:_cat         0.030725\n",
      " 5) Количество квартир:_cat        0.030684\n",
      " 6) Парковка:_cat                  0.024787\n",
      " 7) Охрана:_cat                    0.024734\n",
      " 8) Застройщик:_cat                0.023006\n",
      " 9) geo_block_1_cat                0.019634\n",
      "10) breadcrumbs_1_cat              0.018375\n",
      "11) geo_block_0_cat                0.017576\n",
      "12) floor                          0.016939\n",
      "13) breadcrumbs_3_cat              0.013221\n",
      "14) Площадь кухни:_cat             0.010582\n",
      "15) Количество этажей:_cat         0.008187\n",
      "16) Высота потолков:_cat           0.007632\n",
      "17) breadcrumbs_2_cat              0.007148\n",
      "18) Этаж:_cat                      0.006604\n",
      "19) Год постройки:_cat             0.005890\n",
      "20) Тип здания:_cat                0.005276\n",
      "21) Сдача:_cat                     0.004969\n",
      "22) Тип балкона:_cat               0.004702\n",
      "23) Общая площадь:_cat             0.004314\n",
      "24) breadcrumbs_4_cat              0.003930\n",
      "25) Жилая комната:_cat             0.003172\n",
      "26) Дата публикации:_cat           0.002652\n",
      "27) kitchen_area                   0.002357\n",
      "28) geo_block_2_cat                0.001218\n",
      "29) geo_block_3_cat                0.000976\n",
      "30) breadcrumbs_6_cat              0.000428\n",
      "31) geo_block_4_cat                0.000108\n",
      "32) geo_block_5_cat                0.000000\n",
      "33) breadcrumbs_0_cat              0.000000\n",
      "34) breadcrumbs_7_cat              0.000000\n"
     ]
    },
    {
     "data": {
      "image/png": "[encoded data removed]",
      "text/plain": [
       "<Figure size 720x360 with 1 Axes>"
      ]
     },
     "metadata": {
      "needs_background": "light"
     },
     "output_type": "display_data"
    }
   ],
   "source": [
    "#feat = x_train.columns[1:]\n",
    "model = xgb.XGBRegressor(max_depth=10, n_estimators=50, learning_rate=0.3, random_state=0)\n",
    "model.fit(X_train, y_train)\n",
    "importance = model.feature_importances_\n",
    "index = np.argsort(importance)[::-1]\n",
    "\n",
    "for f in range(X_train.shape[1]):\n",
    "    print(\"%2d) %-*s %f\" % (f+1, 30, feats[index[f]],importance[index[f]]))\n",
    " \n",
    "    \n",
    "plt.figure(figsize=(10,5))    \n",
    "plt.title('Feature importance')\n",
    "plt.bar(range(X_train.shape[1]), importance[index], align='center')\n",
    "#plt.xticks(range(x_train.shape[1]), feats[index], rotation=90)\n",
    "plt.xlim([-1, X_train.shape[1]])\n",
    "plt.tight_layout()\n",
    "plt.show()"
   ]
  },
  {
   "cell_type": "code",
   "execution_count": 30,
   "metadata": {},
   "outputs": [
    {
     "data": {
      "text/plain": [
       "['area',\n",
       " 'Класс жилья:_cat',\n",
       " 'breadcrumbs_5_cat',\n",
       " 'Количество комнат:_cat',\n",
       " 'Количество квартир:_cat',\n",
       " 'Парковка:_cat',\n",
       " 'Охрана:_cat',\n",
       " 'Застройщик:_cat',\n",
       " 'geo_block_1_cat',\n",
       " 'breadcrumbs_1_cat',\n",
       " 'geo_block_0_cat',\n",
       " 'floor',\n",
       " 'breadcrumbs_3_cat',\n",
       " 'Площадь кухни:_cat',\n",
       " 'Количество этажей:_cat',\n",
       " 'Высота потолков:_cat',\n",
       " 'breadcrumbs_2_cat']"
      ]
     },
     "execution_count": 30,
     "metadata": {},
     "output_type": "execute_result"
    }
   ],
   "source": [
    "best_feats=[]\n",
    "for f in range(X_train.shape[1]):\n",
    "    if importance[index[f]] > 0.007:\n",
    "        best_feats.append(feats[index[f]])\n",
    "#best_feats.append('intercept')\n",
    "best_feats"
   ]
  },
  {
   "cell_type": "markdown",
   "metadata": {},
   "source": [
    "### Check results"
   ]
  },
  {
   "cell_type": "code",
   "execution_count": 31,
   "metadata": {},
   "outputs": [
    {
     "data": {
      "text/plain": [
       "(3.0877903228333987, 0.3557645416840162)"
      ]
     },
     "execution_count": 31,
     "metadata": {},
     "output_type": "execute_result"
    }
   ],
   "source": [
    "check_log_model(df, best_feats, xgb.XGBRegressor(max_depth=5, n_estimators=50, learning_rate=0.3, random_state=0))"
   ]
  },
  {
   "cell_type": "markdown",
   "metadata": {},
   "source": [
    "### Optimization of hyperparameters "
   ]
  },
  {
   "cell_type": "code",
   "execution_count": 32,
   "metadata": {},
   "outputs": [],
   "source": [
    "xgb_parameters = {\n",
    "                'n_estimators' : randint(50, 500),\n",
    "                'max_depth' : randint(2, 10),\n",
    "                'learning_rate' : uniform(loc = 0, scale = 1),\n",
    "                'gamma' : uniform(loc = 0, scale = 1),\n",
    "                'min_child_weight' : randint(1, 5),\n",
    "                'subsample': uniform(loc = 0, scale = 1),\n",
    "                'colsample_bytree': uniform(loc = 0, scale = 1),\n",
    "                'reg_alpha' : uniform(loc = 0, scale = 1),\n",
    "                'reg_lambda' : uniform(loc = 0, scale = 1),    \n",
    "                'booster' : ['gbtree', 'gblinear', 'dart'],\n",
    "                'n_jobs' : [2]\n",
    "                }"
   ]
  },
  {
   "cell_type": "code",
   "execution_count": 33,
   "metadata": {},
   "outputs": [],
   "source": [
    "def random_optimization_hp(x, y, hyperparameters, model, n_iter=20, n_jobs = 2, cv = 5):\n",
    "\n",
    "    rs = RandomizedSearchCV(model, hyperparameters, n_iter = n_iter, n_jobs = n_jobs, cv = cv)\n",
    "    rs.fit(x, y.values.ravel())\n",
    "    selected_parameters  = rs.best_params_\n",
    "    return selected_parameters;\n"
   ]
  },
  {
   "cell_type": "code",
   "execution_count": 34,
   "metadata": {},
   "outputs": [
    {
     "data": {
      "text/plain": [
       "'\\n#hiding the code because it takes a very long code execution \\nX_train = df_train[best_feats]\\ny_train = df_train[\"price\"]\\n\\nselected_parameters_xgb = random_optimization_hp(X_train, y_train, xgb_parameters, xgb.XGBRegressor(), n_iter=20, n_jobs = 2, cv = 5)\\n'"
      ]
     },
     "execution_count": 34,
     "metadata": {},
     "output_type": "execute_result"
    }
   ],
   "source": [
    "\"\"\"\n",
    "#hiding the code because it takes a very long code execution \n",
    "X_train = df_train[best_feats]\n",
    "y_train = df_train[\"price\"]\n",
    "\n",
    "selected_parameters_xgb = random_optimization_hp(X_train, y_train, xgb_parameters, xgb.XGBRegressor(), n_iter=20, n_jobs = 2, cv = 5)\n",
    "\"\"\""
   ]
  },
  {
   "cell_type": "code",
   "execution_count": 35,
   "metadata": {},
   "outputs": [],
   "source": [
    "#The assignment of a permanent because it takes a very long code execution \n",
    "selected_parameters_xgb = {'booster': 'dart',\n",
    " 'colsample_bytree': 0.7340410495604391,\n",
    " 'gamma': 0.975366505482443,\n",
    " 'learning_rate': 0.2635680991605569,\n",
    " 'max_depth': 6,\n",
    " 'min_child_weight': 2,\n",
    " 'n_estimators': 326,\n",
    " 'n_jobs': 2,\n",
    " 'reg_alpha': 0.6642504942329533,\n",
    " 'reg_lambda': 0.08488834287883062,\n",
    " 'subsample': 0.8268881729914456}"
   ]
  },
  {
   "cell_type": "code",
   "execution_count": 36,
   "metadata": {},
   "outputs": [
    {
     "data": {
      "text/plain": [
       "{'booster': 'dart',\n",
       " 'colsample_bytree': 0.7340410495604391,\n",
       " 'gamma': 0.975366505482443,\n",
       " 'learning_rate': 0.2635680991605569,\n",
       " 'max_depth': 6,\n",
       " 'min_child_weight': 2,\n",
       " 'n_estimators': 326,\n",
       " 'n_jobs': 2,\n",
       " 'reg_alpha': 0.6642504942329533,\n",
       " 'reg_lambda': 0.08488834287883062,\n",
       " 'subsample': 0.8268881729914456}"
      ]
     },
     "execution_count": 36,
     "metadata": {},
     "output_type": "execute_result"
    }
   ],
   "source": [
    "selected_parameters_xgb"
   ]
  },
  {
   "cell_type": "markdown",
   "metadata": {},
   "source": [
    "### Check results"
   ]
  },
  {
   "cell_type": "code",
   "execution_count": 37,
   "metadata": {},
   "outputs": [
    {
     "data": {
      "text/plain": [
       "(3.0877903228333987, 0.3557645416840162)"
      ]
     },
     "execution_count": 37,
     "metadata": {},
     "output_type": "execute_result"
    }
   ],
   "source": [
    "check_log_model(df, best_feats, xgb.XGBRegressor(**selected_parameters_xgb))"
   ]
  },
  {
   "cell_type": "markdown",
   "metadata": {},
   "source": [
    "## Summary of reasult for best features"
   ]
  },
  {
   "cell_type": "code",
   "execution_count": 38,
   "metadata": {},
   "outputs": [],
   "source": [
    "feats = best_feats\n",
    "\n",
    "df_train = df[ ~df[\"price\"].isnull() ].copy()\n",
    "df_test = df[ df[\"price\"].isnull() ].copy()\n",
    "\n",
    "X_train = df_train[feats]\n",
    "y_train = df_train[\"price\"]\n",
    "y_log_train = np.log(y_train)\n",
    "\n",
    "X_test = df_test[feats]\n",
    "\n",
    "model = xgb.XGBRegressor(**selected_parameters_xgb)\n",
    "model.fit(X_train, y_log_train)\n",
    "y_log_pred = model.predict(X_test)\n",
    "y_pred = np.exp(y_log_pred)\n"
   ]
  },
  {
   "cell_type": "markdown",
   "metadata": {},
   "source": [
    "## Creat a result file "
   ]
  },
  {
   "cell_type": "code",
   "execution_count": 39,
   "metadata": {},
   "outputs": [],
   "source": [
    "#save the data to a file \n",
    "\n",
    "df_test[\"price\"] = y_pred\n",
    "df_test[ [\"id\", \"price\"] ].to_csv(\"../output/xgb_location_log_area.csv\", index=False)"
   ]
  }
 ],
 "metadata": {
  "kernelspec": {
   "display_name": "Python 3",
   "language": "python",
   "name": "python3"
  },
  "language_info": {
   "codemirror_mode": {
    "name": "ipython",
    "version": 3
   },
   "file_extension": ".py",
   "mimetype": "text/x-python",
   "name": "python",
   "nbconvert_exporter": "python",
   "pygments_lexer": "ipython3",
   "version": "3.8.3"
  }
 },
 "nbformat": 4,
 "nbformat_minor": 5
}

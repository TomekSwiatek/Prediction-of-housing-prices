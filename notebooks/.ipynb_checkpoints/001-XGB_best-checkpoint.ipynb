{
 "cells": [
  {
   "cell_type": "markdown",
   "metadata": {},
   "source": [
    "## Load libraries"
   ]
  },
  {
   "cell_type": "code",
   "execution_count": 43,
   "metadata": {},
   "outputs": [],
   "source": [
    "import pandas as pd\n",
    "import numpy as np\n",
    "import helper as h\n",
    "\n",
    "import xgboost as xgb\n",
    "from sklearn.model_selection import cross_val_score, KFold\n",
    "from sklearn.metrics import mean_absolute_error\n",
    "\n",
    "import matplotlib.pyplot as plt\n",
    "from xgboost import plot_importance\n",
    "from numpy import sort\n",
    "from sklearn.feature_selection import SelectFromModel\n",
    "\n",
    "import eli5"
   ]
  },
  {
   "cell_type": "markdown",
   "metadata": {},
   "source": [
    "## Upload data"
   ]
  },
  {
   "cell_type": "code",
   "execution_count": 3,
   "metadata": {},
   "outputs": [],
   "source": [
    "df_train = pd.read_hdf(\"../input/train_data.h5\")\n",
    "df_train['price'] = df_train['price'].map(h.parse_price)\n",
    "\n",
    "df_test = pd.read_hdf(\"../input/test_data.h5\")"
   ]
  },
  {
   "cell_type": "markdown",
   "metadata": {},
   "source": [
    "## Combine data\n",
    "Combine `df_train` and` df_test` and save the result to `df`."
   ]
  },
  {
   "cell_type": "code",
   "execution_count": 4,
   "metadata": {},
   "outputs": [
    {
     "name": "stdout",
     "output_type": "stream",
     "text": [
      "(34180, 8) (34180, 8)\n"
     ]
    }
   ],
   "source": [
    "df = pd.concat([df_train, df_test])\n",
    "print(df.shape, df.shape)"
   ]
  },
  {
   "cell_type": "code",
   "execution_count": 5,
   "metadata": {},
   "outputs": [
    {
     "data": {
      "text/html": [
       "<div>\n",
       "<style scoped>\n",
       "    .dataframe tbody tr th:only-of-type {\n",
       "        vertical-align: middle;\n",
       "    }\n",
       "\n",
       "    .dataframe tbody tr th {\n",
       "        vertical-align: top;\n",
       "    }\n",
       "\n",
       "    .dataframe thead th {\n",
       "        text-align: right;\n",
       "    }\n",
       "</style>\n",
       "<table border=\"1\" class=\"dataframe\">\n",
       "  <thead>\n",
       "    <tr style=\"text-align: right;\">\n",
       "      <th></th>\n",
       "      <th>geo_block</th>\n",
       "      <th>breadcrumbs</th>\n",
       "      <th>price</th>\n",
       "      <th>owner</th>\n",
       "      <th>params</th>\n",
       "      <th>date</th>\n",
       "      <th>user_block</th>\n",
       "      <th>id</th>\n",
       "    </tr>\n",
       "  </thead>\n",
       "  <tbody>\n",
       "    <tr>\n",
       "      <th>3332</th>\n",
       "      <td>[Новая Москва, п. Сосенское, п. Коммунарка, Но...</td>\n",
       "      <td>[Москва, Новая Москва, п. Сосенское, п. Коммун...</td>\n",
       "      <td>NaN</td>\n",
       "      <td>[Район «Скандинавия»]</td>\n",
       "      <td>{'Лифт:': 'да', 'Охрана:': 'предусмотрена', 'Т...</td>\n",
       "      <td>[3 ноября 2018, 18, (+2 за сегодня), Обновлено...</td>\n",
       "      <td>[]</td>\n",
       "      <td>41914</td>\n",
       "    </tr>\n",
       "    <tr>\n",
       "      <th>4230</th>\n",
       "      <td>[г. Москва, Пресненский, г. Москва, Пресненский]</td>\n",
       "      <td>[Москва, Пресненский, м. Международная, МЦК Де...</td>\n",
       "      <td>26.112148</td>\n",
       "      <td>[]</td>\n",
       "      <td>{'Общая площадь:': '51.4 м²', 'Дата публикации...</td>\n",
       "      <td>[18 октября 2018, 34, (+1 за сегодня), Обновле...</td>\n",
       "      <td>[&lt;div class=\"block-user__name\"&gt;Соболева Галина...</td>\n",
       "      <td>59244</td>\n",
       "    </tr>\n",
       "    <tr>\n",
       "      <th>8934</th>\n",
       "      <td>[г. Москва, Ховрино, ул Дыбенко, г. Москва, Хо...</td>\n",
       "      <td>[Москва, Ховрино, м. Ховрино, МЦК Коптево, ул....</td>\n",
       "      <td>7.285370</td>\n",
       "      <td>[]</td>\n",
       "      <td>{'Лифт:': 'да', 'Тип здания:': 'Монолитное', '...</td>\n",
       "      <td>[29 апреля, 4, (+1 за сегодня), Обновлено 13 мая]</td>\n",
       "      <td>[&lt;div class=\"block-user__name\"&gt;MR-Group&lt;/div&gt;,...</td>\n",
       "      <td>31686</td>\n",
       "    </tr>\n",
       "    <tr>\n",
       "      <th>8976</th>\n",
       "      <td>[г. Москва, Беговой, г. Москва, Беговой]</td>\n",
       "      <td>[Москва, Беговой, м. Белорусская, МЦК Шелепиха]</td>\n",
       "      <td>NaN</td>\n",
       "      <td>[]</td>\n",
       "      <td>{'Охрана:': 'предусмотрена', 'Тип здания:': 'М...</td>\n",
       "      <td>[12 марта, 8, (+1 за сегодня), Обновлено 15 мая]</td>\n",
       "      <td>[&lt;div class=\"block-user__name\"&gt;Донстрой&lt;/div&gt;,...</td>\n",
       "      <td>58580</td>\n",
       "    </tr>\n",
       "    <tr>\n",
       "      <th>2548</th>\n",
       "      <td>[г. Москва, Пресненский, г. Москва, Пресненский]</td>\n",
       "      <td>[Москва, Пресненский, м. Улица 1905 года, МЦК ...</td>\n",
       "      <td>22.176000</td>\n",
       "      <td>[]</td>\n",
       "      <td>{'Общая площадь:': '69 м²', 'Вид из окна:': 'н...</td>\n",
       "      <td>[17 мая, 2, (+1 за сегодня)]</td>\n",
       "      <td>[&lt;div class=\"block-user__name\"&gt;MR-Group&lt;/div&gt;,...</td>\n",
       "      <td>12505</td>\n",
       "    </tr>\n",
       "  </tbody>\n",
       "</table>\n",
       "</div>"
      ],
      "text/plain": [
       "                                              geo_block  \\\n",
       "3332  [Новая Москва, п. Сосенское, п. Коммунарка, Но...   \n",
       "4230   [г. Москва, Пресненский, г. Москва, Пресненский]   \n",
       "8934  [г. Москва, Ховрино, ул Дыбенко, г. Москва, Хо...   \n",
       "8976           [г. Москва, Беговой, г. Москва, Беговой]   \n",
       "2548   [г. Москва, Пресненский, г. Москва, Пресненский]   \n",
       "\n",
       "                                            breadcrumbs      price  \\\n",
       "3332  [Москва, Новая Москва, п. Сосенское, п. Коммун...        NaN   \n",
       "4230  [Москва, Пресненский, м. Международная, МЦК Де...  26.112148   \n",
       "8934  [Москва, Ховрино, м. Ховрино, МЦК Коптево, ул....   7.285370   \n",
       "8976    [Москва, Беговой, м. Белорусская, МЦК Шелепиха]        NaN   \n",
       "2548  [Москва, Пресненский, м. Улица 1905 года, МЦК ...  22.176000   \n",
       "\n",
       "                      owner  \\\n",
       "3332  [Район «Скандинавия»]   \n",
       "4230                     []   \n",
       "8934                     []   \n",
       "8976                     []   \n",
       "2548                     []   \n",
       "\n",
       "                                                 params  \\\n",
       "3332  {'Лифт:': 'да', 'Охрана:': 'предусмотрена', 'Т...   \n",
       "4230  {'Общая площадь:': '51.4 м²', 'Дата публикации...   \n",
       "8934  {'Лифт:': 'да', 'Тип здания:': 'Монолитное', '...   \n",
       "8976  {'Охрана:': 'предусмотрена', 'Тип здания:': 'М...   \n",
       "2548  {'Общая площадь:': '69 м²', 'Вид из окна:': 'н...   \n",
       "\n",
       "                                                   date  \\\n",
       "3332  [3 ноября 2018, 18, (+2 за сегодня), Обновлено...   \n",
       "4230  [18 октября 2018, 34, (+1 за сегодня), Обновле...   \n",
       "8934  [29 апреля, 4, (+1 за сегодня), Обновлено 13 мая]   \n",
       "8976   [12 марта, 8, (+1 за сегодня), Обновлено 15 мая]   \n",
       "2548                       [17 мая, 2, (+1 за сегодня)]   \n",
       "\n",
       "                                             user_block     id  \n",
       "3332                                                 []  41914  \n",
       "4230  [<div class=\"block-user__name\">Соболева Галина...  59244  \n",
       "8934  [<div class=\"block-user__name\">MR-Group</div>,...  31686  \n",
       "8976  [<div class=\"block-user__name\">Донстрой</div>,...  58580  \n",
       "2548  [<div class=\"block-user__name\">MR-Group</div>,...  12505  "
      ]
     },
     "execution_count": 5,
     "metadata": {},
     "output_type": "execute_result"
    }
   ],
   "source": [
    "df.sample(5)"
   ]
  },
  {
   "cell_type": "markdown",
   "metadata": {},
   "source": [
    "### Categorization of the Params feature"
   ]
  },
  {
   "cell_type": "code",
   "execution_count": 6,
   "metadata": {},
   "outputs": [
    {
     "data": {
      "text/plain": [
       "['Охрана:_cat',\n",
       " 'Тип здания:_cat',\n",
       " 'Тип объекта:_cat',\n",
       " 'Количество корпусов:_cat',\n",
       " 'Тип объявления:_cat',\n",
       " 'Застройщик:_cat',\n",
       " 'Общая площадь:_cat',\n",
       " 'Дата публикации:_cat',\n",
       " 'Количество комнат:_cat',\n",
       " 'Парковка:_cat',\n",
       " 'Дата  обновления:_cat',\n",
       " 'Количество этажей:_cat',\n",
       " 'Сдача:_cat',\n",
       " 'Комиссия агенту:_cat',\n",
       " 'Высота потолков:_cat',\n",
       " 'Этаж:_cat',\n",
       " 'Этап строительства:_cat',\n",
       " 'Новостройка:_cat',\n",
       " 'Количество квартир:_cat',\n",
       " 'Класс жилья:_cat',\n",
       " 'Адрес:_cat',\n",
       " 'Лифт:_cat',\n",
       " 'Вид из окна:_cat',\n",
       " 'Возможна ипотека:_cat',\n",
       " 'Год постройки:_cat',\n",
       " 'Этажность:_cat',\n",
       " 'Мусоропровод:_cat',\n",
       " 'Ремонт:_cat',\n",
       " 'Площадь кухни:_cat',\n",
       " 'Жилая комната:_cat',\n",
       " 'Тип санузла:_cat',\n",
       " 'Тип балкона:_cat',\n",
       " 'Мебель на кухне:_cat',\n",
       " 'Холодильник:_cat',\n",
       " 'Интернет:_cat',\n",
       " 'Мебель:_cat',\n",
       " 'Телефон:_cat',\n",
       " 'Свободная планировка:_cat',\n",
       " 'Управляющая компания:_cat',\n",
       " 'Количество подъездов:_cat',\n",
       " 'Тип дома:_cat',\n",
       " 'Тип комнат:_cat',\n",
       " 'Покрытие пола:_cat',\n",
       " 'Серия:_cat',\n",
       " 'Тип перекрытия:_cat',\n",
       " 'Возможен торг:_cat',\n",
       " 'Класс:_cat',\n",
       " 'Телевизор:_cat',\n",
       " 'Тип фундамента:_cat',\n",
       " 'Количество жилых помещений:_cat',\n",
       " 'Детская площадка:_cat',\n",
       " 'Стиральная машина:_cat',\n",
       " 'Наибольшее количество этажей:_cat',\n",
       " 'Наименьшее количество этажей:_cat',\n",
       " 'Предоплата:_cat']"
      ]
     },
     "execution_count": 6,
     "metadata": {},
     "output_type": "execute_result"
    }
   ],
   "source": [
    "params = df[\"params\"].apply(pd.Series)\n",
    "params = params.fillna(-1)\n",
    "\n",
    "if \"Охрана:\" not in df:  #prevents params from being added again \n",
    "    df = pd.concat([df, params], axis=1)\n",
    "    \n",
    "    obj_feats = params.select_dtypes(object).columns\n",
    "\n",
    "    for feat in obj_feats:\n",
    "        df[\"{}_cat\".format(feat)] = df[feat].factorize()[0]\n",
    "\n",
    "cat_feats = [x for x in df.columns if \"_cat\" in x]\n",
    "cat_feats"
   ]
  },
  {
   "cell_type": "markdown",
   "metadata": {},
   "source": [
    "### Features of area "
   ]
  },
  {
   "cell_type": "code",
   "execution_count": 7,
   "metadata": {},
   "outputs": [],
   "source": [
    "def parse_area(val):\n",
    "    if isinstance(val, int): return val\n",
    "    if isinstance(val, float): return val\n",
    "    \n",
    "    return float(val.split(\"м\")[0].replace(\" \", \"\"))\n",
    "\n",
    "df[\"area\"] = df[\"Общая площадь:\"].map(h.parse_area)\n",
    "df[\"kitchen_area\"] = df[\"Площадь кухни:\"].map(parse_area)"
   ]
  },
  {
   "cell_type": "markdown",
   "metadata": {},
   "source": [
    "### model evaluation \n",
    "\n",
    "Two functions: `check_model`, `check_log_model`. "
   ]
  },
  {
   "cell_type": "code",
   "execution_count": 8,
   "metadata": {},
   "outputs": [],
   "source": [
    "def check_model(df, feats, model, cv=5, scoring=\"neg_mean_absolute_error\"):\n",
    "    df_train = df[ ~df[\"price\"].isnull() ].copy()\n",
    "    df_test = df[ df[\"price\"].isnull() ].copy()\n",
    "\n",
    "    X_train = df_train[feats]\n",
    "    y_train = df_train[\"price\"]\n",
    "    \n",
    "    scores = cross_val_score(model, X_train, y_train, cv=cv, scoring=scoring)\n",
    "    return np.mean(scores), np.std(scores)\n",
    "\n",
    "\n",
    "def check_log_model(df, feats, model, cv=5, scoring=\"neg_mean_absolute_error\"):\n",
    "    df_train = df[ ~df[\"price\"].isnull() ].copy()\n",
    "\n",
    "    X = df_train[feats]\n",
    "    y = df_train[\"price\"]\n",
    "    y_log = np.log(y)\n",
    "    \n",
    "    cv = KFold(n_splits=5, shuffle=True, random_state=0)\n",
    "    scores = []\n",
    "    for train_idx, test_idx in cv.split(X):\n",
    "        X_train, X_test = X.iloc[train_idx], X.iloc[test_idx]\n",
    "        y_log_train, y_test = y_log.iloc[train_idx], y.iloc[test_idx]\n",
    "\n",
    "        model = xgb.XGBRegressor(max_depth=5, n_estimators=50, random_state=0)\n",
    "        model.fit(X_train, y_log_train)\n",
    "        y_log_pred = model.predict(X_test)\n",
    "        y_pred = np.exp(y_log_pred)\n",
    "\n",
    "        score = mean_absolute_error(y_test, y_pred)\n",
    "        scores.append(score)\n",
    "\n",
    "    return np.mean(scores), np.std(scores)"
   ]
  },
  {
   "cell_type": "markdown",
   "metadata": {},
   "source": [
    "## Features of area \n",
    "Selected features: `geo_block` i `breadcrumbs`."
   ]
  },
  {
   "cell_type": "markdown",
   "metadata": {},
   "source": [
    "### geo_block"
   ]
  },
  {
   "cell_type": "code",
   "execution_count": 9,
   "metadata": {},
   "outputs": [
    {
     "data": {
      "text/plain": [
       "array([list(['г. Москва', 'Лианозово', 'г. Москва', 'Лианозово']),\n",
       "       list(['г. Москва', 'Ховрино', 'г. Москва', 'Ховрино']),\n",
       "       list(['г. Москва', 'ул Лобачевского', 'г. Москва', 'ул Лобачевского']),\n",
       "       ..., list(['г. Москва', 'Ховрино', 'г. Москва', 'Ховрино']),\n",
       "       list(['Новая Москва', 'п. Внуковское', 'г. Москва', 'Новая Москва', 'п. Внуковское', 'г. Москва']),\n",
       "       list(['г. Москва', 'Ярославский', 'ул Красная Сосна', 'г. Москва', 'Ярославский', 'ул Красная Сосна'])],\n",
       "      dtype=object)"
      ]
     },
     "execution_count": 9,
     "metadata": {},
     "output_type": "execute_result"
    }
   ],
   "source": [
    "df[\"geo_block\"].values"
   ]
  },
  {
   "cell_type": "markdown",
   "metadata": {},
   "source": [
    "Removal of duplicates, because in the lines we have two elements repeated twice. "
   ]
  },
  {
   "cell_type": "code",
   "execution_count": 10,
   "metadata": {},
   "outputs": [
    {
     "data": {
      "text/plain": [
       "0                            [г. Москва, Лианозово]\n",
       "1                              [г. Москва, Ховрино]\n",
       "2                      [г. Москва, ул Лобачевского]\n",
       "3                  [г. Москва, Ховрино, ул Дыбенко]\n",
       "4                          [г. Москва, Даниловский]\n",
       "                            ...                    \n",
       "11443                                   [г. Москва]\n",
       "11444                [г. Москва, Хорошёво-Мнёвники]\n",
       "11445                          [г. Москва, Ховрино]\n",
       "11446      [Новая Москва, п. Внуковское, г. Москва]\n",
       "11447    [г. Москва, Ярославский, ул Красная Сосна]\n",
       "Name: geo_block_norm, Length: 34180, dtype: object"
      ]
     },
     "execution_count": 10,
     "metadata": {},
     "output_type": "execute_result"
    }
   ],
   "source": [
    "df[\"geo_block_norm\"] = df[\"geo_block\"].map(lambda x: x[:int(len(x)/2)])\n",
    "\n",
    "df[\"geo_block_norm\"]"
   ]
  },
  {
   "cell_type": "markdown",
   "metadata": {},
   "source": [
    "Create `DataFrame`."
   ]
  },
  {
   "cell_type": "code",
   "execution_count": 11,
   "metadata": {},
   "outputs": [
    {
     "data": {
      "text/html": [
       "<div>\n",
       "<style scoped>\n",
       "    .dataframe tbody tr th:only-of-type {\n",
       "        vertical-align: middle;\n",
       "    }\n",
       "\n",
       "    .dataframe tbody tr th {\n",
       "        vertical-align: top;\n",
       "    }\n",
       "\n",
       "    .dataframe thead th {\n",
       "        text-align: right;\n",
       "    }\n",
       "</style>\n",
       "<table border=\"1\" class=\"dataframe\">\n",
       "  <thead>\n",
       "    <tr style=\"text-align: right;\">\n",
       "      <th></th>\n",
       "      <th>geo_block_0</th>\n",
       "      <th>geo_block_1</th>\n",
       "      <th>geo_block_2</th>\n",
       "      <th>geo_block_3</th>\n",
       "      <th>geo_block_4</th>\n",
       "      <th>geo_block_5</th>\n",
       "    </tr>\n",
       "  </thead>\n",
       "  <tbody>\n",
       "    <tr>\n",
       "      <th>0</th>\n",
       "      <td>г. Москва</td>\n",
       "      <td>Лианозово</td>\n",
       "      <td>NaN</td>\n",
       "      <td>NaN</td>\n",
       "      <td>NaN</td>\n",
       "      <td>NaN</td>\n",
       "    </tr>\n",
       "    <tr>\n",
       "      <th>1</th>\n",
       "      <td>г. Москва</td>\n",
       "      <td>Ховрино</td>\n",
       "      <td>NaN</td>\n",
       "      <td>NaN</td>\n",
       "      <td>NaN</td>\n",
       "      <td>NaN</td>\n",
       "    </tr>\n",
       "    <tr>\n",
       "      <th>2</th>\n",
       "      <td>г. Москва</td>\n",
       "      <td>ул Лобачевского</td>\n",
       "      <td>NaN</td>\n",
       "      <td>NaN</td>\n",
       "      <td>NaN</td>\n",
       "      <td>NaN</td>\n",
       "    </tr>\n",
       "    <tr>\n",
       "      <th>3</th>\n",
       "      <td>г. Москва</td>\n",
       "      <td>Ховрино</td>\n",
       "      <td>ул Дыбенко</td>\n",
       "      <td>NaN</td>\n",
       "      <td>NaN</td>\n",
       "      <td>NaN</td>\n",
       "    </tr>\n",
       "    <tr>\n",
       "      <th>4</th>\n",
       "      <td>г. Москва</td>\n",
       "      <td>Даниловский</td>\n",
       "      <td>NaN</td>\n",
       "      <td>NaN</td>\n",
       "      <td>NaN</td>\n",
       "      <td>NaN</td>\n",
       "    </tr>\n",
       "    <tr>\n",
       "      <th>...</th>\n",
       "      <td>...</td>\n",
       "      <td>...</td>\n",
       "      <td>...</td>\n",
       "      <td>...</td>\n",
       "      <td>...</td>\n",
       "      <td>...</td>\n",
       "    </tr>\n",
       "    <tr>\n",
       "      <th>11443</th>\n",
       "      <td>г. Москва</td>\n",
       "      <td>NaN</td>\n",
       "      <td>NaN</td>\n",
       "      <td>NaN</td>\n",
       "      <td>NaN</td>\n",
       "      <td>NaN</td>\n",
       "    </tr>\n",
       "    <tr>\n",
       "      <th>11444</th>\n",
       "      <td>г. Москва</td>\n",
       "      <td>Хорошёво-Мнёвники</td>\n",
       "      <td>NaN</td>\n",
       "      <td>NaN</td>\n",
       "      <td>NaN</td>\n",
       "      <td>NaN</td>\n",
       "    </tr>\n",
       "    <tr>\n",
       "      <th>11445</th>\n",
       "      <td>г. Москва</td>\n",
       "      <td>Ховрино</td>\n",
       "      <td>NaN</td>\n",
       "      <td>NaN</td>\n",
       "      <td>NaN</td>\n",
       "      <td>NaN</td>\n",
       "    </tr>\n",
       "    <tr>\n",
       "      <th>11446</th>\n",
       "      <td>Новая Москва</td>\n",
       "      <td>п. Внуковское</td>\n",
       "      <td>г. Москва</td>\n",
       "      <td>NaN</td>\n",
       "      <td>NaN</td>\n",
       "      <td>NaN</td>\n",
       "    </tr>\n",
       "    <tr>\n",
       "      <th>11447</th>\n",
       "      <td>г. Москва</td>\n",
       "      <td>Ярославский</td>\n",
       "      <td>ул Красная Сосна</td>\n",
       "      <td>NaN</td>\n",
       "      <td>NaN</td>\n",
       "      <td>NaN</td>\n",
       "    </tr>\n",
       "  </tbody>\n",
       "</table>\n",
       "<p>34180 rows × 6 columns</p>\n",
       "</div>"
      ],
      "text/plain": [
       "        geo_block_0        geo_block_1       geo_block_2 geo_block_3  \\\n",
       "0         г. Москва          Лианозово               NaN         NaN   \n",
       "1         г. Москва            Ховрино               NaN         NaN   \n",
       "2         г. Москва    ул Лобачевского               NaN         NaN   \n",
       "3         г. Москва            Ховрино        ул Дыбенко         NaN   \n",
       "4         г. Москва        Даниловский               NaN         NaN   \n",
       "...             ...                ...               ...         ...   \n",
       "11443     г. Москва                NaN               NaN         NaN   \n",
       "11444     г. Москва  Хорошёво-Мнёвники               NaN         NaN   \n",
       "11445     г. Москва            Ховрино               NaN         NaN   \n",
       "11446  Новая Москва      п. Внуковское         г. Москва         NaN   \n",
       "11447     г. Москва        Ярославский  ул Красная Сосна         NaN   \n",
       "\n",
       "      geo_block_4 geo_block_5  \n",
       "0             NaN         NaN  \n",
       "1             NaN         NaN  \n",
       "2             NaN         NaN  \n",
       "3             NaN         NaN  \n",
       "4             NaN         NaN  \n",
       "...           ...         ...  \n",
       "11443         NaN         NaN  \n",
       "11444         NaN         NaN  \n",
       "11445         NaN         NaN  \n",
       "11446         NaN         NaN  \n",
       "11447         NaN         NaN  \n",
       "\n",
       "[34180 rows x 6 columns]"
      ]
     },
     "execution_count": 11,
     "metadata": {},
     "output_type": "execute_result"
    }
   ],
   "source": [
    "geo_block = (\n",
    "df[\"geo_block\"]\n",
    "    .map(lambda x: x[:int(len(x)/2) ])\n",
    "    .map(lambda x: {\"geo_block_{}\".format(idx):val for idx,val in enumerate(x) })\n",
    "    .apply(pd.Series)\n",
    ")\n",
    "\n",
    "geo_block"
   ]
  },
  {
   "cell_type": "markdown",
   "metadata": {},
   "source": [
    "Categorization of the `geo_block` feature"
   ]
  },
  {
   "cell_type": "code",
   "execution_count": 12,
   "metadata": {},
   "outputs": [
    {
     "name": "stdout",
     "output_type": "stream",
     "text": [
      "geo_block_0\n",
      "г. Москва             29049\n",
      "Новая Москва           4531\n",
      "г. Зеленоград           318\n",
      "п. Свиблово             138\n",
      "п. Некрасовка           134\n",
      "п. Новобратцевский        3\n",
      "п. Рублево                1\n",
      "пгт Акулово               1\n",
      "п. Алабушево              1\n",
      "д. Сколково               1\n",
      "п. Крюково                1\n",
      "п. Главмосстроя           1\n",
      "п. Подушкино              1\n",
      "Name: geo_block_0, dtype: int64\n",
      "====================================================================================================\n",
      "\n",
      "geo_block_1\n",
      "п. Сосенское              2522\n",
      "Хорошёво-Мнёвники         1142\n",
      "Филёвский Парк             945\n",
      "п. Московский              919\n",
      "Ховрино                    829\n",
      "Раменки                    811\n",
      "Люблино                    666\n",
      "Некрасовка                 654\n",
      "Кунцево                    537\n",
      "Орехово-Борисово Южное     534\n",
      "ул Дыбенко                 525\n",
      "Выхино-Жулебино            496\n",
      "Зябликово                  492\n",
      "ул Лобачевского            442\n",
      "п. Внуковское              430\n",
      "Рязанский                  425\n",
      "Марьино                    407\n",
      "Пресненский                378\n",
      "Лефортово                  374\n",
      "пр-кт Мира                 337\n",
      "Name: geo_block_1, dtype: int64\n",
      "====================================================================================================\n",
      "\n",
      "geo_block_2\n",
      "п. Коммунарка               1720\n",
      "г. Москва                   1082\n",
      "ул Верхние Поля              596\n",
      "ул Лобачевского              540\n",
      "ул Дыбенко                   540\n",
      "д. Николо-Хованское          522\n",
      "г. Московский                505\n",
      "ул Поляны                    231\n",
      "ул Берзарина                 193\n",
      "д. Румянцево                 160\n",
      "ул Золоторожский Вал         144\n",
      "ул Римского-Корсакова        132\n",
      "с. Остафьево                 125\n",
      "д. Староселье                113\n",
      "ул Красная Сосна             101\n",
      "ул Академика Павлова          96\n",
      "пр-кт Академика Сахарова      87\n",
      "ул Генерала Белова            86\n",
      "д. Столбово                   71\n",
      "д. Саларьево                  57\n",
      "Name: geo_block_2, dtype: int64\n",
      "====================================================================================================\n",
      "\n",
      "geo_block_3\n",
      "Южное Бутово          1227\n",
      "Тропарёво-Никулино     509\n",
      "Тёплый Стан            436\n",
      "д. 32                   33\n",
      "д. 16                    4\n",
      "д. 3                     4\n",
      "СП Сосенское             4\n",
      "д. 8                     4\n",
      "д. 7, к. 2               3\n",
      "СП Московский            3\n",
      "д. 18                    3\n",
      "д. 11, к. 2              3\n",
      "СП Щаповское             3\n",
      "ул Радужная              3\n",
      "д. 13, к. 1              2\n",
      "д. 15                    2\n",
      "д. 29                    2\n",
      "д. 20                    2\n",
      "ул Фитаревская           2\n",
      "д. 5                     2\n",
      "Name: geo_block_3, dtype: int64\n",
      "====================================================================================================\n",
      "\n",
      "geo_block_4\n",
      "ул Радужная                2\n",
      "ул Трофимова               1\n",
      "д. 37                      1\n",
      "ул Лазурная                1\n",
      "проезд Пинский             1\n",
      "ул Сосенский Стан          1\n",
      "мкр Родники                1\n",
      "ул Александры Монаховой    1\n",
      "ул Фитаревская             1\n",
      "Name: geo_block_4, dtype: int64\n",
      "====================================================================================================\n",
      "\n",
      "geo_block_5\n",
      "д. 3    2\n",
      "Name: geo_block_5, dtype: int64\n",
      "====================================================================================================\n",
      "\n"
     ]
    }
   ],
   "source": [
    "\n",
    "for feat in geo_block.columns:\n",
    "    print(feat)\n",
    "    print(geo_block[feat].value_counts().head(20))\n",
    "    print(\"=\"*100)\n",
    "    print()\n",
    "    \n",
    "\n",
    "    df[\"{}_cat\".format(feat)] = geo_block[feat].factorize()[0]"
   ]
  },
  {
   "cell_type": "code",
   "execution_count": 13,
   "metadata": {
    "scrolled": true
   },
   "outputs": [
    {
     "data": {
      "text/plain": [
       "['geo_block_0_cat',\n",
       " 'geo_block_1_cat',\n",
       " 'geo_block_2_cat',\n",
       " 'geo_block_3_cat',\n",
       " 'geo_block_4_cat',\n",
       " 'geo_block_5_cat']"
      ]
     },
     "execution_count": 13,
     "metadata": {},
     "output_type": "execute_result"
    }
   ],
   "source": [
    "geo_cat_feats = [x for x in df.columns if \"geo_block\" in x and \"_cat\" in x]\n",
    "geo_cat_feats"
   ]
  },
  {
   "cell_type": "markdown",
   "metadata": {},
   "source": [
    "### Check result"
   ]
  },
  {
   "cell_type": "code",
   "execution_count": 14,
   "metadata": {},
   "outputs": [
    {
     "data": {
      "text/plain": [
       "(3.25358809911422, 0.3150982251982633)"
      ]
     },
     "execution_count": 14,
     "metadata": {},
     "output_type": "execute_result"
    }
   ],
   "source": [
    "feats = [\"area\", \"kitchen_area\"] + geo_cat_feats + cat_feats\n",
    "\n",
    "check_log_model(df, feats, xgb.XGBRegressor(max_depth=5, n_estimators=50, learning_rate=0.3, random_state=0))"
   ]
  },
  {
   "cell_type": "markdown",
   "metadata": {},
   "source": [
    "### Breadcrumbs \n"
   ]
  },
  {
   "cell_type": "code",
   "execution_count": 15,
   "metadata": {},
   "outputs": [
    {
     "data": {
      "text/html": [
       "<div>\n",
       "<style scoped>\n",
       "    .dataframe tbody tr th:only-of-type {\n",
       "        vertical-align: middle;\n",
       "    }\n",
       "\n",
       "    .dataframe tbody tr th {\n",
       "        vertical-align: top;\n",
       "    }\n",
       "\n",
       "    .dataframe thead th {\n",
       "        text-align: right;\n",
       "    }\n",
       "</style>\n",
       "<table border=\"1\" class=\"dataframe\">\n",
       "  <thead>\n",
       "    <tr style=\"text-align: right;\">\n",
       "      <th></th>\n",
       "      <th>breadcrumbs_0</th>\n",
       "      <th>breadcrumbs_1</th>\n",
       "      <th>breadcrumbs_2</th>\n",
       "      <th>breadcrumbs_3</th>\n",
       "      <th>breadcrumbs_4</th>\n",
       "      <th>breadcrumbs_5</th>\n",
       "      <th>breadcrumbs_6</th>\n",
       "      <th>breadcrumbs_7</th>\n",
       "    </tr>\n",
       "  </thead>\n",
       "  <tbody>\n",
       "    <tr>\n",
       "      <th>0</th>\n",
       "      <td>Москва</td>\n",
       "      <td>Лианозово</td>\n",
       "      <td>м. Алтуфьево</td>\n",
       "      <td>МЦК Лихоборы</td>\n",
       "      <td>NaN</td>\n",
       "      <td>NaN</td>\n",
       "      <td>NaN</td>\n",
       "      <td>NaN</td>\n",
       "    </tr>\n",
       "    <tr>\n",
       "      <th>1</th>\n",
       "      <td>Москва</td>\n",
       "      <td>Ховрино</td>\n",
       "      <td>м. Ховрино</td>\n",
       "      <td>МЦК Коптево</td>\n",
       "      <td>NaN</td>\n",
       "      <td>NaN</td>\n",
       "      <td>NaN</td>\n",
       "      <td>NaN</td>\n",
       "    </tr>\n",
       "    <tr>\n",
       "      <th>2</th>\n",
       "      <td>Москва</td>\n",
       "      <td>МЦК Кутузовская</td>\n",
       "      <td>ул. Лобачевского</td>\n",
       "      <td>NaN</td>\n",
       "      <td>NaN</td>\n",
       "      <td>NaN</td>\n",
       "      <td>NaN</td>\n",
       "      <td>NaN</td>\n",
       "    </tr>\n",
       "    <tr>\n",
       "      <th>3</th>\n",
       "      <td>Москва</td>\n",
       "      <td>Ховрино</td>\n",
       "      <td>м. Ховрино</td>\n",
       "      <td>МЦК Коптево</td>\n",
       "      <td>ул. Дыбенко</td>\n",
       "      <td>NaN</td>\n",
       "      <td>NaN</td>\n",
       "      <td>NaN</td>\n",
       "    </tr>\n",
       "    <tr>\n",
       "      <th>4</th>\n",
       "      <td>Москва</td>\n",
       "      <td>Даниловский</td>\n",
       "      <td>м. Автозаводская</td>\n",
       "      <td>МЦК Автозаводская</td>\n",
       "      <td>NaN</td>\n",
       "      <td>NaN</td>\n",
       "      <td>NaN</td>\n",
       "      <td>NaN</td>\n",
       "    </tr>\n",
       "    <tr>\n",
       "      <th>...</th>\n",
       "      <td>...</td>\n",
       "      <td>...</td>\n",
       "      <td>...</td>\n",
       "      <td>...</td>\n",
       "      <td>...</td>\n",
       "      <td>...</td>\n",
       "      <td>...</td>\n",
       "      <td>...</td>\n",
       "    </tr>\n",
       "    <tr>\n",
       "      <th>11443</th>\n",
       "      <td>Москва</td>\n",
       "      <td>МЦК Кутузовская</td>\n",
       "      <td>NaN</td>\n",
       "      <td>NaN</td>\n",
       "      <td>NaN</td>\n",
       "      <td>NaN</td>\n",
       "      <td>NaN</td>\n",
       "      <td>NaN</td>\n",
       "    </tr>\n",
       "    <tr>\n",
       "      <th>11444</th>\n",
       "      <td>Москва</td>\n",
       "      <td>Хорошёво-Мнёвники</td>\n",
       "      <td>м. Октябрьское поле</td>\n",
       "      <td>МЦК Зорге</td>\n",
       "      <td>NaN</td>\n",
       "      <td>NaN</td>\n",
       "      <td>NaN</td>\n",
       "      <td>NaN</td>\n",
       "    </tr>\n",
       "    <tr>\n",
       "      <th>11445</th>\n",
       "      <td>Москва</td>\n",
       "      <td>Ховрино</td>\n",
       "      <td>м. Ховрино</td>\n",
       "      <td>МЦК Коптево</td>\n",
       "      <td>NaN</td>\n",
       "      <td>NaN</td>\n",
       "      <td>NaN</td>\n",
       "      <td>NaN</td>\n",
       "    </tr>\n",
       "    <tr>\n",
       "      <th>11446</th>\n",
       "      <td>Москва</td>\n",
       "      <td>Новая Москва</td>\n",
       "      <td>п. Внуковское</td>\n",
       "      <td>МЦК Кутузовская</td>\n",
       "      <td>NaN</td>\n",
       "      <td>NaN</td>\n",
       "      <td>NaN</td>\n",
       "      <td>NaN</td>\n",
       "    </tr>\n",
       "    <tr>\n",
       "      <th>11447</th>\n",
       "      <td>Москва</td>\n",
       "      <td>Ярославский</td>\n",
       "      <td>МЦК Ростокино</td>\n",
       "      <td>ул. Красная Сосна</td>\n",
       "      <td>NaN</td>\n",
       "      <td>NaN</td>\n",
       "      <td>NaN</td>\n",
       "      <td>NaN</td>\n",
       "    </tr>\n",
       "  </tbody>\n",
       "</table>\n",
       "<p>34180 rows × 8 columns</p>\n",
       "</div>"
      ],
      "text/plain": [
       "      breadcrumbs_0      breadcrumbs_1        breadcrumbs_2  \\\n",
       "0            Москва          Лианозово         м. Алтуфьево   \n",
       "1            Москва            Ховрино           м. Ховрино   \n",
       "2            Москва    МЦК Кутузовская     ул. Лобачевского   \n",
       "3            Москва            Ховрино           м. Ховрино   \n",
       "4            Москва        Даниловский     м. Автозаводская   \n",
       "...             ...                ...                  ...   \n",
       "11443        Москва    МЦК Кутузовская                  NaN   \n",
       "11444        Москва  Хорошёво-Мнёвники  м. Октябрьское поле   \n",
       "11445        Москва            Ховрино           м. Ховрино   \n",
       "11446        Москва       Новая Москва        п. Внуковское   \n",
       "11447        Москва        Ярославский        МЦК Ростокино   \n",
       "\n",
       "           breadcrumbs_3 breadcrumbs_4 breadcrumbs_5 breadcrumbs_6  \\\n",
       "0           МЦК Лихоборы           NaN           NaN           NaN   \n",
       "1            МЦК Коптево           NaN           NaN           NaN   \n",
       "2                    NaN           NaN           NaN           NaN   \n",
       "3            МЦК Коптево   ул. Дыбенко           NaN           NaN   \n",
       "4      МЦК Автозаводская           NaN           NaN           NaN   \n",
       "...                  ...           ...           ...           ...   \n",
       "11443                NaN           NaN           NaN           NaN   \n",
       "11444          МЦК Зорге           NaN           NaN           NaN   \n",
       "11445        МЦК Коптево           NaN           NaN           NaN   \n",
       "11446    МЦК Кутузовская           NaN           NaN           NaN   \n",
       "11447  ул. Красная Сосна           NaN           NaN           NaN   \n",
       "\n",
       "      breadcrumbs_7  \n",
       "0               NaN  \n",
       "1               NaN  \n",
       "2               NaN  \n",
       "3               NaN  \n",
       "4               NaN  \n",
       "...             ...  \n",
       "11443           NaN  \n",
       "11444           NaN  \n",
       "11445           NaN  \n",
       "11446           NaN  \n",
       "11447           NaN  \n",
       "\n",
       "[34180 rows x 8 columns]"
      ]
     },
     "execution_count": 15,
     "metadata": {},
     "output_type": "execute_result"
    }
   ],
   "source": [
    "breadcrumbs = (\n",
    "    df[\"breadcrumbs\"]\n",
    "        .map(lambda x: {\"breadcrumbs_{}\".format(idx):val for idx,val in enumerate(x) })\n",
    "        .apply(pd.Series)\n",
    ")\n",
    "\n",
    "breadcrumbs"
   ]
  },
  {
   "cell_type": "markdown",
   "metadata": {},
   "source": [
    "Categorization of the `breadcrumbs` feature"
   ]
  },
  {
   "cell_type": "code",
   "execution_count": 16,
   "metadata": {},
   "outputs": [
    {
     "name": "stdout",
     "output_type": "stream",
     "text": [
      "breadcrumbs_0\n",
      "Москва    34180\n",
      "Name: breadcrumbs_0, dtype: int64\n",
      "====================================================================================================\n",
      "\n",
      "breadcrumbs_1\n",
      "Новая Москва              4531\n",
      "МЦК Лужники               1245\n",
      "МЦК Кутузовская           1237\n",
      "Хорошёво-Мнёвники         1142\n",
      "Филёвский Парк             945\n",
      "МЦК Крымская               932\n",
      "МЦК Шелепиха               842\n",
      "Ховрино                    829\n",
      "Раменки                    811\n",
      "МЦК Коптево                800\n",
      "Люблино                    666\n",
      "МЦК Хорошёво               633\n",
      "Некрасовка                 608\n",
      "МЦК Нижегородская          564\n",
      "МЦК Лихоборы               549\n",
      "Кунцево                    537\n",
      "Орехово-Борисово Южное     534\n",
      "Выхино-Жулебино            494\n",
      "Зябликово                  492\n",
      "МЦК Ростокино              453\n",
      "Name: breadcrumbs_1, dtype: int64\n",
      "====================================================================================================\n",
      "\n",
      "breadcrumbs_2\n",
      "п. Сосенское             2522\n",
      "п. Московский             919\n",
      "м. Октябрьское поле       864\n",
      "м. Выхино                 856\n",
      "м. Ховрино                829\n",
      "м. Братиславская          649\n",
      "м. Рязанский проспект     600\n",
      "м. Пятницкое шоссе        558\n",
      "м. Фили                   548\n",
      "м. Раменки                545\n",
      "м. Домодедовская          535\n",
      "ул. Дыбенко               525\n",
      "м. Ботанический сад       483\n",
      "м. Молодежная             455\n",
      "м. Зябликово              455\n",
      "п. Внуковское             430\n",
      "м. Люблино                399\n",
      "ул. Лобачевского          386\n",
      "м. Селигерская            377\n",
      "пр-кт. Мира               337\n",
      "Name: breadcrumbs_2, dtype: int64\n",
      "====================================================================================================\n",
      "\n",
      "breadcrumbs_3\n",
      "п. Коммунарка            1720\n",
      "МЦК Шелепиха             1640\n",
      "МЦК Крымская             1507\n",
      "МЦК Кутузовская          1410\n",
      "МЦК ЗИЛ                  1137\n",
      "МЦК Шоссе Энтузиастов     995\n",
      "МЦК Коптево               938\n",
      "МЦК Угрешская             925\n",
      "МЦК Владыкино             818\n",
      "МЦК Хорошёво              756\n",
      "МЦК Нижегородская         646\n",
      "МЦК Ботанический сад      627\n",
      "МЦК Лужники               616\n",
      "МЦК Зорге                 606\n",
      "МЦК Лихоборы              574\n",
      "д. Николо-Хованское       522\n",
      "г. Московский             505\n",
      "МЦК Балтийская            432\n",
      "МЦК Андроновка            385\n",
      "МЦК Стрешнево             307\n",
      "Name: breadcrumbs_3, dtype: int64\n",
      "====================================================================================================\n",
      "\n",
      "breadcrumbs_4\n",
      "Южное Бутово                 1197\n",
      "МЦК Крымская                 1030\n",
      "ул. Верхние Поля              595\n",
      "ул. Дыбенко                   540\n",
      "ул. Лобачевского              539\n",
      "Тропарёво-Никулино            506\n",
      "Тёплый Стан                   405\n",
      "ул. Поляны                    231\n",
      "ул. Берзарина                 193\n",
      "МЦК Лужники                   184\n",
      "МЦК Балтийская                164\n",
      "ул. Золоторожский Вал         144\n",
      "МЦК Ботанический сад          138\n",
      "ул. Римского-Корсакова        132\n",
      "ул. Академика Павлова          96\n",
      "пр-кт. Академика Сахарова      87\n",
      "ул. Генерала Белова            86\n",
      "МЦК Кутузовская                85\n",
      "МЦК Шоссе Энтузиастов          48\n",
      "м. Теплый Стан                 47\n",
      "Name: breadcrumbs_4, dtype: int64\n",
      "====================================================================================================\n",
      "\n",
      "breadcrumbs_5\n",
      "м. Бунинская Аллея             1198\n",
      "м. Саларьево                    504\n",
      "м. Теплый Стан                  409\n",
      "МЦК Крымская                     64\n",
      "МЦК Кутузовская                   3\n",
      "м. Румянцево                      3\n",
      "ул. Нагорная                      2\n",
      "ул. Радужная                      2\n",
      "м. Марьино                        2\n",
      "м. Свиблово                       1\n",
      "м. Пионерская                     1\n",
      "м. Бульвар Дмитрия Донского       1\n",
      "м. Войковская                     1\n",
      "м. Сокольники                     1\n",
      "МЦК Лужники                       1\n",
      "МЦК Ростокино                     1\n",
      "м. Планерная                      1\n",
      "м. Смоленская                     1\n",
      "ул. Бианки                        1\n",
      "м. Автозаводская                  1\n",
      "Name: breadcrumbs_5, dtype: int64\n",
      "====================================================================================================\n",
      "\n",
      "breadcrumbs_6\n",
      "МЦК Крымская             2068\n",
      "МЦК Лужники                42\n",
      "МЦК Кутузовская             3\n",
      "МЦК ЗИЛ                     2\n",
      "МЦК Ботанический сад        1\n",
      "ул. Лазурная                1\n",
      "МЦК Автозаводская           1\n",
      "мкр. Родники                1\n",
      "МЦК Балтийская              1\n",
      "МЦК Шоссе Энтузиастов       1\n",
      "ул. Сосенский Стан          1\n",
      "МЦК Дубровка                1\n",
      "ул. Радужная                1\n",
      "МЦК Измайлово               1\n",
      "ул. Фитаревская             1\n",
      "МЦК Стрешнево               1\n",
      "Name: breadcrumbs_6, dtype: int64\n",
      "====================================================================================================\n",
      "\n",
      "breadcrumbs_7\n",
      "ул. Александры Монаховой    1\n",
      "ул. Трофимова               1\n",
      "проезд. Пинский             1\n",
      "Name: breadcrumbs_7, dtype: int64\n",
      "====================================================================================================\n",
      "\n"
     ]
    }
   ],
   "source": [
    "for feat in breadcrumbs.columns:\n",
    "    print(feat)\n",
    "    print(breadcrumbs[feat].value_counts().head(20))\n",
    "    print(\"=\"*100)\n",
    "    print()\n",
    "    \n",
    "\n",
    "    df[\"{}_cat\".format(feat)] = breadcrumbs[feat].factorize()[0]"
   ]
  },
  {
   "cell_type": "code",
   "execution_count": 17,
   "metadata": {},
   "outputs": [
    {
     "data": {
      "text/plain": [
       "['breadcrumbs_0_cat',\n",
       " 'breadcrumbs_1_cat',\n",
       " 'breadcrumbs_2_cat',\n",
       " 'breadcrumbs_3_cat',\n",
       " 'breadcrumbs_4_cat',\n",
       " 'breadcrumbs_5_cat',\n",
       " 'breadcrumbs_6_cat',\n",
       " 'breadcrumbs_7_cat']"
      ]
     },
     "execution_count": 17,
     "metadata": {},
     "output_type": "execute_result"
    }
   ],
   "source": [
    "breadcrumbs_cat_feats = [x for x in df.columns if \"breadcrumbs\" in x and \"_cat\" in x]\n",
    "breadcrumbs_cat_feats"
   ]
  },
  {
   "cell_type": "markdown",
   "metadata": {},
   "source": [
    "A selection of the 7 best features from `breadcrumbs`. "
   ]
  },
  {
   "cell_type": "code",
   "execution_count": 18,
   "metadata": {},
   "outputs": [],
   "source": [
    "beast_feats = ['Общая площадь:_cat',\n",
    " 'Класс жилья:_cat',\n",
    " 'Этаж:_cat',\n",
    " 'Количество комнат:_cat',\n",
    " 'Высота потолков:_cat',\n",
    " 'Дата публикации:_cat',\n",
    " 'Тип балкона:_cat',\n",
    " 'Застройщик:_cat',\n",
    " 'Парковка:_cat',\n",
    " 'Количество квартир:_cat',\n",
    " 'Количество этажей:_cat',\n",
    " 'Площадь кухни:_cat',\n",
    " 'Жилая комната:_cat',\n",
    " 'Охрана:_cat',\n",
    " 'Тип здания:_cat',\n",
    " 'Год постройки:_cat',\n",
    " 'Сдача:_cat'\n",
    "              ]"
   ]
  },
  {
   "cell_type": "markdown",
   "metadata": {},
   "source": [
    "### Check result"
   ]
  },
  {
   "cell_type": "code",
   "execution_count": 19,
   "metadata": {},
   "outputs": [
    {
     "data": {
      "text/plain": [
       "(3.085983458562901, 0.33152654352557553)"
      ]
     },
     "execution_count": 19,
     "metadata": {},
     "output_type": "execute_result"
    }
   ],
   "source": [
    "feats = [\"area\", \"kitchen_area\"] + geo_cat_feats + beast_feats + breadcrumbs_cat_feats;\n",
    "check_log_model(df, feats, xgb.XGBRegressor(max_depth=10, n_estimators=50, learning_rate=0.3, random_state=0))"
   ]
  },
  {
   "cell_type": "markdown",
   "metadata": {},
   "source": [
    "## Summary of reasult"
   ]
  },
  {
   "cell_type": "code",
   "execution_count": 21,
   "metadata": {},
   "outputs": [],
   "source": [
    "feats = [\"area\", \"kitchen_area\"] + geo_cat_feats + beast_feats + breadcrumbs_cat_feats\n",
    "\n",
    "df_train = df[ ~df[\"price\"].isnull() ].copy()\n",
    "df_test = df[ df[\"price\"].isnull() ].copy()\n",
    "\n",
    "X_train = df_train[feats]\n",
    "y_train = df_train[\"price\"]\n",
    "y_log_train = np.log(y_train)\n",
    "\n",
    "X_test = df_test[feats]\n",
    "\n",
    "model = xgb.XGBRegressor(max_depth=10, n_estimators=50, learning_rate=0.3, random_state=0)\n",
    "model.fit(X_train, y_log_train)\n",
    "y_log_pred = model.predict(X_test)\n",
    "y_pred = np.exp(y_log_pred)\n"
   ]
  },
  {
   "cell_type": "markdown",
   "metadata": {},
   "source": [
    "## Importance of features "
   ]
  },
  {
   "cell_type": "code",
   "execution_count": 22,
   "metadata": {},
   "outputs": [
    {
     "name": "stdout",
     "output_type": "stream",
     "text": [
      "[0.18716982 0.00217702 0.25692627 0.00542209 0.00222029 0.00220089\n",
      " 0.00043848 0.         0.00165344 0.34217617 0.00141357 0.00558267\n",
      " 0.01354502 0.00157971 0.00574055 0.01364103 0.01412607 0.01506239\n",
      " 0.01062937 0.00198151 0.00194916 0.01490137 0.01900392 0.00729696\n",
      " 0.00554613 0.         0.01183642 0.01446909 0.00720599 0.0194655\n",
      " 0.01109657 0.00354253 0.        ]\n"
     ]
    }
   ],
   "source": [
    "print(model.feature_importances_)"
   ]
  },
  {
   "cell_type": "code",
   "execution_count": 40,
   "metadata": {},
   "outputs": [
    {
     "data": {
      "image/png": "[encoded data removed]",
      "text/plain": [
       "<Figure size 432x288 with 1 Axes>"
      ]
     },
     "metadata": {
      "needs_background": "light"
     },
     "output_type": "display_data"
    }
   ],
   "source": [
    "# plot feature importance\n",
    "plot_importance(model,height=0.5,);\n",
    "plt.show();"
   ]
  },
  {
   "cell_type": "code",
   "execution_count": 96,
   "metadata": {},
   "outputs": [
    {
     "name": "stdout",
     "output_type": "stream",
     "text": [
      " 1) area                           0.364913\n",
      " 2) Класс жилья:_cat               0.282252\n",
      " 3) Охрана:_cat                    0.042110\n",
      " 4) Количество комнат:_cat         0.034394\n",
      " 5) geo_block_1_cat                0.034126\n",
      " 6) Застройщик:_cat                0.032683\n",
      " 7) Количество квартир:_cat        0.031253\n",
      " 8) Парковка:_cat                  0.024889\n",
      " 9) breadcrumbs_1_cat              0.022896\n",
      "10) geo_block_0_cat                0.015625\n",
      "11) breadcrumbs_5_cat              0.012413\n",
      "12) breadcrumbs_2_cat              0.012192\n",
      "13) Высота потолков:_cat           0.010586\n",
      "14) Количество этажей:_cat         0.010448\n",
      "15) Год постройки:_cat             0.008031\n",
      "16) breadcrumbs_3_cat              0.007808\n",
      "17) Тип здания:_cat                0.007719\n",
      "18) Сдача:_cat                     0.007612\n",
      "19) Площадь кухни:_cat             0.007379\n",
      "20) Этаж:_cat                      0.004950\n",
      "21) Тип балкона:_cat               0.004709\n",
      "22) Дата публикации:_cat           0.004117\n",
      "23) breadcrumbs_4_cat              0.004019\n",
      "24) Общая площадь:_cat             0.003948\n",
      "25) Жилая комната:_cat             0.003790\n",
      "26) kitchen_area                   0.002168\n",
      "27) geo_block_3_cat                0.001637\n",
      "28) geo_block_2_cat                0.000918\n",
      "29) breadcrumbs_6_cat              0.000417\n",
      "30) geo_block_5_cat                0.000000\n",
      "31) geo_block_4_cat                0.000000\n",
      "32) breadcrumbs_0_cat              0.000000\n",
      "33) breadcrumbs_7_cat              0.000000\n"
     ]
    },
    {
     "data": {
      "image/png": "[encoded data removed]",
      "text/plain": [
       "<Figure size 720x360 with 1 Axes>"
      ]
     },
     "metadata": {
      "needs_background": "light"
     },
     "output_type": "display_data"
    }
   ],
   "source": [
    "#feat = x_train.columns[1:]\n",
    "model = xgb.XGBRegressor(max_depth=10, n_estimators=50, learning_rate=0.3, random_state=0)\n",
    "model.fit(X_train, y_train)\n",
    "importance = model.feature_importances_\n",
    "index = np.argsort(importance)[::-1]\n",
    "\n",
    "for f in range(x_train.shape[1]):\n",
    "    print(\"%2d) %-*s %f\" % (f+1, 30, feats[index[f]],importance[index[f]]))\n",
    " \n",
    "    \n",
    "plt.figure(figsize=(10,5))    \n",
    "plt.title('Feature importance')\n",
    "plt.bar(range(x_train.shape[1]), importance[index], align='center')\n",
    "#plt.xticks(range(x_train.shape[1]), feats[index], rotation=90)\n",
    "plt.xlim([-1, x_train.shape[1]])\n",
    "plt.tight_layout()\n",
    "plt.show()"
   ]
  },
  {
   "cell_type": "code",
   "execution_count": 100,
   "metadata": {},
   "outputs": [
    {
     "data": {
      "text/plain": [
       "['area',\n",
       " 'Класс жилья:_cat',\n",
       " 'Охрана:_cat',\n",
       " 'Количество комнат:_cat',\n",
       " 'geo_block_1_cat',\n",
       " 'Застройщик:_cat',\n",
       " 'Количество квартир:_cat']"
      ]
     },
     "execution_count": 100,
     "metadata": {},
     "output_type": "execute_result"
    }
   ],
   "source": [
    "best_feats=[]\n",
    "for f in range(X_train.shape[1]):\n",
    "    if importance[index[f]] > 0.03:\n",
    "        best_feats.append(feats[index[f]])\n",
    "#best_feats.append('intercept')\n",
    "best_feats"
   ]
  },
  {
   "cell_type": "markdown",
   "metadata": {},
   "source": [
    "## Summary of reasult for best features"
   ]
  },
  {
   "cell_type": "code",
   "execution_count": 21,
   "metadata": {},
   "outputs": [],
   "source": [
    "\n"
   ]
  },
  {
   "cell_type": "markdown",
   "metadata": {},
   "source": [
    "## Creat a result file "
   ]
  },
  {
   "cell_type": "code",
   "execution_count": 21,
   "metadata": {},
   "outputs": [],
   "source": [
    "#save the data to a file \n",
    "\n",
    "df_test[\"price\"] = y_pred\n",
    "df_test[ [\"id\", \"price\"] ].to_csv(\"../output/xgb_location_log_area.csv\", index=False)"
   ]
  },
  {
   "cell_type": "code",
   "execution_count": null,
   "metadata": {},
   "outputs": [],
   "source": []
  }
 ],
 "metadata": {
  "kernelspec": {
   "display_name": "Python 3",
   "language": "python",
   "name": "python3"
  },
  "language_info": {
   "codemirror_mode": {
    "name": "ipython",
    "version": 3
   },
   "file_extension": ".py",
   "mimetype": "text/x-python",
   "name": "python",
   "nbconvert_exporter": "python",
   "pygments_lexer": "ipython3",
   "version": "3.8.3"
  }
 },
 "nbformat": 4,
 "nbformat_minor": 5
}

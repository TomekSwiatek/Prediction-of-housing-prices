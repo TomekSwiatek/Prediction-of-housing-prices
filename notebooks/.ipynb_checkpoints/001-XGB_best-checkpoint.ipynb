{
 "cells": [
  {
   "cell_type": "markdown",
   "metadata": {},
   "source": [
    "## Load libraries"
   ]
  },
  {
   "cell_type": "code",
   "execution_count": 1,
   "metadata": {},
   "outputs": [],
   "source": [
    "import pandas as pd\n",
    "import numpy as np\n",
    "import helper as h\n",
    "\n",
    "import xgboost as xgb\n",
    "from sklearn.model_selection import cross_val_score, KFold\n",
    "from sklearn.metrics import mean_absolute_error\n",
    "\n",
    "import eli5"
   ]
  },
  {
   "cell_type": "markdown",
   "metadata": {},
   "source": [
    "## Upload data"
   ]
  },
  {
   "cell_type": "code",
   "execution_count": 2,
   "metadata": {},
   "outputs": [],
   "source": [
    "df_train = pd.read_hdf(\"../input/train_data.h5\")\n",
    "df_train['price'] = df_train['price'].map(h.parse_price)\n",
    "\n",
    "df_test = pd.read_hdf(\"../input/test_data.h5\")"
   ]
  },
  {
   "cell_type": "markdown",
   "metadata": {},
   "source": [
    "## Combine data\n",
    "Combine `df_train` and` df_test` and save the result to `df`."
   ]
  },
  {
   "cell_type": "code",
   "execution_count": 3,
   "metadata": {},
   "outputs": [
    {
     "name": "stdout",
     "output_type": "stream",
     "text": [
      "(34180, 8) (34180, 8)\n"
     ]
    }
   ],
   "source": [
    "df = pd.concat([df_train, df_test])\n",
    "print(df.shape, df.shape)"
   ]
  },
  {
   "cell_type": "code",
   "execution_count": 4,
   "metadata": {},
   "outputs": [
    {
     "data": {
      "text/html": [
       "<div>\n",
       "<style scoped>\n",
       "    .dataframe tbody tr th:only-of-type {\n",
       "        vertical-align: middle;\n",
       "    }\n",
       "\n",
       "    .dataframe tbody tr th {\n",
       "        vertical-align: top;\n",
       "    }\n",
       "\n",
       "    .dataframe thead th {\n",
       "        text-align: right;\n",
       "    }\n",
       "</style>\n",
       "<table border=\"1\" class=\"dataframe\">\n",
       "  <thead>\n",
       "    <tr style=\"text-align: right;\">\n",
       "      <th></th>\n",
       "      <th>geo_block</th>\n",
       "      <th>breadcrumbs</th>\n",
       "      <th>price</th>\n",
       "      <th>owner</th>\n",
       "      <th>params</th>\n",
       "      <th>date</th>\n",
       "      <th>user_block</th>\n",
       "      <th>id</th>\n",
       "    </tr>\n",
       "  </thead>\n",
       "  <tbody>\n",
       "    <tr>\n",
       "      <th>12951</th>\n",
       "      <td>[г. Москва, Хорошёво-Мнёвники, г. Москва, Хоро...</td>\n",
       "      <td>[Москва, Хорошёво-Мнёвники, м. Полежаевская, М...</td>\n",
       "      <td>12.15200</td>\n",
       "      <td>[]</td>\n",
       "      <td>{'Охрана:': 'предусмотрена', 'Тип здания:': 'М...</td>\n",
       "      <td>[11 апреля, 13, (+1 за сегодня), Обновлено 16 ...</td>\n",
       "      <td>[&lt;div class=\"block-user__name\"&gt;Донстрой&lt;/div&gt;,...</td>\n",
       "      <td>52118</td>\n",
       "    </tr>\n",
       "    <tr>\n",
       "      <th>18303</th>\n",
       "      <td>[г. Москва, Южное Медведково, г. Москва, Южное...</td>\n",
       "      <td>[Москва, Южное Медведково, м. Бабушкинская, МЦ...</td>\n",
       "      <td>8.26848</td>\n",
       "      <td>[]</td>\n",
       "      <td>{'Лифт:': 'да', 'Тип здания:': 'Монолитное', '...</td>\n",
       "      <td>[2 апреля, 8, (+1 за сегодня), Обновлено 14 мая]</td>\n",
       "      <td>[&lt;div class=\"block-user__name\"&gt;Группа ПИК&lt;/div...</td>\n",
       "      <td>20925</td>\n",
       "    </tr>\n",
       "    <tr>\n",
       "      <th>810</th>\n",
       "      <td>[г. Москва, ул Маршала Катукова, г. Москва, ул...</td>\n",
       "      <td>[Москва, МЦК Лихоборы, ул. Маршала Катукова]</td>\n",
       "      <td>NaN</td>\n",
       "      <td>[]</td>\n",
       "      <td>{'Охрана:': 'огороженная территория', 'Тип зда...</td>\n",
       "      <td>[21 апреля, 11, (+2 за сегодня), Обновлено 18 ...</td>\n",
       "      <td>[&lt;div class=\"block-user__name\"&gt;Агент&lt;/div&gt;, &lt;d...</td>\n",
       "      <td>36987</td>\n",
       "    </tr>\n",
       "    <tr>\n",
       "      <th>2742</th>\n",
       "      <td>[г. Москва, г. Москва]</td>\n",
       "      <td>[Москва, МЦК Локомотив]</td>\n",
       "      <td>NaN</td>\n",
       "      <td>[]</td>\n",
       "      <td>{'Охрана:': 'видеонаблюдение', 'Тип здания:': ...</td>\n",
       "      <td>[23 апреля, 4, (+2 за сегодня), Обновлено 18 мая]</td>\n",
       "      <td>[&lt;div class=\"block-user__name\"&gt;Level Group&lt;/di...</td>\n",
       "      <td>39552</td>\n",
       "    </tr>\n",
       "    <tr>\n",
       "      <th>11640</th>\n",
       "      <td>[г. Москва, Рязанский, г. Москва, Рязанский]</td>\n",
       "      <td>[Москва, Рязанский, м. Рязанский проспект, МЦК...</td>\n",
       "      <td>12.75797</td>\n",
       "      <td>[]</td>\n",
       "      <td>{'Охрана:': 'предусмотрена', 'Тип здания:': 'М...</td>\n",
       "      <td>[20 октября 2018, 25, (+2 за сегодня), Обновле...</td>\n",
       "      <td>[&lt;div class=\"block-user__name\"&gt;Группа ПИК&lt;/div...</td>\n",
       "      <td>24948</td>\n",
       "    </tr>\n",
       "  </tbody>\n",
       "</table>\n",
       "</div>"
      ],
      "text/plain": [
       "                                               geo_block  \\\n",
       "12951  [г. Москва, Хорошёво-Мнёвники, г. Москва, Хоро...   \n",
       "18303  [г. Москва, Южное Медведково, г. Москва, Южное...   \n",
       "810    [г. Москва, ул Маршала Катукова, г. Москва, ул...   \n",
       "2742                              [г. Москва, г. Москва]   \n",
       "11640       [г. Москва, Рязанский, г. Москва, Рязанский]   \n",
       "\n",
       "                                             breadcrumbs     price owner  \\\n",
       "12951  [Москва, Хорошёво-Мнёвники, м. Полежаевская, М...  12.15200    []   \n",
       "18303  [Москва, Южное Медведково, м. Бабушкинская, МЦ...   8.26848    []   \n",
       "810         [Москва, МЦК Лихоборы, ул. Маршала Катукова]       NaN    []   \n",
       "2742                             [Москва, МЦК Локомотив]       NaN    []   \n",
       "11640  [Москва, Рязанский, м. Рязанский проспект, МЦК...  12.75797    []   \n",
       "\n",
       "                                                  params  \\\n",
       "12951  {'Охрана:': 'предусмотрена', 'Тип здания:': 'М...   \n",
       "18303  {'Лифт:': 'да', 'Тип здания:': 'Монолитное', '...   \n",
       "810    {'Охрана:': 'огороженная территория', 'Тип зда...   \n",
       "2742   {'Охрана:': 'видеонаблюдение', 'Тип здания:': ...   \n",
       "11640  {'Охрана:': 'предусмотрена', 'Тип здания:': 'М...   \n",
       "\n",
       "                                                    date  \\\n",
       "12951  [11 апреля, 13, (+1 за сегодня), Обновлено 16 ...   \n",
       "18303   [2 апреля, 8, (+1 за сегодня), Обновлено 14 мая]   \n",
       "810    [21 апреля, 11, (+2 за сегодня), Обновлено 18 ...   \n",
       "2742   [23 апреля, 4, (+2 за сегодня), Обновлено 18 мая]   \n",
       "11640  [20 октября 2018, 25, (+2 за сегодня), Обновле...   \n",
       "\n",
       "                                              user_block     id  \n",
       "12951  [<div class=\"block-user__name\">Донстрой</div>,...  52118  \n",
       "18303  [<div class=\"block-user__name\">Группа ПИК</div...  20925  \n",
       "810    [<div class=\"block-user__name\">Агент</div>, <d...  36987  \n",
       "2742   [<div class=\"block-user__name\">Level Group</di...  39552  \n",
       "11640  [<div class=\"block-user__name\">Группа ПИК</div...  24948  "
      ]
     },
     "execution_count": 4,
     "metadata": {},
     "output_type": "execute_result"
    }
   ],
   "source": [
    "df.sample(5)"
   ]
  },
  {
   "cell_type": "markdown",
   "metadata": {},
   "source": [
    "### Categorization of the Params feature"
   ]
  },
  {
   "cell_type": "code",
   "execution_count": 5,
   "metadata": {},
   "outputs": [
    {
     "data": {
      "text/plain": [
       "['Охрана:_cat',\n",
       " 'Тип здания:_cat',\n",
       " 'Тип объекта:_cat',\n",
       " 'Количество корпусов:_cat',\n",
       " 'Тип объявления:_cat',\n",
       " 'Застройщик:_cat',\n",
       " 'Общая площадь:_cat',\n",
       " 'Дата публикации:_cat',\n",
       " 'Количество комнат:_cat',\n",
       " 'Парковка:_cat',\n",
       " 'Дата  обновления:_cat',\n",
       " 'Количество этажей:_cat',\n",
       " 'Сдача:_cat',\n",
       " 'Комиссия агенту:_cat',\n",
       " 'Высота потолков:_cat',\n",
       " 'Этаж:_cat',\n",
       " 'Этап строительства:_cat',\n",
       " 'Новостройка:_cat',\n",
       " 'Количество квартир:_cat',\n",
       " 'Класс жилья:_cat',\n",
       " 'Адрес:_cat',\n",
       " 'Лифт:_cat',\n",
       " 'Вид из окна:_cat',\n",
       " 'Возможна ипотека:_cat',\n",
       " 'Год постройки:_cat',\n",
       " 'Этажность:_cat',\n",
       " 'Мусоропровод:_cat',\n",
       " 'Ремонт:_cat',\n",
       " 'Площадь кухни:_cat',\n",
       " 'Жилая комната:_cat',\n",
       " 'Тип санузла:_cat',\n",
       " 'Тип балкона:_cat',\n",
       " 'Мебель на кухне:_cat',\n",
       " 'Холодильник:_cat',\n",
       " 'Интернет:_cat',\n",
       " 'Мебель:_cat',\n",
       " 'Телефон:_cat',\n",
       " 'Свободная планировка:_cat',\n",
       " 'Управляющая компания:_cat',\n",
       " 'Количество подъездов:_cat',\n",
       " 'Тип дома:_cat',\n",
       " 'Тип комнат:_cat',\n",
       " 'Покрытие пола:_cat',\n",
       " 'Серия:_cat',\n",
       " 'Тип перекрытия:_cat',\n",
       " 'Возможен торг:_cat',\n",
       " 'Класс:_cat',\n",
       " 'Телевизор:_cat',\n",
       " 'Тип фундамента:_cat',\n",
       " 'Количество жилых помещений:_cat',\n",
       " 'Детская площадка:_cat',\n",
       " 'Стиральная машина:_cat',\n",
       " 'Наибольшее количество этажей:_cat',\n",
       " 'Наименьшее количество этажей:_cat',\n",
       " 'Предоплата:_cat']"
      ]
     },
     "execution_count": 5,
     "metadata": {},
     "output_type": "execute_result"
    }
   ],
   "source": [
    "params = df[\"params\"].apply(pd.Series)\n",
    "params = params.fillna(-1)\n",
    "\n",
    "if \"Охрана:\" not in df:  #prevents params from being added again \n",
    "    df = pd.concat([df, params], axis=1)\n",
    "    \n",
    "    obj_feats = params.select_dtypes(object).columns\n",
    "\n",
    "    for feat in obj_feats:\n",
    "        df[\"{}_cat\".format(feat)] = df[feat].factorize()[0]\n",
    "\n",
    "cat_feats = [x for x in df.columns if \"_cat\" in x]\n",
    "cat_feats"
   ]
  },
  {
   "cell_type": "markdown",
   "metadata": {},
   "source": [
    "### Features of area "
   ]
  },
  {
   "cell_type": "code",
   "execution_count": 6,
   "metadata": {},
   "outputs": [],
   "source": [
    "def parse_area(val):\n",
    "    if isinstance(val, int): return val\n",
    "    if isinstance(val, float): return val\n",
    "    \n",
    "    return float(val.split(\"м\")[0].replace(\" \", \"\"))\n",
    "\n",
    "df[\"area\"] = df[\"Общая площадь:\"].map(h.parse_area)\n",
    "df[\"kitchen_area\"] = df[\"Площадь кухни:\"].map(parse_area)"
   ]
  },
  {
   "cell_type": "markdown",
   "metadata": {},
   "source": [
    "### model evaluation \n",
    "\n",
    "Two functions: `check_model`, `check_log_model`. "
   ]
  },
  {
   "cell_type": "code",
   "execution_count": 7,
   "metadata": {},
   "outputs": [],
   "source": [
    "def check_model(df, feats, model, cv=5, scoring=\"neg_mean_absolute_error\"):\n",
    "    df_train = df[ ~df[\"price\"].isnull() ].copy()\n",
    "    df_test = df[ df[\"price\"].isnull() ].copy()\n",
    "\n",
    "    X_train = df_train[feats]\n",
    "    y_train = df_train[\"price\"]\n",
    "    \n",
    "    scores = cross_val_score(model, X_train, y_train, cv=cv, scoring=scoring)\n",
    "    return np.mean(scores), np.std(scores)\n",
    "\n",
    "\n",
    "def check_log_model(df, feats, model, cv=5, scoring=\"neg_mean_absolute_error\"):\n",
    "    df_train = df[ ~df[\"price\"].isnull() ].copy()\n",
    "\n",
    "    X = df_train[feats]\n",
    "    y = df_train[\"price\"]\n",
    "    y_log = np.log(y)\n",
    "    \n",
    "    cv = KFold(n_splits=5, shuffle=True, random_state=0)\n",
    "    scores = []\n",
    "    for train_idx, test_idx in cv.split(X):\n",
    "        X_train, X_test = X.iloc[train_idx], X.iloc[test_idx]\n",
    "        y_log_train, y_test = y_log.iloc[train_idx], y.iloc[test_idx]\n",
    "\n",
    "        model = xgb.XGBRegressor(max_depth=5, n_estimators=50, random_state=0)\n",
    "        model.fit(X_train, y_log_train)\n",
    "        y_log_pred = model.predict(X_test)\n",
    "        y_pred = np.exp(y_log_pred)\n",
    "\n",
    "        score = mean_absolute_error(y_test, y_pred)\n",
    "        scores.append(score)\n",
    "\n",
    "    return np.mean(scores), np.std(scores)"
   ]
  },
  {
   "cell_type": "markdown",
   "metadata": {},
   "source": [
    "## Features of area \n",
    "Selected features: `geo_block` i `breadcrumbs`."
   ]
  },
  {
   "cell_type": "markdown",
   "metadata": {},
   "source": [
    "### geo_block"
   ]
  },
  {
   "cell_type": "code",
   "execution_count": 8,
   "metadata": {},
   "outputs": [
    {
     "data": {
      "text/plain": [
       "array([list(['г. Москва', 'Лианозово', 'г. Москва', 'Лианозово']),\n",
       "       list(['г. Москва', 'Ховрино', 'г. Москва', 'Ховрино']),\n",
       "       list(['г. Москва', 'ул Лобачевского', 'г. Москва', 'ул Лобачевского']),\n",
       "       ..., list(['г. Москва', 'Ховрино', 'г. Москва', 'Ховрино']),\n",
       "       list(['Новая Москва', 'п. Внуковское', 'г. Москва', 'Новая Москва', 'п. Внуковское', 'г. Москва']),\n",
       "       list(['г. Москва', 'Ярославский', 'ул Красная Сосна', 'г. Москва', 'Ярославский', 'ул Красная Сосна'])],\n",
       "      dtype=object)"
      ]
     },
     "execution_count": 8,
     "metadata": {},
     "output_type": "execute_result"
    }
   ],
   "source": [
    "df[\"geo_block\"].values"
   ]
  },
  {
   "cell_type": "markdown",
   "metadata": {},
   "source": [
    "Removal of duplicates, because in the lines we have two elements repeated twice. "
   ]
  },
  {
   "cell_type": "code",
   "execution_count": 9,
   "metadata": {},
   "outputs": [
    {
     "data": {
      "text/plain": [
       "0                            [г. Москва, Лианозово]\n",
       "1                              [г. Москва, Ховрино]\n",
       "2                      [г. Москва, ул Лобачевского]\n",
       "3                  [г. Москва, Ховрино, ул Дыбенко]\n",
       "4                          [г. Москва, Даниловский]\n",
       "                            ...                    \n",
       "11443                                   [г. Москва]\n",
       "11444                [г. Москва, Хорошёво-Мнёвники]\n",
       "11445                          [г. Москва, Ховрино]\n",
       "11446      [Новая Москва, п. Внуковское, г. Москва]\n",
       "11447    [г. Москва, Ярославский, ул Красная Сосна]\n",
       "Name: geo_block_norm, Length: 34180, dtype: object"
      ]
     },
     "execution_count": 9,
     "metadata": {},
     "output_type": "execute_result"
    }
   ],
   "source": [
    "df[\"geo_block_norm\"] = df[\"geo_block\"].map(lambda x: x[:int(len(x)/2)])\n",
    "\n",
    "df[\"geo_block_norm\"]"
   ]
  },
  {
   "cell_type": "markdown",
   "metadata": {},
   "source": [
    "Create `DataFrame`."
   ]
  },
  {
   "cell_type": "code",
   "execution_count": null,
   "metadata": {},
   "outputs": [],
   "source": [
    "geo_block = (\n",
    "df[\"geo_block\"]\n",
    "    .map(lambda x: x[:int(len(x)/2) ])\n",
    "    .map(lambda x: {\"geo_block_{}\".format(idx):val for idx,val in enumerate(x) })\n",
    "    .apply(pd.Series)\n",
    ")\n",
    "\n",
    "geo_block"
   ]
  },
  {
   "cell_type": "markdown",
   "metadata": {},
   "source": [
    "Categorization of the `geo_block` feature"
   ]
  },
  {
   "cell_type": "code",
   "execution_count": null,
   "metadata": {},
   "outputs": [],
   "source": [
    "\n",
    "for feat in geo_block.columns:\n",
    "    print(feat)\n",
    "    print(geo_block[feat].value_counts().head(20))\n",
    "    print(\"=\"*100)\n",
    "    print()\n",
    "    \n",
    "\n",
    "    df[\"{}_cat\".format(feat)] = geo_block[feat].factorize()[0]"
   ]
  },
  {
   "cell_type": "code",
   "execution_count": null,
   "metadata": {
    "scrolled": true
   },
   "outputs": [],
   "source": [
    "geo_cat_feats = [x for x in df.columns if \"geo_block\" in x and \"_cat\" in x]\n",
    "geo_cat_feats"
   ]
  },
  {
   "cell_type": "markdown",
   "metadata": {},
   "source": [
    "### Check result"
   ]
  },
  {
   "cell_type": "code",
   "execution_count": null,
   "metadata": {},
   "outputs": [],
   "source": [
    "feats = [\"area\", \"kitchen_area\"] + geo_cat_feats + cat_feats\n",
    "\n",
    "check_log_model(df, feats, xgb.XGBRegressor(max_depth=5, n_estimators=50, learning_rate=0.3, random_state=0))"
   ]
  },
  {
   "cell_type": "markdown",
   "metadata": {},
   "source": [
    "### Breadcrumbs \n"
   ]
  },
  {
   "cell_type": "code",
   "execution_count": null,
   "metadata": {},
   "outputs": [],
   "source": [
    "breadcrumbs = (\n",
    "    df[\"breadcrumbs\"]\n",
    "        .map(lambda x: {\"breadcrumbs_{}\".format(idx):val for idx,val in enumerate(x) })\n",
    "        .apply(pd.Series)\n",
    ")\n",
    "\n",
    "breadcrumbs"
   ]
  },
  {
   "cell_type": "markdown",
   "metadata": {},
   "source": [
    "Categorization of the `breadcrumbs` feature"
   ]
  },
  {
   "cell_type": "code",
   "execution_count": null,
   "metadata": {},
   "outputs": [],
   "source": [
    "for feat in breadcrumbs.columns:\n",
    "    print(feat)\n",
    "    print(breadcrumbs[feat].value_counts().head(20))\n",
    "    print(\"=\"*100)\n",
    "    print()\n",
    "    \n",
    "\n",
    "    df[\"{}_cat\".format(feat)] = breadcrumbs[feat].factorize()[0]"
   ]
  },
  {
   "cell_type": "code",
   "execution_count": null,
   "metadata": {},
   "outputs": [],
   "source": [
    "breadcrumbs_cat_feats = [x for x in df.columns if \"breadcrumbs\" in x and \"_cat\" in x]\n",
    "breadcrumbs_cat_feats"
   ]
  },
  {
   "cell_type": "markdown",
   "metadata": {},
   "source": [
    "A selection of the 7 best features from `breadcrumbs`. "
   ]
  },
  {
   "cell_type": "code",
   "execution_count": null,
   "metadata": {},
   "outputs": [],
   "source": [
    "beast_feats = ['Общая площадь:_cat',\n",
    " 'Класс жилья:_cat',\n",
    " 'Этаж:_cat',\n",
    " 'Количество комнат:_cat',\n",
    " 'Высота потолков:_cat',\n",
    " 'Дата публикации:_cat',\n",
    " 'Тип балкона:_cat',\n",
    " 'Застройщик:_cat',\n",
    " 'Парковка:_cat',\n",
    " 'Количество квартир:_cat',\n",
    " 'Количество этажей:_cat',\n",
    " 'Площадь кухни:_cat',\n",
    " 'Жилая комната:_cat',\n",
    " 'Охрана:_cat',\n",
    " 'Тип здания:_cat',\n",
    " 'Год постройки:_cat',\n",
    " 'Сдача:_cat'\n",
    "              ]"
   ]
  },
  {
   "cell_type": "markdown",
   "metadata": {},
   "source": [
    "### Check result"
   ]
  },
  {
   "cell_type": "code",
   "execution_count": null,
   "metadata": {},
   "outputs": [],
   "source": [
    "feats = [\"area\", \"kitchen_area\"] + geo_cat_feats + beast_feats + breadcrumbs_cat_feats;\n",
    "check_log_model(df, feats, xgb.XGBRegressor(max_depth=10, n_estimators=50, learning_rate=0.3, random_state=0))"
   ]
  },
  {
   "cell_type": "markdown",
   "metadata": {},
   "source": [
    "## Kaggle submit\n",
    "I zgodnie z tradycją - tworzymy plik do wgrania do Kaggle :) "
   ]
  },
  {
   "cell_type": "code",
   "execution_count": 36,
   "metadata": {},
   "outputs": [],
   "source": [
    "feats = [\"area\", \"kitchen_area\"] + geo_cat_feats + beast_feats + breadcrumbs_cat_feats\n",
    "\n",
    "df_train = df[ ~df[\"price\"].isnull() ].copy()\n",
    "df_test = df[ df[\"price\"].isnull() ].copy()\n",
    "\n",
    "X_train = df_train[feats]\n",
    "y_train = df_train[\"price\"]\n",
    "y_log_train = np.log(y_train)\n",
    "\n",
    "X_test = df_test[feats]\n",
    "\n",
    "model = xgb.XGBRegressor(max_depth=10, n_estimators=50, learning_rate=0.3, random_state=0)\n",
    "model.fit(X_train, y_log_train)\n",
    "y_log_pred = model.predict(X_test)\n",
    "y_pred = np.exp(y_log_pred)\n",
    "\n",
    "\n",
    "df_test[\"price\"] = y_pred\n",
    "df_test[ [\"id\", \"price\"] ].to_csv(\"../output/xgb_location_log_area.csv\", index=False)"
   ]
  },
  {
   "cell_type": "markdown",
   "metadata": {},
   "source": [
    "## Co dalej? \n",
    "\n",
    "Dalej warto poeksperymentować, konkurs trwa do końca dnia - 4 lipiec 23:59 (CEST). Warto zawalczyć o wygraną przede wszytskim dla siebie - dużo się uczysz i co najważniejsze utrwalasz wiedzę. \n",
    "\n",
    "Konkurs jest tylko pewną formą, która ma celu zmotywowanie Cię do działania w ramach zdrowej grywalizacji. \n",
    "\n",
    "Pamiętaj, że najważniejsze są Twoje umiejętności i delta rozwoju. Dziś kończy się konkurs i dostęp do konta wraz z końcem dnia, ale Twoja nauka, rozwój umiejętności nie musi się kończyć dziś ;) \n",
    "\n",
    "\n",
    "### 1. Planujemy spotkanie podsumowujące \n",
    "\n",
    "O szczegółach dowiesz się na mailu, ale już teraz zapowiadamy, że w środę wieczorem planujemy się spotkać na webinarium, aby podsumować ten master class. Chcemy to spotkanie zorganizować w taki sposób, aby osoby, które zajmą 5 pierwsz miejsc podzilili się swoimi wynikami i tym, jak udało się je osiągnąć. A więc masz kolejny zastrzyk wiedzy. \n",
    "\n",
    "\n",
    "### 2. Przedużenie Twego konta \n",
    "\n",
    "Skoro jesteś w tym starterze, to oznacza, że udało Ci się nieźle rozkręcić przez te dwa dni ;) Jeśli chcesz kontynuować to rozkręcenie, to dajemy taką możliwość. Dodatkowo w zależności od opcji, którą wybierzesz masz także dostęp do nowych materiałów (które w ramach tego wydarzenie się nie pojawiły), szczegóły pojawią się na mailu i na slacku. \n",
    "\n",
    "### 3. Twój feedback \n",
    "\n",
    "Czy jest sens organizować kolejne master class? Czy taka forma jest dla Ciebie ok? A może masz jeszcze inne potrzeby edukacyjne? Daj nam znać poprzez [ANKIETĘ](https://stat.dataworkshop.eu/r?u=https://docs.google.com/forms/d/e/1FAIpQLSdd_jUwebccAcDhHsQarOMfj4fLW106pR-6x5WSb3FegvhtHw/viewform). \n",
    "\n"
   ]
  },
  {
   "cell_type": "code",
   "execution_count": null,
   "metadata": {},
   "outputs": [],
   "source": []
  }
 ],
 "metadata": {
  "kernelspec": {
   "display_name": "Python 3",
   "language": "python",
   "name": "python3"
  },
  "language_info": {
   "codemirror_mode": {
    "name": "ipython",
    "version": 3
   },
   "file_extension": ".py",
   "mimetype": "text/x-python",
   "name": "python",
   "nbconvert_exporter": "python",
   "pygments_lexer": "ipython3",
   "version": "3.8.3"
  }
 },
 "nbformat": 4,
 "nbformat_minor": 5
}

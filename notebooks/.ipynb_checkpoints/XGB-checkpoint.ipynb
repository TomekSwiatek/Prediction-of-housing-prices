{
 "cells": [
  {
   "cell_type": "code",
   "execution_count": 1,
   "metadata": {},
   "outputs": [
    {
     "ename": "ModuleNotFoundError",
     "evalue": "No module named 'helper'",
     "output_type": "error",
     "traceback": [
      "\u001b[1;31m---------------------------------------------------------------------------\u001b[0m",
      "\u001b[1;31mModuleNotFoundError\u001b[0m                       Traceback (most recent call last)",
      "\u001b[1;32m<ipython-input-1-e88fac659a22>\u001b[0m in \u001b[0;36m<module>\u001b[1;34m\u001b[0m\n\u001b[0;32m      1\u001b[0m \u001b[1;32mimport\u001b[0m \u001b[0mpandas\u001b[0m \u001b[1;32mas\u001b[0m \u001b[0mpd\u001b[0m\u001b[1;33m\u001b[0m\u001b[1;33m\u001b[0m\u001b[0m\n\u001b[0;32m      2\u001b[0m \u001b[1;32mimport\u001b[0m \u001b[0mnumpy\u001b[0m \u001b[1;32mas\u001b[0m \u001b[0mnp\u001b[0m\u001b[1;33m\u001b[0m\u001b[1;33m\u001b[0m\u001b[0m\n\u001b[1;32m----> 3\u001b[1;33m \u001b[1;32mimport\u001b[0m \u001b[0mhelper\u001b[0m \u001b[1;32mas\u001b[0m \u001b[0mh\u001b[0m\u001b[1;33m\u001b[0m\u001b[1;33m\u001b[0m\u001b[0m\n\u001b[0m\u001b[0;32m      4\u001b[0m \u001b[1;33m\u001b[0m\u001b[0m\n\u001b[0;32m      5\u001b[0m \u001b[1;32mfrom\u001b[0m \u001b[0msklearn\u001b[0m\u001b[1;33m.\u001b[0m\u001b[0mtree\u001b[0m \u001b[1;32mimport\u001b[0m \u001b[0mDecisionTreeRegressor\u001b[0m\u001b[1;33m\u001b[0m\u001b[1;33m\u001b[0m\u001b[0m\n",
      "\u001b[1;31mModuleNotFoundError\u001b[0m: No module named 'helper'"
     ]
    }
   ],
   "source": [
    "import pandas as pd\n",
    "import numpy as np\n",
    "import helper as h\n",
    "\n",
    "from sklearn.tree import DecisionTreeRegressor\n",
    "import xgboost as xgb\n",
    "from sklearn.model_selection import cross_val_score\n",
    "import eli5\n",
    "from tqdm import tqdm\n",
    "\n",
    "import gc\n",
    "from sklearn.metrics import mean_absolute_error"
   ]
  },
  {
   "cell_type": "markdown",
   "metadata": {},
   "source": [
    "## Upload data"
   ]
  },
  {
   "cell_type": "code",
   "execution_count": null,
   "metadata": {},
   "outputs": [],
   "source": [
    "df_train = pd.read_hdf(\"../input/train_data.h5\")\n",
    "df_train['price'] = df_train['price'].map(h.parse_price)\n",
    "\n",
    "df_test = pd.read_hdf(\"../input/test_data.h5\")\n",
    "\n",
    "print(df_train.shape, df_test.shape)"
   ]
  },
  {
   "cell_type": "markdown",
   "metadata": {},
   "source": [
    "## Połączenie\n",
    "\n",
    "Łączymy `df_train` i ` df_test` i zapisujemy wynik do `df`."
   ]
  },
  {
   "cell_type": "code",
   "execution_count": 3,
   "metadata": {},
   "outputs": [],
   "source": [
    "df = pd.concat([df_train, df_test])"
   ]
  },
  {
   "cell_type": "code",
   "execution_count": 4,
   "metadata": {},
   "outputs": [
    {
     "data": {
      "text/html": [
       "<div>\n",
       "<style scoped>\n",
       "    .dataframe tbody tr th:only-of-type {\n",
       "        vertical-align: middle;\n",
       "    }\n",
       "\n",
       "    .dataframe tbody tr th {\n",
       "        vertical-align: top;\n",
       "    }\n",
       "\n",
       "    .dataframe thead th {\n",
       "        text-align: right;\n",
       "    }\n",
       "</style>\n",
       "<table border=\"1\" class=\"dataframe\">\n",
       "  <thead>\n",
       "    <tr style=\"text-align: right;\">\n",
       "      <th></th>\n",
       "      <th>geo_block</th>\n",
       "      <th>breadcrumbs</th>\n",
       "      <th>price</th>\n",
       "      <th>owner</th>\n",
       "      <th>params</th>\n",
       "      <th>date</th>\n",
       "      <th>user_block</th>\n",
       "      <th>id</th>\n",
       "    </tr>\n",
       "  </thead>\n",
       "  <tbody>\n",
       "    <tr>\n",
       "      <th>8981</th>\n",
       "      <td>[г. Москва, г. Москва]</td>\n",
       "      <td>[Москва]</td>\n",
       "      <td>NaN</td>\n",
       "      <td>[ЖК \"Крылья\". Доп. скидка 5%!]</td>\n",
       "      <td>{'Лифт:': 'да', 'Охрана:': 'закрытая территори...</td>\n",
       "      <td>[17 января, 11, (+1 за сегодня), Обновлено 16 ...</td>\n",
       "      <td>[]</td>\n",
       "      <td>53716</td>\n",
       "    </tr>\n",
       "    <tr>\n",
       "      <th>13117</th>\n",
       "      <td>[г. Москва, г. Москва]</td>\n",
       "      <td>[Москва, м. Солнцево, МЦК Лужники]</td>\n",
       "      <td>6.870549</td>\n",
       "      <td>[]</td>\n",
       "      <td>{'Лифт:': 'да', 'Охрана:': 'предусмотрена', 'Т...</td>\n",
       "      <td>[22 апреля, 21, (+2 за сегодня), Обновлено сег...</td>\n",
       "      <td>[&lt;div class=\"block-user__name\"&gt;Недвижимость от...</td>\n",
       "      <td>1123</td>\n",
       "    </tr>\n",
       "    <tr>\n",
       "      <th>6328</th>\n",
       "      <td>[г. Москва, Бутырский, г. Москва, Бутырский]</td>\n",
       "      <td>[Москва, Бутырский, м. Дмитровская, МЦК Владык...</td>\n",
       "      <td>21.000000</td>\n",
       "      <td>[]</td>\n",
       "      <td>{'Охрана:': 'предусмотрена', 'Тип здания:': 'М...</td>\n",
       "      <td>[15 мая, 3, (+1 за сегодня)]</td>\n",
       "      <td>[&lt;div class=\"block-user__name\"&gt;МИЭЛЬ-Сеть офис...</td>\n",
       "      <td>58995</td>\n",
       "    </tr>\n",
       "    <tr>\n",
       "      <th>1937</th>\n",
       "      <td>[г. Москва, Митино, г. Москва, Митино]</td>\n",
       "      <td>[Москва, Митино, м. Пятницкое шоссе, МЦК Балти...</td>\n",
       "      <td>7.338658</td>\n",
       "      <td>[]</td>\n",
       "      <td>{'Лифт:': 'да', 'Охрана:': 'предусмотрена', 'Т...</td>\n",
       "      <td>[6 марта, 16, (+1 за сегодня), Обновлено 13 мая]</td>\n",
       "      <td>[&lt;div class=\"block-user__name\"&gt;Рождествено&lt;/di...</td>\n",
       "      <td>29631</td>\n",
       "    </tr>\n",
       "    <tr>\n",
       "      <th>7401</th>\n",
       "      <td>[г. Москва, Беговой, г. Москва, Беговой]</td>\n",
       "      <td>[Москва, Беговой, м. Динамо, МЦК Хорошёво]</td>\n",
       "      <td>24.071821</td>\n",
       "      <td>[]</td>\n",
       "      <td>{'Общая площадь:': '86 м²', 'Мусоропровод:': '...</td>\n",
       "      <td>[16 мая, 2, (+1 за сегодня)]</td>\n",
       "      <td>[&lt;div class=\"block-user__name\"&gt;MR-Group&lt;/div&gt;,...</td>\n",
       "      <td>14180</td>\n",
       "    </tr>\n",
       "  </tbody>\n",
       "</table>\n",
       "</div>"
      ],
      "text/plain": [
       "                                          geo_block  \\\n",
       "8981                         [г. Москва, г. Москва]   \n",
       "13117                        [г. Москва, г. Москва]   \n",
       "6328   [г. Москва, Бутырский, г. Москва, Бутырский]   \n",
       "1937         [г. Москва, Митино, г. Москва, Митино]   \n",
       "7401       [г. Москва, Беговой, г. Москва, Беговой]   \n",
       "\n",
       "                                             breadcrumbs      price  \\\n",
       "8981                                            [Москва]        NaN   \n",
       "13117                 [Москва, м. Солнцево, МЦК Лужники]   6.870549   \n",
       "6328   [Москва, Бутырский, м. Дмитровская, МЦК Владык...  21.000000   \n",
       "1937   [Москва, Митино, м. Пятницкое шоссе, МЦК Балти...   7.338658   \n",
       "7401          [Москва, Беговой, м. Динамо, МЦК Хорошёво]  24.071821   \n",
       "\n",
       "                                owner  \\\n",
       "8981   [ЖК \"Крылья\". Доп. скидка 5%!]   \n",
       "13117                              []   \n",
       "6328                               []   \n",
       "1937                               []   \n",
       "7401                               []   \n",
       "\n",
       "                                                  params  \\\n",
       "8981   {'Лифт:': 'да', 'Охрана:': 'закрытая территори...   \n",
       "13117  {'Лифт:': 'да', 'Охрана:': 'предусмотрена', 'Т...   \n",
       "6328   {'Охрана:': 'предусмотрена', 'Тип здания:': 'М...   \n",
       "1937   {'Лифт:': 'да', 'Охрана:': 'предусмотрена', 'Т...   \n",
       "7401   {'Общая площадь:': '86 м²', 'Мусоропровод:': '...   \n",
       "\n",
       "                                                    date  \\\n",
       "8981   [17 января, 11, (+1 за сегодня), Обновлено 16 ...   \n",
       "13117  [22 апреля, 21, (+2 за сегодня), Обновлено сег...   \n",
       "6328                        [15 мая, 3, (+1 за сегодня)]   \n",
       "1937    [6 марта, 16, (+1 за сегодня), Обновлено 13 мая]   \n",
       "7401                        [16 мая, 2, (+1 за сегодня)]   \n",
       "\n",
       "                                              user_block     id  \n",
       "8981                                                  []  53716  \n",
       "13117  [<div class=\"block-user__name\">Недвижимость от...   1123  \n",
       "6328   [<div class=\"block-user__name\">МИЭЛЬ-Сеть офис...  58995  \n",
       "1937   [<div class=\"block-user__name\">Рождествено</di...  29631  \n",
       "7401   [<div class=\"block-user__name\">MR-Group</div>,...  14180  "
      ]
     },
     "execution_count": 4,
     "metadata": {},
     "output_type": "execute_result"
    }
   ],
   "source": [
    "df.sample(5)"
   ]
  },
  {
   "cell_type": "code",
   "execution_count": 5,
   "metadata": {},
   "outputs": [],
   "source": [
    "params = df[\"params\"].apply(pd.Series)\n",
    "params = params.fillna(-1)\n",
    "\n",
    "if \"Охрана:\" not in df:\n",
    "    df = pd.concat([df, params], axis=1)"
   ]
  },
  {
   "cell_type": "markdown",
   "metadata": {},
   "source": [
    "Można podejrzeć, ile unikalnych wartości mamy w każdej cesze. Nie musisz za bardzo rozumieć kodu na tym etapie, lepiej spojrzeć na wynik."
   ]
  },
  {
   "cell_type": "code",
   "execution_count": 6,
   "metadata": {},
   "outputs": [],
   "source": [
    "feats_nunique = {feat:params[feat].nunique() for feat in params.columns}\n",
    "{k: v for k, v in sorted(feats_nunique.items(), key=lambda item: item[1])};"
   ]
  },
  {
   "cell_type": "code",
   "execution_count": 7,
   "metadata": {},
   "outputs": [],
   "source": [
    "obj_feats = params.select_dtypes(object).columns\n",
    "\n",
    "for feat in obj_feats:\n",
    "    df[\"{}_cat\".format(feat)] = df[feat].factorize()[0]\n",
    "    \n",
    "cat_feats = [x for x in df.columns if \"_cat\" in x]\n",
    "#cat_feats"
   ]
  },
  {
   "cell_type": "code",
   "execution_count": 8,
   "metadata": {},
   "outputs": [
    {
     "data": {
      "text/plain": [
       "((22732, 118), (11448, 118))"
      ]
     },
     "execution_count": 8,
     "metadata": {},
     "output_type": "execute_result"
    }
   ],
   "source": [
    "df_train = df[ ~df[\"price\"].isnull() ].copy()\n",
    "df_test = df[ df[\"price\"].isnull() ].copy()\n",
    "\n",
    "df_train.shape, df_test.shape"
   ]
  },
  {
   "cell_type": "markdown",
   "metadata": {},
   "source": [
    "## X, y \n",
    "\n",
    "Teraz przygotowujemy macierz cech (od razu `X_train` i` X_test`) oraz naszą odpowiedź (`y_train`).\n"
   ]
  },
  {
   "cell_type": "code",
   "execution_count": 9,
   "metadata": {},
   "outputs": [],
   "source": [
    "X_train = df_train[cat_feats]\n",
    "y_train = df_train[\"price\"]\n",
    "\n",
    "X_test = df_test[cat_feats]"
   ]
  },
  {
   "cell_type": "code",
   "execution_count": 10,
   "metadata": {},
   "outputs": [],
   "source": [
    "cat_feats_best = [\"Класс жилья:_cat\",\n",
    "\"Дата публикации:_cat\",\n",
    "\"Лифт:_cat\",\n",
    "\"Количество комнат:_cat\",\n",
    "\"Общая площадь:_cat\",\n",
    "\"Высота потолков:_cat\",\n",
    "\"Этаж:_cat\",\n",
    "\"Застройщик:_cat\",\n",
    "\"Этап строительства:_cat\",\n",
    "\"Мебель на кухне:_cat\",\n",
    "\"Парковка:_cat\",\n",
    "\"Тип объекта:_cat\"]\n",
    "#\"Количество квартир:_cat\",\n",
    "#\"Тип объявления:_cat\",\n",
    "#\"Количество этажей:_cat\",\n",
    "#\"Этажность:_cat\",\n",
    "#\"Площадь кухни:_cat\",\n",
    "#\"Свободная планировка:_cat\",\n",
    "#\"Серия:_cat\",\n",
    "#\"Год постройки:_cat\" ]\n",
    "\n",
    "X_train = df_train[cat_feats_best]\n",
    "y_train = df_train[\"price\"]\n",
    "\n",
    "X_test = df_test[cat_feats_best]\n"
   ]
  },
  {
   "cell_type": "markdown",
   "metadata": {},
   "source": [
    "## Walidacja modelu\n",
    "\n",
    "Lokalne sprawdzenie jakości modelu.\n"
   ]
  },
  {
   "cell_type": "code",
   "execution_count": 11,
   "metadata": {},
   "outputs": [
    {
     "data": {
      "text/plain": [
       "(-4.9606091147841855, 0.455170182322432)"
      ]
     },
     "execution_count": 11,
     "metadata": {},
     "output_type": "execute_result"
    }
   ],
   "source": [
    "model = xgb.XGBRegressor(max_depth=7, n_estimators=50, random_state=0)\n",
    "scores = cross_val_score(model, X_train, y_train, scoring=\"neg_mean_absolute_error\")\n",
    "np.mean(scores), np.std(scores)"
   ]
  },
  {
   "cell_type": "markdown",
   "metadata": {},
   "source": [
    "## Тrenujemy model i prognozujemy \n",
    "\n",
    "Zacznijmy od prostego modelu - drzewa decyzyjnego."
   ]
  },
  {
   "cell_type": "code",
   "execution_count": 12,
   "metadata": {},
   "outputs": [],
   "source": [
    "model = xgb.XGBRegressor(max_depth=7, n_estimators=50, random_state=0)\n",
    "model.fit(X_train, y_train)\n",
    "y_pred = model.predict(X_test)\n",
    "\n",
    "#mean_absolute_error(y_train, y_pred)"
   ]
  },
  {
   "cell_type": "markdown",
   "metadata": {},
   "source": [
    "## Zapis wyniku \n",
    "\n"
   ]
  },
  {
   "cell_type": "code",
   "execution_count": 13,
   "metadata": {},
   "outputs": [],
   "source": [
    "df_test[\"price\"] = y_pred\n",
    "df_test[ [\"id\", \"price\"] ].to_csv(\"../output/xgb.csv\", index=False)"
   ]
  },
  {
   "cell_type": "markdown",
   "metadata": {},
   "source": [
    "## Аnalizujemy\n",
    "\n",
    "\n",
    "Korzystając z biblioteki `eli5`, możesz spróbować zobaczyć, jakie funkcje są najbardziej „interesujące” dla modelu (wpłynęły na wynik modelu).\n",
    "\n",
    "### ☝️Uwaga! \n",
    "\n",
    "\n",
    "Nie należy \"ufać\" temu rankingowi. Istnieje wiele pułapek, które musisz umieć poprawnie zinterpretować. Dlatego traktuj te dane z pewnym dystansem i założeniem, że prawdopodobnie powinieneś patrzeć oczami 👀, ale i wyczuć rękami, jak jest  💪.\n",
    "\n"
   ]
  },
  {
   "cell_type": "code",
   "execution_count": 14,
   "metadata": {},
   "outputs": [
    {
     "ename": "ValueError",
     "evalue": "feature_names has a wrong length: expected=12, got=55",
     "output_type": "error",
     "traceback": [
      "\u001b[0;31m---------------------------------------------------------------------------\u001b[0m",
      "\u001b[0;31mValueError\u001b[0m                                Traceback (most recent call last)",
      "\u001b[0;32m<ipython-input-14-cc894593a5c5>\u001b[0m in \u001b[0;36m<module>\u001b[0;34m\u001b[0m\n\u001b[0;32m----> 1\u001b[0;31m \u001b[0meli5\u001b[0m\u001b[0;34m.\u001b[0m\u001b[0mshow_weights\u001b[0m\u001b[0;34m(\u001b[0m\u001b[0mmodel\u001b[0m\u001b[0;34m,\u001b[0m \u001b[0mfeature_names\u001b[0m\u001b[0;34m=\u001b[0m\u001b[0mcat_feats\u001b[0m\u001b[0;34m)\u001b[0m\u001b[0;34m\u001b[0m\u001b[0;34m\u001b[0m\u001b[0m\n\u001b[0m",
      "\u001b[0;32m/opt/conda/lib/python3.8/site-packages/eli5/ipython.py\u001b[0m in \u001b[0;36mshow_weights\u001b[0;34m(estimator, **kwargs)\u001b[0m\n\u001b[1;32m    128\u001b[0m     \"\"\"\n\u001b[1;32m    129\u001b[0m     \u001b[0mformat_kwargs\u001b[0m\u001b[0;34m,\u001b[0m \u001b[0mexplain_kwargs\u001b[0m \u001b[0;34m=\u001b[0m \u001b[0m_split_kwargs\u001b[0m\u001b[0;34m(\u001b[0m\u001b[0mkwargs\u001b[0m\u001b[0;34m)\u001b[0m\u001b[0;34m\u001b[0m\u001b[0;34m\u001b[0m\u001b[0m\n\u001b[0;32m--> 130\u001b[0;31m     \u001b[0mexpl\u001b[0m \u001b[0;34m=\u001b[0m \u001b[0mexplain_weights\u001b[0m\u001b[0;34m(\u001b[0m\u001b[0mestimator\u001b[0m\u001b[0;34m,\u001b[0m \u001b[0;34m**\u001b[0m\u001b[0mexplain_kwargs\u001b[0m\u001b[0;34m)\u001b[0m\u001b[0;34m\u001b[0m\u001b[0;34m\u001b[0m\u001b[0m\n\u001b[0m\u001b[1;32m    131\u001b[0m     \u001b[0m_set_html_kwargs_defaults\u001b[0m\u001b[0;34m(\u001b[0m\u001b[0mformat_kwargs\u001b[0m\u001b[0;34m)\u001b[0m\u001b[0;34m\u001b[0m\u001b[0;34m\u001b[0m\u001b[0m\n\u001b[1;32m    132\u001b[0m     \u001b[0mhtml\u001b[0m \u001b[0;34m=\u001b[0m \u001b[0mformat_as_html\u001b[0m\u001b[0;34m(\u001b[0m\u001b[0mexpl\u001b[0m\u001b[0;34m,\u001b[0m \u001b[0;34m**\u001b[0m\u001b[0mformat_kwargs\u001b[0m\u001b[0;34m)\u001b[0m\u001b[0;34m\u001b[0m\u001b[0;34m\u001b[0m\u001b[0m\n",
      "\u001b[0;32m/opt/conda/lib/python3.8/functools.py\u001b[0m in \u001b[0;36mwrapper\u001b[0;34m(*args, **kw)\u001b[0m\n\u001b[1;32m    873\u001b[0m                             '1 positional argument')\n\u001b[1;32m    874\u001b[0m \u001b[0;34m\u001b[0m\u001b[0m\n\u001b[0;32m--> 875\u001b[0;31m         \u001b[0;32mreturn\u001b[0m \u001b[0mdispatch\u001b[0m\u001b[0;34m(\u001b[0m\u001b[0margs\u001b[0m\u001b[0;34m[\u001b[0m\u001b[0;36m0\u001b[0m\u001b[0;34m]\u001b[0m\u001b[0;34m.\u001b[0m\u001b[0m__class__\u001b[0m\u001b[0;34m)\u001b[0m\u001b[0;34m(\u001b[0m\u001b[0;34m*\u001b[0m\u001b[0margs\u001b[0m\u001b[0;34m,\u001b[0m \u001b[0;34m**\u001b[0m\u001b[0mkw\u001b[0m\u001b[0;34m)\u001b[0m\u001b[0;34m\u001b[0m\u001b[0;34m\u001b[0m\u001b[0m\n\u001b[0m\u001b[1;32m    876\u001b[0m \u001b[0;34m\u001b[0m\u001b[0m\n\u001b[1;32m    877\u001b[0m     \u001b[0mfuncname\u001b[0m \u001b[0;34m=\u001b[0m \u001b[0mgetattr\u001b[0m\u001b[0;34m(\u001b[0m\u001b[0mfunc\u001b[0m\u001b[0;34m,\u001b[0m \u001b[0;34m'__name__'\u001b[0m\u001b[0;34m,\u001b[0m \u001b[0;34m'singledispatch function'\u001b[0m\u001b[0;34m)\u001b[0m\u001b[0;34m\u001b[0m\u001b[0;34m\u001b[0m\u001b[0m\n",
      "\u001b[0;32m/opt/conda/lib/python3.8/site-packages/eli5/xgboost.py\u001b[0m in \u001b[0;36mexplain_weights_xgboost\u001b[0;34m(xgb, vec, top, target_names, targets, feature_names, feature_re, feature_filter, importance_type)\u001b[0m\n\u001b[1;32m     71\u001b[0m     \u001b[0mxgb_feature_names\u001b[0m \u001b[0;34m=\u001b[0m \u001b[0mbooster\u001b[0m\u001b[0;34m.\u001b[0m\u001b[0mfeature_names\u001b[0m\u001b[0;34m\u001b[0m\u001b[0;34m\u001b[0m\u001b[0m\n\u001b[1;32m     72\u001b[0m     \u001b[0mcoef\u001b[0m \u001b[0;34m=\u001b[0m \u001b[0m_xgb_feature_importances\u001b[0m\u001b[0;34m(\u001b[0m\u001b[0mbooster\u001b[0m\u001b[0;34m,\u001b[0m \u001b[0mimportance_type\u001b[0m\u001b[0;34m=\u001b[0m\u001b[0mimportance_type\u001b[0m\u001b[0;34m)\u001b[0m\u001b[0;34m\u001b[0m\u001b[0;34m\u001b[0m\u001b[0m\n\u001b[0;32m---> 73\u001b[0;31m     return get_feature_importance_explanation(\n\u001b[0m\u001b[1;32m     74\u001b[0m         \u001b[0mxgb\u001b[0m\u001b[0;34m,\u001b[0m \u001b[0mvec\u001b[0m\u001b[0;34m,\u001b[0m \u001b[0mcoef\u001b[0m\u001b[0;34m,\u001b[0m\u001b[0;34m\u001b[0m\u001b[0;34m\u001b[0m\u001b[0m\n\u001b[1;32m     75\u001b[0m         \u001b[0mfeature_names\u001b[0m\u001b[0;34m=\u001b[0m\u001b[0mfeature_names\u001b[0m\u001b[0;34m,\u001b[0m\u001b[0;34m\u001b[0m\u001b[0;34m\u001b[0m\u001b[0m\n",
      "\u001b[0;32m/opt/conda/lib/python3.8/site-packages/eli5/_feature_importances.py\u001b[0m in \u001b[0;36mget_feature_importance_explanation\u001b[0;34m(estimator, vec, coef, feature_names, feature_filter, feature_re, top, description, is_regression, estimator_feature_names, num_features, coef_std)\u001b[0m\n\u001b[1;32m     29\u001b[0m                                        coef_std=None):\n\u001b[1;32m     30\u001b[0m     \u001b[0;31m# type: (...) -> Explanation\u001b[0m\u001b[0;34m\u001b[0m\u001b[0;34m\u001b[0m\u001b[0;34m\u001b[0m\u001b[0m\n\u001b[0;32m---> 31\u001b[0;31m     feature_names, flt_indices = get_feature_names_filtered(\n\u001b[0m\u001b[1;32m     32\u001b[0m         \u001b[0mestimator\u001b[0m\u001b[0;34m,\u001b[0m \u001b[0mvec\u001b[0m\u001b[0;34m,\u001b[0m\u001b[0;34m\u001b[0m\u001b[0;34m\u001b[0m\u001b[0m\n\u001b[1;32m     33\u001b[0m         \u001b[0mfeature_names\u001b[0m\u001b[0;34m=\u001b[0m\u001b[0mfeature_names\u001b[0m\u001b[0;34m,\u001b[0m\u001b[0;34m\u001b[0m\u001b[0;34m\u001b[0m\u001b[0m\n",
      "\u001b[0;32m/opt/conda/lib/python3.8/site-packages/eli5/sklearn/utils.py\u001b[0m in \u001b[0;36mget_feature_names_filtered\u001b[0;34m(clf, vec, bias_name, feature_names, num_features, feature_filter, feature_re, estimator_feature_names)\u001b[0m\n\u001b[1;32m    118\u001b[0m                                estimator_feature_names=None):\n\u001b[1;32m    119\u001b[0m     \u001b[0;31m# type: (...) -> Tuple[FeatureNames, List[int]]\u001b[0m\u001b[0;34m\u001b[0m\u001b[0;34m\u001b[0m\u001b[0;34m\u001b[0m\u001b[0m\n\u001b[0;32m--> 120\u001b[0;31m     feature_names = get_feature_names(\n\u001b[0m\u001b[1;32m    121\u001b[0m         \u001b[0mclf\u001b[0m\u001b[0;34m=\u001b[0m\u001b[0mclf\u001b[0m\u001b[0;34m,\u001b[0m\u001b[0;34m\u001b[0m\u001b[0;34m\u001b[0m\u001b[0m\n\u001b[1;32m    122\u001b[0m         \u001b[0mvec\u001b[0m\u001b[0;34m=\u001b[0m\u001b[0mvec\u001b[0m\u001b[0;34m,\u001b[0m\u001b[0;34m\u001b[0m\u001b[0;34m\u001b[0m\u001b[0m\n",
      "\u001b[0;32m/opt/conda/lib/python3.8/site-packages/eli5/sklearn/utils.py\u001b[0m in \u001b[0;36mget_feature_names\u001b[0;34m(clf, vec, bias_name, feature_names, num_features, estimator_feature_names)\u001b[0m\n\u001b[1;32m    107\u001b[0m     \u001b[0;32melse\u001b[0m\u001b[0;34m:\u001b[0m\u001b[0;34m\u001b[0m\u001b[0;34m\u001b[0m\u001b[0m\n\u001b[1;32m    108\u001b[0m         \u001b[0;32mif\u001b[0m \u001b[0mlen\u001b[0m\u001b[0;34m(\u001b[0m\u001b[0mfeature_names\u001b[0m\u001b[0;34m)\u001b[0m \u001b[0;34m!=\u001b[0m \u001b[0mnum_features\u001b[0m\u001b[0;34m:\u001b[0m\u001b[0;34m\u001b[0m\u001b[0;34m\u001b[0m\u001b[0m\n\u001b[0;32m--> 109\u001b[0;31m             raise ValueError(\"feature_names has a wrong length: \"\n\u001b[0m\u001b[1;32m    110\u001b[0m                              \"expected=%d, got=%d\" % (num_features,\n\u001b[1;32m    111\u001b[0m                                                       len(feature_names)))\n",
      "\u001b[0;31mValueError\u001b[0m: feature_names has a wrong length: expected=12, got=55"
     ]
    }
   ],
   "source": [
    "eli5.show_weights(model, feature_names=cat_feats)"
   ]
  },
  {
   "cell_type": "markdown",
   "metadata": {},
   "source": [
    "## Rodzaj balkonu:\n",
    "\n",
    "Przyjrzyjmy się bliżej temu, co kryje się pod „rodzajem balkonu”."
   ]
  },
  {
   "cell_type": "code",
   "execution_count": null,
   "metadata": {},
   "outputs": [],
   "source": [
    "df[\"Тип балкона:\"].value_counts(normalize=True)"
   ]
  },
  {
   "cell_type": "markdown",
   "metadata": {},
   "source": [
    "Może być: balkon i loggia i różne kombinacje.\n",
    "\n",
    "Przyjrzyjmy się tabeli przestawnej."
   ]
  },
  {
   "cell_type": "code",
   "execution_count": null,
   "metadata": {},
   "outputs": [],
   "source": [
    "pd.pivot_table(df, index=[\"Тип балкона:\"], values=[\"price\"], aggfunc=[\"mean\", \"median\", \"min\", \"max\", len])"
   ]
  },
  {
   "cell_type": "markdown",
   "metadata": {},
   "source": [
    "Możemy wyciągnąć różne wnioski, zacznijmy od:\n",
    "- w większości przypadków (ponad 75%) brak informacji o „rodzaju balkonu” (gdzie wartość wynosi -1)\n",
    "- obecność dwóch balkonów znacznie zwiększa średnią i medianę\n",
    "\n",
    "\n",
    "\n",
    "### 🧐 Jakie inne wnioski można wyciągnąć?\n",
    "\n",
    "Podziel się swoimi przemyśleniami na ten temat w tym kanale [#master_class_ideas](https://stat.dataworkshop.eu/r?u=https://app.slack.com/client/TCCTN4HU3/C0275U2T64C) 🤝."
   ]
  },
  {
   "cell_type": "markdown",
   "metadata": {},
   "source": [
    "## Klasa mieszkaniowa\n",
    "\n",
    "Spójrzmy podobnie jak ostatnio."
   ]
  },
  {
   "cell_type": "code",
   "execution_count": null,
   "metadata": {},
   "outputs": [],
   "source": [
    "pd.pivot_table(df, index=[\"Класс жилья:\"], values=[\"price\"], aggfunc=[\"mean\", \"median\", \"min\", \"max\", len])"
   ]
  },
  {
   "cell_type": "markdown",
   "metadata": {},
   "source": [
    "Jak ciekawie 😉.\n",
    "\n",
    "### 🧐 Jakie wnioski można wyciągnąć?\n",
    "\n",
    "Podziel się swoimi przemyśleniaami w kanale  [#master_class_ideas](https://app.slack.com/client/TCCTN4HU3/C0275U2T64C) 🤝."
   ]
  },
  {
   "cell_type": "markdown",
   "metadata": {},
   "source": [
    "## Co dalej?\n",
    "\n",
    "Mam ndzieję, że udało mi się przekazać Ci pewien sposób myślenia. Teraz trzeba zagłębić się w dane (na przykład sprawdzić 10-30 znaków) i wyciągnąć wnioski (najlepiej te wnioski zapisać, nasza uwaga i myślenie działa wtedy najlepiej, gdy nie trzeba przechowywać wielu monotonnych informacji w naszej głowie).\n",
    "\n",
    "\n",
    "Koniecznie podziel się swoimi przemyśleniami w kanale  - [#master_class_ideas](https://stat.dataworkshop.eu/r?u=https://app.slack.com/client/TCCTN4HU3/C0275U2T64C) 🤝. Razem można wymyślić więcej :) \n"
   ]
  },
  {
   "cell_type": "code",
   "execution_count": null,
   "metadata": {},
   "outputs": [],
   "source": []
  }
 ],
 "metadata": {
  "kernelspec": {
   "display_name": "Python 3",
   "language": "python",
   "name": "python3"
  },
  "language_info": {
   "codemirror_mode": {
    "name": "ipython",
    "version": 3
   },
   "file_extension": ".py",
   "mimetype": "text/x-python",
   "name": "python",
   "nbconvert_exporter": "python",
   "pygments_lexer": "ipython3",
   "version": "3.8.3"
  }
 },
 "nbformat": 4,
 "nbformat_minor": 5
}

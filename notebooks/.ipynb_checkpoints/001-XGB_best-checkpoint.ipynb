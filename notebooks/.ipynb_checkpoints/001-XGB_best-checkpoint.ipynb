{
 "cells": [
  {
   "cell_type": "markdown",
   "metadata": {},
   "source": [
    "## Load libraries"
   ]
  },
  {
   "cell_type": "code",
   "execution_count": 50,
   "metadata": {},
   "outputs": [],
   "source": [
    "import pandas as pd\n",
    "import numpy as np\n",
    "import helper as h\n",
    "\n",
    "import xgboost as xgb\n",
    "from sklearn.model_selection import cross_val_score, KFold\n",
    "from sklearn.metrics import mean_absolute_error\n",
    "\n",
    "import matplotlib.pyplot as plt\n",
    "import seaborn as sns\n",
    "from xgboost import plot_importance\n",
    "from numpy import sort\n",
    "from sklearn.feature_selection import SelectFromModel\n",
    "\n",
    "import eli5\n",
    "\n",
    "import scipy.stats\n",
    "from scipy.stats import randint, uniform\n",
    "from sklearn.model_selection import GridSearchCV, RandomizedSearchCV"
   ]
  },
  {
   "cell_type": "markdown",
   "metadata": {},
   "source": [
    "## Upload data"
   ]
  },
  {
   "cell_type": "code",
   "execution_count": 51,
   "metadata": {},
   "outputs": [],
   "source": [
    "df_train = pd.read_hdf(\"../input/train_data.h5\")\n",
    "df_train['price'] = df_train['price'].map(h.parse_price)\n",
    "\n",
    "df_test = pd.read_hdf(\"../input/test_data.h5\")"
   ]
  },
  {
   "cell_type": "markdown",
   "metadata": {},
   "source": [
    "## Combine data\n",
    "Combine `df_train` and` df_test` and save the result to `df`."
   ]
  },
  {
   "cell_type": "code",
   "execution_count": 52,
   "metadata": {},
   "outputs": [
    {
     "name": "stdout",
     "output_type": "stream",
     "text": [
      "(34180, 8) (34180, 8)\n"
     ]
    }
   ],
   "source": [
    "df = pd.concat([df_train, df_test])\n",
    "print(df.shape, df.shape)"
   ]
  },
  {
   "cell_type": "code",
   "execution_count": 53,
   "metadata": {},
   "outputs": [
    {
     "data": {
      "text/html": [
       "<div>\n",
       "<style scoped>\n",
       "    .dataframe tbody tr th:only-of-type {\n",
       "        vertical-align: middle;\n",
       "    }\n",
       "\n",
       "    .dataframe tbody tr th {\n",
       "        vertical-align: top;\n",
       "    }\n",
       "\n",
       "    .dataframe thead th {\n",
       "        text-align: right;\n",
       "    }\n",
       "</style>\n",
       "<table border=\"1\" class=\"dataframe\">\n",
       "  <thead>\n",
       "    <tr style=\"text-align: right;\">\n",
       "      <th></th>\n",
       "      <th>geo_block</th>\n",
       "      <th>breadcrumbs</th>\n",
       "      <th>price</th>\n",
       "      <th>owner</th>\n",
       "      <th>params</th>\n",
       "      <th>date</th>\n",
       "      <th>user_block</th>\n",
       "      <th>id</th>\n",
       "    </tr>\n",
       "  </thead>\n",
       "  <tbody>\n",
       "    <tr>\n",
       "      <th>3745</th>\n",
       "      <td>[г. Москва, г. Москва]</td>\n",
       "      <td>[Москва, МЦК Хорошёво]</td>\n",
       "      <td>NaN</td>\n",
       "      <td>[]</td>\n",
       "      <td>{'Охрана:': 'предусмотрена', 'Тип здания:': 'М...</td>\n",
       "      <td>[9 мая, 3, (+1 за сегодня), Обновлено 15 мая]</td>\n",
       "      <td>[&lt;div class=\"block-user__name\"&gt;Агент&lt;/div&gt;, &lt;d...</td>\n",
       "      <td>68025</td>\n",
       "    </tr>\n",
       "    <tr>\n",
       "      <th>945</th>\n",
       "      <td>[г. Москва, Пресненский, г. Москва, Пресненский]</td>\n",
       "      <td>[Москва, Пресненский, м. Международная, МЦК Ше...</td>\n",
       "      <td>NaN</td>\n",
       "      <td>[]</td>\n",
       "      <td>{'Общая площадь:': '75.3 м²', 'Дата публикации...</td>\n",
       "      <td>[11 мая, 3, (+2 за сегодня), Обновлено 17 мая]</td>\n",
       "      <td>[&lt;div class=\"block-user__name\"&gt;Донстрой&lt;/div&gt;,...</td>\n",
       "      <td>45220</td>\n",
       "    </tr>\n",
       "    <tr>\n",
       "      <th>9596</th>\n",
       "      <td>[г. Москва, г. Москва]</td>\n",
       "      <td>[Москва, МЦК Соколиная Гора]</td>\n",
       "      <td>6.6500</td>\n",
       "      <td>[ЖК \"Семеновский парк\"]</td>\n",
       "      <td>{'Охрана:': 'предусмотрена', 'Тип здания:': 'П...</td>\n",
       "      <td>[13 мая, 3, (+1 за сегодня), Обновлено вчера в...</td>\n",
       "      <td>[]</td>\n",
       "      <td>33606</td>\n",
       "    </tr>\n",
       "    <tr>\n",
       "      <th>2956</th>\n",
       "      <td>[г. Москва, Хамовники, г. Москва, Хамовники]</td>\n",
       "      <td>[Москва, Хамовники, м. Парк культуры, МЦК Лужн...</td>\n",
       "      <td>NaN</td>\n",
       "      <td>[]</td>\n",
       "      <td>{'Охрана:': 'предусмотрена', 'Тип здания:': 'К...</td>\n",
       "      <td>[11 мая, 3, (+2 за сегодня), Обновлено 17 мая]</td>\n",
       "      <td>[&lt;div class=\"block-user__name\"&gt;Донстрой&lt;/div&gt;,...</td>\n",
       "      <td>44483</td>\n",
       "    </tr>\n",
       "    <tr>\n",
       "      <th>20723</th>\n",
       "      <td>[г. Москва, Раменки, ул Лобачевского, г. Москв...</td>\n",
       "      <td>[Москва, Раменки, м. Раменки, МЦК Кутузовская,...</td>\n",
       "      <td>19.3724</td>\n",
       "      <td>[]</td>\n",
       "      <td>{'Лифт:': 'да', 'Охрана:': 'охраняемая террито...</td>\n",
       "      <td>[2 апреля, 18, (+1 за сегодня), Обновлено 14 мая]</td>\n",
       "      <td>[&lt;div class=\"block-user__name\"&gt;Азбука Жилья&lt;/d...</td>\n",
       "      <td>19948</td>\n",
       "    </tr>\n",
       "  </tbody>\n",
       "</table>\n",
       "</div>"
      ],
      "text/plain": [
       "                                               geo_block  \\\n",
       "3745                              [г. Москва, г. Москва]   \n",
       "945     [г. Москва, Пресненский, г. Москва, Пресненский]   \n",
       "9596                              [г. Москва, г. Москва]   \n",
       "2956        [г. Москва, Хамовники, г. Москва, Хамовники]   \n",
       "20723  [г. Москва, Раменки, ул Лобачевского, г. Москв...   \n",
       "\n",
       "                                             breadcrumbs    price  \\\n",
       "3745                              [Москва, МЦК Хорошёво]      NaN   \n",
       "945    [Москва, Пресненский, м. Международная, МЦК Ше...      NaN   \n",
       "9596                        [Москва, МЦК Соколиная Гора]   6.6500   \n",
       "2956   [Москва, Хамовники, м. Парк культуры, МЦК Лужн...      NaN   \n",
       "20723  [Москва, Раменки, м. Раменки, МЦК Кутузовская,...  19.3724   \n",
       "\n",
       "                         owner  \\\n",
       "3745                        []   \n",
       "945                         []   \n",
       "9596   [ЖК \"Семеновский парк\"]   \n",
       "2956                        []   \n",
       "20723                       []   \n",
       "\n",
       "                                                  params  \\\n",
       "3745   {'Охрана:': 'предусмотрена', 'Тип здания:': 'М...   \n",
       "945    {'Общая площадь:': '75.3 м²', 'Дата публикации...   \n",
       "9596   {'Охрана:': 'предусмотрена', 'Тип здания:': 'П...   \n",
       "2956   {'Охрана:': 'предусмотрена', 'Тип здания:': 'К...   \n",
       "20723  {'Лифт:': 'да', 'Охрана:': 'охраняемая террито...   \n",
       "\n",
       "                                                    date  \\\n",
       "3745       [9 мая, 3, (+1 за сегодня), Обновлено 15 мая]   \n",
       "945       [11 мая, 3, (+2 за сегодня), Обновлено 17 мая]   \n",
       "9596   [13 мая, 3, (+1 за сегодня), Обновлено вчера в...   \n",
       "2956      [11 мая, 3, (+2 за сегодня), Обновлено 17 мая]   \n",
       "20723  [2 апреля, 18, (+1 за сегодня), Обновлено 14 мая]   \n",
       "\n",
       "                                              user_block     id  \n",
       "3745   [<div class=\"block-user__name\">Агент</div>, <d...  68025  \n",
       "945    [<div class=\"block-user__name\">Донстрой</div>,...  45220  \n",
       "9596                                                  []  33606  \n",
       "2956   [<div class=\"block-user__name\">Донстрой</div>,...  44483  \n",
       "20723  [<div class=\"block-user__name\">Азбука Жилья</d...  19948  "
      ]
     },
     "execution_count": 53,
     "metadata": {},
     "output_type": "execute_result"
    }
   ],
   "source": [
    "df.sample(5)"
   ]
  },
  {
   "cell_type": "markdown",
   "metadata": {},
   "source": [
    "## Initial data analysis and preparation"
   ]
  },
  {
   "cell_type": "code",
   "execution_count": 54,
   "metadata": {},
   "outputs": [
    {
     "name": "stdout",
     "output_type": "stream",
     "text": [
      "Number of observations: 34180 \n",
      "\n",
      "Types of features :\n",
      " geo_block       object\n",
      "breadcrumbs     object\n",
      "price          float64\n",
      "owner           object\n",
      "params          object\n",
      "date            object\n",
      "user_block      object\n",
      "id               int64\n",
      "dtype: object \n",
      "\n",
      "Number of features: 8 \n",
      "\n",
      "Lack of data: True \n",
      "\n"
     ]
    }
   ],
   "source": [
    "print ('Number of observations:',df.shape[0],'\\n')\n",
    "print('Types of features :\\n',df.dtypes,'\\n')\n",
    "print ('Number of features:',df.shape[1],'\\n')\n",
    "print ('Lack of data:',df.isnull().any().any(),'\\n')\n"
   ]
  },
  {
   "cell_type": "code",
   "execution_count": 55,
   "metadata": {},
   "outputs": [
    {
     "data": {
      "text/html": [
       "<div>\n",
       "<style scoped>\n",
       "    .dataframe tbody tr th:only-of-type {\n",
       "        vertical-align: middle;\n",
       "    }\n",
       "\n",
       "    .dataframe tbody tr th {\n",
       "        vertical-align: top;\n",
       "    }\n",
       "\n",
       "    .dataframe thead th {\n",
       "        text-align: right;\n",
       "    }\n",
       "</style>\n",
       "<table border=\"1\" class=\"dataframe\">\n",
       "  <thead>\n",
       "    <tr style=\"text-align: right;\">\n",
       "      <th></th>\n",
       "      <th>price</th>\n",
       "    </tr>\n",
       "  </thead>\n",
       "  <tbody>\n",
       "    <tr>\n",
       "      <th>count</th>\n",
       "      <td>22732.000000</td>\n",
       "    </tr>\n",
       "    <tr>\n",
       "      <th>mean</th>\n",
       "      <td>17.525508</td>\n",
       "    </tr>\n",
       "    <tr>\n",
       "      <th>std</th>\n",
       "      <td>44.079082</td>\n",
       "    </tr>\n",
       "    <tr>\n",
       "      <th>min</th>\n",
       "      <td>1.040000</td>\n",
       "    </tr>\n",
       "    <tr>\n",
       "      <th>25%</th>\n",
       "      <td>7.162347</td>\n",
       "    </tr>\n",
       "    <tr>\n",
       "      <th>50%</th>\n",
       "      <td>9.888750</td>\n",
       "    </tr>\n",
       "    <tr>\n",
       "      <th>75%</th>\n",
       "      <td>15.410000</td>\n",
       "    </tr>\n",
       "    <tr>\n",
       "      <th>max</th>\n",
       "      <td>3000.000015</td>\n",
       "    </tr>\n",
       "  </tbody>\n",
       "</table>\n",
       "</div>"
      ],
      "text/plain": [
       "              price\n",
       "count  22732.000000\n",
       "mean      17.525508\n",
       "std       44.079082\n",
       "min        1.040000\n",
       "25%        7.162347\n",
       "50%        9.888750\n",
       "75%       15.410000\n",
       "max     3000.000015"
      ]
     },
     "execution_count": 55,
     "metadata": {},
     "output_type": "execute_result"
    }
   ],
   "source": [
    "df[['price']].describe()"
   ]
  },
  {
   "cell_type": "code",
   "execution_count": 56,
   "metadata": {},
   "outputs": [
    {
     "data": {
      "image/png": "[encoded data removed]",
      "text/plain": [
       "<Figure size 576x360 with 1 Axes>"
      ]
     },
     "metadata": {},
     "output_type": "display_data"
    }
   ],
   "source": [
    "df.price.hist(figsize=(8,5), bins=50, log=True);"
   ]
  },
  {
   "cell_type": "code",
   "execution_count": 57,
   "metadata": {},
   "outputs": [
    {
     "data": {
      "image/png": "[encoded data removed]",
      "text/plain": [
       "<Figure size 720x144 with 1 Axes>"
      ]
     },
     "metadata": {},
     "output_type": "display_data"
    },
    {
     "name": "stdout",
     "output_type": "stream",
     "text": [
      "Feature is normally distributed\n"
     ]
    }
   ],
   "source": [
    "plt.figure(figsize=(10,2))\n",
    "sns.set(font_scale=1.3, style=\"whitegrid\")\n",
    "sns.boxplot(df['price'],palette = ['gray']).set(title = 'price', xlabel = 'Price of the property')\n",
    "plt.show()\n",
    "\n",
    "if(scipy.stats.normaltest(df['price'])[1] < 0.05): #Normal distribution test \n",
    "    print('Feature is not normally distributed')\n",
    "else:\n",
    "    print('Feature is normally distributed')"
   ]
  },
  {
   "cell_type": "code",
   "execution_count": 58,
   "metadata": {},
   "outputs": [
    {
     "data": {
      "text/html": [
       "<div>\n",
       "<style scoped>\n",
       "    .dataframe tbody tr th:only-of-type {\n",
       "        vertical-align: middle;\n",
       "    }\n",
       "\n",
       "    .dataframe tbody tr th {\n",
       "        vertical-align: top;\n",
       "    }\n",
       "\n",
       "    .dataframe thead th {\n",
       "        text-align: right;\n",
       "    }\n",
       "</style>\n",
       "<table border=\"1\" class=\"dataframe\">\n",
       "  <thead>\n",
       "    <tr style=\"text-align: right;\">\n",
       "      <th></th>\n",
       "      <th>geo_block</th>\n",
       "      <th>breadcrumbs</th>\n",
       "      <th>owner</th>\n",
       "      <th>params</th>\n",
       "      <th>date</th>\n",
       "      <th>user_block</th>\n",
       "    </tr>\n",
       "  </thead>\n",
       "  <tbody>\n",
       "    <tr>\n",
       "      <th>count</th>\n",
       "      <td>34180</td>\n",
       "      <td>34180</td>\n",
       "      <td>34180</td>\n",
       "      <td>34180</td>\n",
       "      <td>34180</td>\n",
       "      <td>34180</td>\n",
       "    </tr>\n",
       "    <tr>\n",
       "      <th>unique</th>\n",
       "      <td>983</td>\n",
       "      <td>1497</td>\n",
       "      <td>211</td>\n",
       "      <td>33094</td>\n",
       "      <td>11193</td>\n",
       "      <td>1365</td>\n",
       "    </tr>\n",
       "    <tr>\n",
       "      <th>top</th>\n",
       "      <td>[г. Москва, г. Москва]</td>\n",
       "      <td>[Москва, Новая Москва, п. Сосенское, п. Коммун...</td>\n",
       "      <td>[]</td>\n",
       "      <td>{'Лифт:': 'да', 'Охрана:': 'предусмотрена', 'Т...</td>\n",
       "      <td>[16 мая, 2, (+1 за сегодня)]</td>\n",
       "      <td>[]</td>\n",
       "    </tr>\n",
       "    <tr>\n",
       "      <th>freq</th>\n",
       "      <td>9225</td>\n",
       "      <td>1140</td>\n",
       "      <td>30647</td>\n",
       "      <td>7</td>\n",
       "      <td>560</td>\n",
       "      <td>3543</td>\n",
       "    </tr>\n",
       "  </tbody>\n",
       "</table>\n",
       "</div>"
      ],
      "text/plain": [
       "                     geo_block  \\\n",
       "count                    34180   \n",
       "unique                     983   \n",
       "top     [г. Москва, г. Москва]   \n",
       "freq                      9225   \n",
       "\n",
       "                                              breadcrumbs  owner  \\\n",
       "count                                               34180  34180   \n",
       "unique                                               1497    211   \n",
       "top     [Москва, Новая Москва, п. Сосенское, п. Коммун...     []   \n",
       "freq                                                 1140  30647   \n",
       "\n",
       "                                                   params  \\\n",
       "count                                               34180   \n",
       "unique                                              33094   \n",
       "top     {'Лифт:': 'да', 'Охрана:': 'предусмотрена', 'Т...   \n",
       "freq                                                    7   \n",
       "\n",
       "                                date user_block  \n",
       "count                          34180      34180  \n",
       "unique                         11193       1365  \n",
       "top     [16 мая, 2, (+1 за сегодня)]         []  \n",
       "freq                             560       3543  "
      ]
     },
     "execution_count": 58,
     "metadata": {},
     "output_type": "execute_result"
    }
   ],
   "source": [
    "#general comparison\n",
    "df.select_dtypes(include = ['object']).describe()"
   ]
  },
  {
   "cell_type": "code",
   "execution_count": 59,
   "metadata": {},
   "outputs": [
    {
     "name": "stdout",
     "output_type": "stream",
     "text": [
      "[г. Москва, г. Москва]                                                                                                                    0.269895\n",
      "[Новая Москва, п. Сосенское, п. Коммунарка, Южное Бутово, Новая Москва, п. Сосенское, п. Коммунарка, Южное Бутово]                        0.033353\n",
      "[г. Москва, Хорошёво-Мнёвники, г. Москва, Хорошёво-Мнёвники]                                                                              0.030925\n",
      "[г. Москва, Филёвский Парк, г. Москва, Филёвский Парк]                                                                                    0.027384\n",
      "[г. Москва, Некрасовка, г. Москва, Некрасовка]                                                                                            0.017642\n",
      "                                                                                                                                            ...   \n",
      "[г. Москва, Выхино-Жулебино, проезд Ферганский, г. Москва, Выхино-Жулебино, проезд Ферганский]                                            0.000029\n",
      "[г. Москва, Сокольники, пер Стромынский, г. Москва, Сокольники, пер Стромынский]                                                          0.000029\n",
      "[Новая Москва, п. Десеновское, п. Ватутинки, Новая Москва, п. Десеновское, п. Ватутинки]                                                  0.000029\n",
      "[г. Москва, Басманный, ул Спартаковская, г. Москва, Басманный, ул Спартаковская]                                                          0.000029\n",
      "[Новая Москва, п. Щаповское, п. Дорожно-ремонтного пункта 3, Арбат, Новая Москва, п. Щаповское, п. Дорожно-ремонтного пункта 3, Арбат]    0.000029\n",
      "Name: geo_block, Length: 983, dtype: float64\n"
     ]
    }
   ],
   "source": [
    "print(df['geo_block'].value_counts(normalize = True))"
   ]
  },
  {
   "cell_type": "code",
   "execution_count": 60,
   "metadata": {},
   "outputs": [
    {
     "name": "stdout",
     "output_type": "stream",
     "text": [
      "[Москва, Новая Москва, п. Сосенское, п. Коммунарка, Южное Бутово, м. Бунинская Аллея, МЦК Крымская]    0.033353\n",
      "[Москва, МЦК Лужники]                                                                                  0.031393\n",
      "[Москва, МЦК Кутузовская]                                                                              0.023347\n",
      "[Москва, МЦК Крымская]                                                                                 0.020509\n",
      "[Москва, МЦК Шелепиха]                                                                                 0.018812\n",
      "                                                                                                         ...   \n",
      "[Москва, МЦК Соколиная Гора, ул. Буракова]                                                             0.000029\n",
      "[Москва, Новая Москва, п. Рязановское, д. Ерино, Чертаново Южное, м. Аннино, МЦК Крымская]             0.000029\n",
      "[Москва, Северный, м. ЦСКА, МЦК Зорге]                                                                 0.000029\n",
      "[Москва, м. Зябликово]                                                                                 0.000029\n",
      "[Москва, Выхино-Жулебино, м. Котельники, МЦК Нижегородская, ул. Авиаконструктора Миля]                 0.000029\n",
      "Name: breadcrumbs, Length: 1497, dtype: float64\n"
     ]
    }
   ],
   "source": [
    "print(df['breadcrumbs'].value_counts(normalize = True))"
   ]
  },
  {
   "cell_type": "code",
   "execution_count": 61,
   "metadata": {},
   "outputs": [
    {
     "name": "stdout",
     "output_type": "stream",
     "text": [
      "[]                                 0.896635\n",
      "[ЖК \"Крылья\". Доп. скидка 5%!]     0.010415\n",
      "[Квартиры в ЖК \"Аквилон PARK\"!]    0.007226\n",
      "[Переделкино Ближнее]              0.006173\n",
      "[Район «Скандинавия»]              0.005851\n",
      "                                     ...   \n",
      "[Светлана Светлана]                0.000029\n",
      "[Алексей]                          0.000029\n",
      "[МОСКОВСКИЙ РИЭЛТОР]               0.000029\n",
      "[Двойных Любовь Георгиевна]        0.000029\n",
      "[Андрей Спиркин]                   0.000029\n",
      "Name: owner, Length: 211, dtype: float64\n"
     ]
    }
   ],
   "source": [
    "print(df['owner'].value_counts(normalize = True))"
   ]
  },
  {
   "cell_type": "code",
   "execution_count": 62,
   "metadata": {},
   "outputs": [
    {
     "name": "stdout",
     "output_type": "stream",
     "text": [
      "{'Лифт:': 'да', 'Охрана:': 'предусмотрена', 'Тип здания:': 'Монолитное', 'Тип объекта:': 'квартира', 'Количество корпусов:': '8', 'Тип объявления:': 'от застройщика', 'Застройщик:': 'Группа ЛСР (LSR)', 'Общая площадь:': '87.27 м²', 'Дата публикации:': '22 апреля', 'Тип санузла:': 'раздельный', 'Площадь кухни:': '20.8 м²', 'Количество комнат:': '3', 'Парковка:': 'подземная', 'Дата  обновления:': 'сегодня в 05:54', 'Класс жилья:': 'Комфорт класс', 'Год постройки:': '2021', 'Количество этажей:': '19', 'Комиссия агенту:': 'без комиссии', 'Высота потолков:': '2.72 м', 'Этаж:': '2/19', 'Жилая комната:': '47.53 м²', 'Мусоропровод:': 'да', 'Этап строительства:': 'Отделка', 'Новостройка:': 'ЖК «Лучи», м. Румянцево', 'Возможна ипотека:': 'да', 'Адрес:': ''}                                                                        0.000205\n",
      "{'Охрана:': 'предусмотрена', 'Тип здания:': 'Монолитное', 'Тип объекта:': 'квартира', 'Количество корпусов:': '12', 'Тип объявления:': 'от застройщика', 'Застройщик:': 'УК «Развитие»', 'Общая площадь:': '36.46 м²', 'Дата публикации:': '30 октября 2017', 'Количество комнат:': '1', 'Парковка:': 'подземная/наземная, 1200 м/м', 'Дата  обновления:': '14 мая', 'Класс жилья:': 'Комфорт класс', 'Год постройки:': '2018', 'Количество этажей:': '25', 'Комиссия агенту:': 'без комиссии', 'Высота потолков:': '2.6 м', 'Этаж:': '9/25', 'Этап строительства:': 'Отделка', 'Новостройка:': 'ЖК «Мир Митино», м. Пятницкое шоссе', 'Количество квартир:': '1814', 'Возможна ипотека:': 'да', 'Адрес:': 'Москва, СЗАО, Митино, вблизи села Рождественно'}                                                                                                 0.000176\n",
      "{'Лифт:': 'да', 'Охрана:': 'консьерж', 'Тип здания:': 'Монолитное', 'Тип объекта:': 'квартиры', 'Количество корпусов:': '87', 'Тип объявления:': 'от застройщика', 'Застройщик:': 'ООО «Олета»', 'Общая площадь:': '54 м²', 'Дата публикации:': 'вчера в 10:14', 'Количество комнат:': '2', 'Парковка:': 'предусмотрена', 'Год постройки:': '2020', 'Этажность:': 'от 4 до 25', 'Комиссия агенту:': 'без комиссии', 'Высота потолков:': '2.8 м', 'Этаж:': '6', 'Этап строительства:': 'Возведение стен', 'Новостройка:': 'Город-парк «Переделкино Ближнее», дер. Рассказовка', 'Класс жилья:': 'Комфорт класс', 'Адрес:': 'Москва, пос. Внуковское, дер. Рассказовка'}                                                                                                                                                                                       0.000176\n",
      "{'Лифт:': 'да', 'Охрана:': 'круглосуточная охрана, консьерж, домофон, видеонаблюдение, шлагбаум', 'Тип здания:': 'Монолитно-кирпичное', 'Тип объекта:': 'квартира', 'Количество корпусов:': '10', 'Тип объявления:': 'от застройщика', 'Застройщик:': 'Группа «Эталон»', 'Общая площадь:': '63.5 м²', 'Дата публикации:': '20 апреля', 'Тип санузла:': 'раздельный', 'Площадь кухни:': '13.9 м²', 'Количество комнат:': '2', 'Парковка:': 'подземная на 213 м/м', 'Дата  обновления:': '16 мая', 'Класс жилья:': 'Бизнес класс', 'Год постройки:': '2020', 'Количество этажей:': '22', 'Комиссия агенту:': 'без комиссии', 'Высота потолков:': '2.78 м', 'Этаж:': '5/22', 'Жилая комната:': '29.5 м²', 'Мусоропровод:': 'да', 'Этап строительства:': 'Отделка', 'Новостройка:': 'ЖК «Летний сад», м. Алтуфьево', 'Возможна ипотека:': 'да', 'Адрес:': ''}    0.000146\n",
      "{'Охрана:': 'предусмотрена', 'Тип здания:': 'Монолитное', 'Тип объекта:': 'квартиры', 'Количество корпусов:': '4', 'Тип объявления:': 'в новостройке', 'Застройщик:': 'ГК «Инград» (INGRAD)', 'Общая площадь:': '80.3 м²', 'Дата публикации:': '28 апреля', 'Количество комнат:': '2', 'Парковка:': 'подземная, 534 м/м', 'Дата  обновления:': '17 мая', 'Количество этажей:': '18', 'Сдача:': '4 кв. 2019 года', 'Комиссия агенту:': 'без комиссии', 'Этаж:': '2/18', 'Этап строительства:': 'Возведение стен', 'Новостройка:': 'ЖК «Новочеремушкинская, 17», м. Академическая', 'Количество квартир:': '695', 'Класс жилья:': 'Бизнес класс', 'Адрес:': ''}                                                                                                                                                                                                0.000146\n",
      "                                                                                                                                                                                                                                                                                                                                                                                                                                                                                                                                                                                                                                                                                                                                                                                                                                                               ...   \n",
      "{'Лифт:': 'да', 'Охрана:': 'предусмотрена', 'Тип здания:': 'Монолитно-кирпичное', 'Тип объекта:': 'квартира', 'Количество корпусов:': '15', 'Тип объявления:': 'от застройщика', 'Застройщик:': 'ГК «МонАрх»', 'Общая площадь:': '49.1 м²', 'Дата публикации:': 'вчера в 05:44', 'Площадь кухни:': '19.2 м²', 'Количество комнат:': '1', 'Парковка:': 'подземная/наземная, 1796 м/м', 'Класс жилья:': 'Бизнес класс', 'Год постройки:': '2019', 'Количество этажей:': '13', 'Комиссия агенту:': 'без комиссии', 'Высота потолков:': '2.8 м', 'Этаж:': '11/13', 'Жилая комната:': '14.7 м²', 'Мусоропровод:': 'да', 'Этап строительства:': 'Отделка', 'Новостройка:': 'ЖК «Хорошевский», м. Октябрьское Поле', 'Количество квартир:': '1074', 'Возможна ипотека:': 'да', 'Адрес:': 'Москва, СЗАО, Хорошёво-Мнёвники, ул Хорошевская 3-я, д. 7, к. 3-15'}      0.000029\n",
      "{'Охрана:': 'предусмотрена', 'Тип здания:': 'Монолитное', 'Тип объекта:': 'квартиры', 'Количество корпусов:': '1', 'Тип объявления:': 'в новостройке', 'Застройщик:': 'Valartis Group', 'Общая площадь:': '78.2 м²', 'Дата публикации:': '22 апреля', 'Количество комнат:': '1', 'Парковка:': 'подземная, 72 м/м', 'Дата  обновления:': '17 мая', 'Количество этажей:': '5', 'Сдача:': '4 кв. 2018 года', 'Комиссия агенту:': 'без комиссии', 'Этаж:': '2/5', 'Этап строительства:': 'Сдан', 'Новостройка:': 'Клубный дом Artisan, м. Смоленская', 'Количество квартир:': '23', 'Класс жилья:': 'Элит класс', 'Адрес:': ''}                                                                                                                                                                                                                                  0.000029\n",
      "{'Лифт:': 'да', 'Тип здания:': 'Панельное', 'Тип объекта:': 'квартира', 'Количество корпусов:': '27', 'Тип объявления:': 'в новостройке', 'Застройщик:': 'Группа ПИК', 'Общая площадь:': '52 м²', 'Дата публикации:': '14 марта', 'Ремонт:': 'евро', 'Площадь кухни:': '19 м²', 'Количество комнат:': '2', 'Парковка:': 'подземная на 7605 м/м', 'Дата  обновления:': '14 мая', 'Класс жилья:': 'Комфорт класс', 'Вид из окна:': 'во двор', 'Количество этажей:': '16', 'Сдача:': '3 кв. 2021 года', 'Комиссия агенту:': 'без комиссии', 'Высота потолков:': '2.68 м', 'Этаж:': '2/16', 'Жилая комната:': '19 м²', 'Мусоропровод:': 'да', 'Этап строительства:': 'Возведение стен', 'Новостройка:': 'Жилой комплекс «Люблинский парк», м. Братиславская', 'Количество квартир:': '1131', 'Возможна ипотека:': 'да', 'Адрес:': ''}                            0.000029\n",
      "{'Тип здания:': 'Монолитное', 'Тип объекта:': 'квартиры', 'Количество корпусов:': '6', 'Тип объявления:': 'от застройщика', 'Застройщик:': 'ГК «Самолет»', 'Общая площадь:': '73 м²', 'Дата публикации:': '23 декабря 2018', 'Количество комнат:': '3', 'Дата  обновления:': '18 мая', 'Год постройки:': '2020', 'Количество этажей:': '14', 'Комиссия агенту:': 'без комиссии', 'Этаж:': '4/14', 'Жилая комната:': '39 м²', 'Этап строительства:': 'Возведение стен', 'Новостройка:': 'ЖК «Остафьево», м. Бунинская аллея', 'Количество квартир:': '2300', 'Класс жилья:': 'Комфорт класс', 'Адрес:': 'Москва, НАО, п. Рязановское, с. Остафьево'}                                                                                                                                                                                                          0.000029\n",
      "{'Общая площадь:': '52.2 м²', 'Дата публикации:': '26 декабря 2018', 'Тип здания:': 'Монолитное', 'Количество комнат:': '2', 'Количество этажей:': '13', 'Дата  обновления:': '17 мая', 'Тип объекта:': 'квартиры', 'Комиссия агенту:': 'без комиссии', 'Тип объявления:': 'вторичка', 'Адрес:': '', 'Этаж:': '5/13'}                                                                                                                                                                                                                                                                                                                                                                                                                                                                                                                                        0.000029\n",
      "Name: params, Length: 33094, dtype: float64\n"
     ]
    }
   ],
   "source": [
    "print(df['params'].value_counts(normalize = True))"
   ]
  },
  {
   "cell_type": "code",
   "execution_count": 63,
   "metadata": {},
   "outputs": [
    {
     "name": "stdout",
     "output_type": "stream",
     "text": [
      "[16 мая, 2, (+1 за сегодня)]                                 0.016384\n",
      "[16 мая, 3, (+1 за сегодня)]                                 0.009830\n",
      "[17 мая, 3, (+2 за сегодня)]                                 0.009684\n",
      "[17 мая, 2, (+1 за сегодня)]                                 0.009450\n",
      "[18 мая, 3, (+2 за сегодня)]                                 0.008104\n",
      "                                                               ...   \n",
      "[26 апреля, 48, (+1 за сегодня)]                             0.000029\n",
      "[9 февраля, 11, (+1 за сегодня), Обновлено вчера в 10:47]    0.000029\n",
      "[7 февраля, 28, (+2 за сегодня), Обновлено 18 мая]           0.000029\n",
      "[1 июня 2015, 480, (+1 за сегодня), Обновлено 17 мая]        0.000029\n",
      "[5 февраля, 5, (+2 за сегодня), Обновлено 17 мая]            0.000029\n",
      "Name: date, Length: 11193, dtype: float64\n"
     ]
    }
   ],
   "source": [
    "print(df['date'].value_counts(normalize = True))"
   ]
  },
  {
   "cell_type": "code",
   "execution_count": 64,
   "metadata": {},
   "outputs": [
    {
     "name": "stdout",
     "output_type": "stream",
     "text": [
      "[]                                                                                                              0.103657\n",
      "[<div class=\"block-user__name\">Группа ПИК</div>, <div class=\"block-user__agency\">Группа ПИК</div>]              0.097425\n",
      "[<div class=\"block-user__name\">Агент</div>, <div class=\"block-user__agency\">Риелтор</div>]                      0.086747\n",
      "[<div class=\"block-user__name\">MR-Group</div>, <div class=\"block-user__agency\">MR-Group</div>]                  0.045963\n",
      "[<div class=\"block-user__name\">Агент</div>, <div class=\"block-user__agency\">Застройщик</div>]                   0.039087\n",
      "                                                                                                                  ...   \n",
      "[<div class=\"block-user__name\">Халида Борисенко</div>, <div class=\"block-user__agency\"></div>]                  0.000029\n",
      "[<div class=\"block-user__name\">МИЭЛЬ-Сеть офисов недвижимости</div>, <div class=\"block-user__agency\"></div>]    0.000029\n",
      "[<div class=\"block-user__name\">Макс</div>, <div class=\"block-user__agency\">Собственник</div>]                   0.000029\n",
      "[<div class=\"block-user__name\">Екатерина Бородина</div>, <div class=\"block-user__agency\">Собственник</div>]     0.000029\n",
      "[<div class=\"block-user__name\">Юрьевич Сергей Беляков</div>, <div class=\"block-user__agency\">Риелтор</div>]     0.000029\n",
      "Name: user_block, Length: 1365, dtype: float64\n"
     ]
    }
   ],
   "source": [
    "print(df['user_block'].value_counts(normalize = True))"
   ]
  },
  {
   "cell_type": "code",
   "execution_count": 65,
   "metadata": {},
   "outputs": [
    {
     "data": {
      "text/html": [
       "<div>\n",
       "<style scoped>\n",
       "    .dataframe tbody tr th:only-of-type {\n",
       "        vertical-align: middle;\n",
       "    }\n",
       "\n",
       "    .dataframe tbody tr th {\n",
       "        vertical-align: top;\n",
       "    }\n",
       "\n",
       "    .dataframe thead th {\n",
       "        text-align: right;\n",
       "    }\n",
       "</style>\n",
       "<table border=\"1\" class=\"dataframe\">\n",
       "  <thead>\n",
       "    <tr style=\"text-align: right;\">\n",
       "      <th></th>\n",
       "      <th>id</th>\n",
       "    </tr>\n",
       "    <tr>\n",
       "      <th>price</th>\n",
       "      <th></th>\n",
       "    </tr>\n",
       "  </thead>\n",
       "  <tbody>\n",
       "    <tr>\n",
       "      <th>1.040000</th>\n",
       "      <td>65757.0</td>\n",
       "    </tr>\n",
       "    <tr>\n",
       "      <th>1.370000</th>\n",
       "      <td>56931.0</td>\n",
       "    </tr>\n",
       "    <tr>\n",
       "      <th>1.740000</th>\n",
       "      <td>57579.0</td>\n",
       "    </tr>\n",
       "    <tr>\n",
       "      <th>1.800000</th>\n",
       "      <td>35979.0</td>\n",
       "    </tr>\n",
       "    <tr>\n",
       "      <th>1.830000</th>\n",
       "      <td>33570.0</td>\n",
       "    </tr>\n",
       "    <tr>\n",
       "      <th>...</th>\n",
       "      <td>...</td>\n",
       "    </tr>\n",
       "    <tr>\n",
       "      <th>788.980000</th>\n",
       "      <td>33437.0</td>\n",
       "    </tr>\n",
       "    <tr>\n",
       "      <th>807.410000</th>\n",
       "      <td>66560.0</td>\n",
       "    </tr>\n",
       "    <tr>\n",
       "      <th>949.540000</th>\n",
       "      <td>41704.0</td>\n",
       "    </tr>\n",
       "    <tr>\n",
       "      <th>1551.689900</th>\n",
       "      <td>317.0</td>\n",
       "    </tr>\n",
       "    <tr>\n",
       "      <th>3000.000015</th>\n",
       "      <td>31064.0</td>\n",
       "    </tr>\n",
       "  </tbody>\n",
       "</table>\n",
       "<p>12529 rows × 1 columns</p>\n",
       "</div>"
      ],
      "text/plain": [
       "                  id\n",
       "price               \n",
       "1.040000     65757.0\n",
       "1.370000     56931.0\n",
       "1.740000     57579.0\n",
       "1.800000     35979.0\n",
       "1.830000     33570.0\n",
       "...              ...\n",
       "788.980000   33437.0\n",
       "807.410000   66560.0\n",
       "949.540000   41704.0\n",
       "1551.689900    317.0\n",
       "3000.000015  31064.0\n",
       "\n",
       "[12529 rows x 1 columns]"
      ]
     },
     "execution_count": 65,
     "metadata": {},
     "output_type": "execute_result"
    }
   ],
   "source": [
    "df.groupby('price').mean()"
   ]
  },
  {
   "cell_type": "markdown",
   "metadata": {},
   "source": [
    "### Categorization of the Params feature"
   ]
  },
  {
   "cell_type": "code",
   "execution_count": 66,
   "metadata": {},
   "outputs": [
    {
     "data": {
      "text/plain": [
       "['Охрана:_cat',\n",
       " 'Тип здания:_cat',\n",
       " 'Тип объекта:_cat',\n",
       " 'Количество корпусов:_cat',\n",
       " 'Тип объявления:_cat',\n",
       " 'Застройщик:_cat',\n",
       " 'Общая площадь:_cat',\n",
       " 'Дата публикации:_cat',\n",
       " 'Количество комнат:_cat',\n",
       " 'Парковка:_cat',\n",
       " 'Дата  обновления:_cat',\n",
       " 'Количество этажей:_cat',\n",
       " 'Сдача:_cat',\n",
       " 'Комиссия агенту:_cat',\n",
       " 'Высота потолков:_cat',\n",
       " 'Этаж:_cat',\n",
       " 'Этап строительства:_cat',\n",
       " 'Новостройка:_cat',\n",
       " 'Количество квартир:_cat',\n",
       " 'Класс жилья:_cat',\n",
       " 'Адрес:_cat',\n",
       " 'Лифт:_cat',\n",
       " 'Вид из окна:_cat',\n",
       " 'Возможна ипотека:_cat',\n",
       " 'Год постройки:_cat',\n",
       " 'Этажность:_cat',\n",
       " 'Мусоропровод:_cat',\n",
       " 'Ремонт:_cat',\n",
       " 'Площадь кухни:_cat',\n",
       " 'Жилая комната:_cat',\n",
       " 'Тип санузла:_cat',\n",
       " 'Тип балкона:_cat',\n",
       " 'Мебель на кухне:_cat',\n",
       " 'Холодильник:_cat',\n",
       " 'Интернет:_cat',\n",
       " 'Мебель:_cat',\n",
       " 'Телефон:_cat',\n",
       " 'Свободная планировка:_cat',\n",
       " 'Управляющая компания:_cat',\n",
       " 'Количество подъездов:_cat',\n",
       " 'Тип дома:_cat',\n",
       " 'Тип комнат:_cat',\n",
       " 'Покрытие пола:_cat',\n",
       " 'Серия:_cat',\n",
       " 'Тип перекрытия:_cat',\n",
       " 'Возможен торг:_cat',\n",
       " 'Класс:_cat',\n",
       " 'Телевизор:_cat',\n",
       " 'Тип фундамента:_cat',\n",
       " 'Количество жилых помещений:_cat',\n",
       " 'Детская площадка:_cat',\n",
       " 'Стиральная машина:_cat',\n",
       " 'Наибольшее количество этажей:_cat',\n",
       " 'Наименьшее количество этажей:_cat',\n",
       " 'Предоплата:_cat']"
      ]
     },
     "execution_count": 66,
     "metadata": {},
     "output_type": "execute_result"
    }
   ],
   "source": [
    "params = df[\"params\"].apply(pd.Series)\n",
    "params = params.fillna(-1)\n",
    "\n",
    "if \"Охрана:\" not in df:  #prevents params from being added again \n",
    "    df = pd.concat([df, params], axis=1)\n",
    "    \n",
    "    obj_feats = params.select_dtypes(object).columns\n",
    "\n",
    "    for feat in obj_feats:\n",
    "        df[\"{}_cat\".format(feat)] = df[feat].factorize()[0]\n",
    "\n",
    "cat_feats = [x for x in df.columns if \"_cat\" in x]\n",
    "cat_feats"
   ]
  },
  {
   "cell_type": "markdown",
   "metadata": {},
   "source": [
    "### Features of area "
   ]
  },
  {
   "cell_type": "code",
   "execution_count": 67,
   "metadata": {},
   "outputs": [],
   "source": [
    "def parse_area(val):\n",
    "    if isinstance(val, int): return val\n",
    "    if isinstance(val, float): return val\n",
    "    \n",
    "    return float(val.split(\"м\")[0].replace(\" \", \"\"))\n",
    "\n",
    "df[\"area\"] = df[\"Общая площадь:\"].map(h.parse_area)\n",
    "df[\"kitchen_area\"] = df[\"Площадь кухни:\"].map(parse_area)"
   ]
  },
  {
   "cell_type": "code",
   "execution_count": 68,
   "metadata": {},
   "outputs": [
    {
     "data": {
      "text/plain": [
       "0         54.3\n",
       "1         38.0\n",
       "2         40.0\n",
       "3         43.0\n",
       "4        141.1\n",
       "         ...  \n",
       "11443     51.0\n",
       "11444    119.5\n",
       "11445     61.0\n",
       "11446     68.0\n",
       "11447     39.0\n",
       "Name: area, Length: 34180, dtype: float64"
      ]
     },
     "execution_count": 68,
     "metadata": {},
     "output_type": "execute_result"
    }
   ],
   "source": [
    "df[\"area\"]"
   ]
  },
  {
   "cell_type": "code",
   "execution_count": 69,
   "metadata": {},
   "outputs": [
    {
     "data": {
      "text/html": [
       "<div>\n",
       "<style scoped>\n",
       "    .dataframe tbody tr th:only-of-type {\n",
       "        vertical-align: middle;\n",
       "    }\n",
       "\n",
       "    .dataframe tbody tr th {\n",
       "        vertical-align: top;\n",
       "    }\n",
       "\n",
       "    .dataframe thead th {\n",
       "        text-align: right;\n",
       "    }\n",
       "</style>\n",
       "<table border=\"1\" class=\"dataframe\">\n",
       "  <thead>\n",
       "    <tr style=\"text-align: right;\">\n",
       "      <th></th>\n",
       "      <th>area</th>\n",
       "    </tr>\n",
       "  </thead>\n",
       "  <tbody>\n",
       "    <tr>\n",
       "      <th>count</th>\n",
       "      <td>34180.000000</td>\n",
       "    </tr>\n",
       "    <tr>\n",
       "      <th>mean</th>\n",
       "      <td>67.107669</td>\n",
       "    </tr>\n",
       "    <tr>\n",
       "      <th>std</th>\n",
       "      <td>40.020328</td>\n",
       "    </tr>\n",
       "    <tr>\n",
       "      <th>min</th>\n",
       "      <td>11.100000</td>\n",
       "    </tr>\n",
       "    <tr>\n",
       "      <th>25%</th>\n",
       "      <td>43.000000</td>\n",
       "    </tr>\n",
       "    <tr>\n",
       "      <th>50%</th>\n",
       "      <td>60.000000</td>\n",
       "    </tr>\n",
       "    <tr>\n",
       "      <th>75%</th>\n",
       "      <td>78.000000</td>\n",
       "    </tr>\n",
       "    <tr>\n",
       "      <th>max</th>\n",
       "      <td>1971.100000</td>\n",
       "    </tr>\n",
       "  </tbody>\n",
       "</table>\n",
       "</div>"
      ],
      "text/plain": [
       "               area\n",
       "count  34180.000000\n",
       "mean      67.107669\n",
       "std       40.020328\n",
       "min       11.100000\n",
       "25%       43.000000\n",
       "50%       60.000000\n",
       "75%       78.000000\n",
       "max     1971.100000"
      ]
     },
     "execution_count": 69,
     "metadata": {},
     "output_type": "execute_result"
    }
   ],
   "source": [
    "df[['area']].describe()"
   ]
  },
  {
   "cell_type": "code",
   "execution_count": 70,
   "metadata": {},
   "outputs": [
    {
     "data": {
      "image/png": "[encoded data removed]",
      "text/plain": [
       "<Figure size 576x360 with 1 Axes>"
      ]
     },
     "metadata": {},
     "output_type": "display_data"
    }
   ],
   "source": [
    "df.price.hist(figsize=(8,5), bins=50, log=True);"
   ]
  },
  {
   "cell_type": "code",
   "execution_count": 71,
   "metadata": {},
   "outputs": [
    {
     "data": {
      "image/png": "[encoded data removed]",
      "text/plain": [
       "<Figure size 720x144 with 1 Axes>"
      ]
     },
     "metadata": {},
     "output_type": "display_data"
    },
    {
     "name": "stdout",
     "output_type": "stream",
     "text": [
      "Feature is not normally distributed\n"
     ]
    }
   ],
   "source": [
    "plt.figure(figsize=(10,2))\n",
    "sns.set(font_scale=1.3, style=\"whitegrid\")\n",
    "sns.boxplot(df['area'],palette = ['gray']).set(title = 'area', xlabel = 'Area')\n",
    "plt.show()\n",
    "\n",
    "if(scipy.stats.normaltest(df['area'])[1] < 0.05): #Normal distribution test \n",
    "    print('Feature is not normally distributed')\n",
    "else:\n",
    "    print('Feature is normally distributed')"
   ]
  },
  {
   "cell_type": "code",
   "execution_count": 72,
   "metadata": {},
   "outputs": [
    {
     "data": {
      "text/plain": [
       "0        -1.0\n",
       "1        -1.0\n",
       "2        -1.0\n",
       "3        -1.0\n",
       "4        -1.0\n",
       "         ... \n",
       "11443     5.0\n",
       "11444    31.0\n",
       "11445    12.0\n",
       "11446    -1.0\n",
       "11447     9.0\n",
       "Name: kitchen_area, Length: 34180, dtype: float64"
      ]
     },
     "execution_count": 72,
     "metadata": {},
     "output_type": "execute_result"
    }
   ],
   "source": [
    "df[\"kitchen_area\"]"
   ]
  },
  {
   "cell_type": "code",
   "execution_count": 73,
   "metadata": {},
   "outputs": [
    {
     "data": {
      "image/png": "[encoded data removed]",
      "text/plain": [
       "<Figure size 576x360 with 1 Axes>"
      ]
     },
     "metadata": {},
     "output_type": "display_data"
    }
   ],
   "source": [
    "df.kitchen_area.hist(figsize=(8,5), bins=50, log=True);"
   ]
  },
  {
   "cell_type": "code",
   "execution_count": 74,
   "metadata": {},
   "outputs": [
    {
     "data": {
      "image/png": "[encoded data removed]",
      "text/plain": [
       "<Figure size 720x144 with 1 Axes>"
      ]
     },
     "metadata": {},
     "output_type": "display_data"
    },
    {
     "name": "stdout",
     "output_type": "stream",
     "text": [
      "Feature is not normally distributed\n"
     ]
    }
   ],
   "source": [
    "plt.figure(figsize=(10,2))\n",
    "sns.set(font_scale=1.3, style=\"whitegrid\")\n",
    "sns.boxplot(df['kitchen_area'],palette = ['gray']).set(title = 'kitchen_area', xlabel = 'Kitchen area of the property')\n",
    "plt.show()\n",
    "\n",
    "if(scipy.stats.normaltest(df['kitchen_area'])[1] < 0.05): #Normal distribution test \n",
    "    print('Feature is not normally distributed')\n",
    "else:\n",
    "    print('Feature is normally distributed')"
   ]
  },
  {
   "cell_type": "markdown",
   "metadata": {},
   "source": [
    "### model evaluation \n",
    "\n",
    "Two functions: `check_model`, `check_log_model`. "
   ]
  },
  {
   "cell_type": "code",
   "execution_count": 75,
   "metadata": {},
   "outputs": [],
   "source": [
    "def check_model(df, feats, model, cv=5, scoring=\"neg_mean_absolute_error\"):\n",
    "    df_train = df[ ~df[\"price\"].isnull() ].copy()\n",
    "    df_test = df[ df[\"price\"].isnull() ].copy()\n",
    "\n",
    "    X_train = df_train[feats]\n",
    "    y_train = df_train[\"price\"]\n",
    "    \n",
    "    scores = cross_val_score(model, X_train, y_train, cv=cv, scoring=scoring)\n",
    "    return np.mean(scores), np.std(scores)\n",
    "\n",
    "\n",
    "def check_log_model(df, feats, model, cv=5, scoring=\"neg_mean_absolute_error\"):\n",
    "    df_train = df[ ~df[\"price\"].isnull() ].copy()\n",
    "\n",
    "    X = df_train[feats]\n",
    "    y = df_train[\"price\"]\n",
    "    y_log = np.log(y)\n",
    "    \n",
    "    cv = KFold(n_splits=5, shuffle=True, random_state=0)\n",
    "    scores = []\n",
    "    for train_idx, test_idx in cv.split(X):\n",
    "        X_train, X_test = X.iloc[train_idx], X.iloc[test_idx]\n",
    "        y_log_train, y_test = y_log.iloc[train_idx], y.iloc[test_idx]\n",
    "\n",
    "        model = xgb.XGBRegressor(max_depth=5, n_estimators=50, random_state=0)\n",
    "        model.fit(X_train, y_log_train)\n",
    "        y_log_pred = model.predict(X_test)\n",
    "        y_pred = np.exp(y_log_pred)\n",
    "\n",
    "        score = mean_absolute_error(y_test, y_pred)\n",
    "        scores.append(score)\n",
    "\n",
    "    return np.mean(scores), np.std(scores)"
   ]
  },
  {
   "cell_type": "markdown",
   "metadata": {},
   "source": [
    "## Features of area \n",
    "Selected features: `geo_block` i `breadcrumbs`."
   ]
  },
  {
   "cell_type": "markdown",
   "metadata": {},
   "source": [
    "### geo_block"
   ]
  },
  {
   "cell_type": "code",
   "execution_count": 76,
   "metadata": {},
   "outputs": [
    {
     "data": {
      "text/plain": [
       "array([list(['г. Москва', 'Лианозово', 'г. Москва', 'Лианозово']),\n",
       "       list(['г. Москва', 'Ховрино', 'г. Москва', 'Ховрино']),\n",
       "       list(['г. Москва', 'ул Лобачевского', 'г. Москва', 'ул Лобачевского']),\n",
       "       ..., list(['г. Москва', 'Ховрино', 'г. Москва', 'Ховрино']),\n",
       "       list(['Новая Москва', 'п. Внуковское', 'г. Москва', 'Новая Москва', 'п. Внуковское', 'г. Москва']),\n",
       "       list(['г. Москва', 'Ярославский', 'ул Красная Сосна', 'г. Москва', 'Ярославский', 'ул Красная Сосна'])],\n",
       "      dtype=object)"
      ]
     },
     "execution_count": 76,
     "metadata": {},
     "output_type": "execute_result"
    }
   ],
   "source": [
    "df[\"geo_block\"].values"
   ]
  },
  {
   "cell_type": "markdown",
   "metadata": {},
   "source": [
    "Removal of duplicates, because in the lines we have two elements repeated twice. "
   ]
  },
  {
   "cell_type": "code",
   "execution_count": 77,
   "metadata": {},
   "outputs": [
    {
     "data": {
      "text/plain": [
       "0                            [г. Москва, Лианозово]\n",
       "1                              [г. Москва, Ховрино]\n",
       "2                      [г. Москва, ул Лобачевского]\n",
       "3                  [г. Москва, Ховрино, ул Дыбенко]\n",
       "4                          [г. Москва, Даниловский]\n",
       "                            ...                    \n",
       "11443                                   [г. Москва]\n",
       "11444                [г. Москва, Хорошёво-Мнёвники]\n",
       "11445                          [г. Москва, Ховрино]\n",
       "11446      [Новая Москва, п. Внуковское, г. Москва]\n",
       "11447    [г. Москва, Ярославский, ул Красная Сосна]\n",
       "Name: geo_block_norm, Length: 34180, dtype: object"
      ]
     },
     "execution_count": 77,
     "metadata": {},
     "output_type": "execute_result"
    }
   ],
   "source": [
    "df[\"geo_block_norm\"] = df[\"geo_block\"].map(lambda x: x[:int(len(x)/2)])\n",
    "\n",
    "df[\"geo_block_norm\"]"
   ]
  },
  {
   "cell_type": "markdown",
   "metadata": {},
   "source": [
    "Create `DataFrame`."
   ]
  },
  {
   "cell_type": "code",
   "execution_count": 78,
   "metadata": {},
   "outputs": [
    {
     "data": {
      "text/html": [
       "<div>\n",
       "<style scoped>\n",
       "    .dataframe tbody tr th:only-of-type {\n",
       "        vertical-align: middle;\n",
       "    }\n",
       "\n",
       "    .dataframe tbody tr th {\n",
       "        vertical-align: top;\n",
       "    }\n",
       "\n",
       "    .dataframe thead th {\n",
       "        text-align: right;\n",
       "    }\n",
       "</style>\n",
       "<table border=\"1\" class=\"dataframe\">\n",
       "  <thead>\n",
       "    <tr style=\"text-align: right;\">\n",
       "      <th></th>\n",
       "      <th>geo_block_0</th>\n",
       "      <th>geo_block_1</th>\n",
       "      <th>geo_block_2</th>\n",
       "      <th>geo_block_3</th>\n",
       "      <th>geo_block_4</th>\n",
       "      <th>geo_block_5</th>\n",
       "    </tr>\n",
       "  </thead>\n",
       "  <tbody>\n",
       "    <tr>\n",
       "      <th>0</th>\n",
       "      <td>г. Москва</td>\n",
       "      <td>Лианозово</td>\n",
       "      <td>NaN</td>\n",
       "      <td>NaN</td>\n",
       "      <td>NaN</td>\n",
       "      <td>NaN</td>\n",
       "    </tr>\n",
       "    <tr>\n",
       "      <th>1</th>\n",
       "      <td>г. Москва</td>\n",
       "      <td>Ховрино</td>\n",
       "      <td>NaN</td>\n",
       "      <td>NaN</td>\n",
       "      <td>NaN</td>\n",
       "      <td>NaN</td>\n",
       "    </tr>\n",
       "    <tr>\n",
       "      <th>2</th>\n",
       "      <td>г. Москва</td>\n",
       "      <td>ул Лобачевского</td>\n",
       "      <td>NaN</td>\n",
       "      <td>NaN</td>\n",
       "      <td>NaN</td>\n",
       "      <td>NaN</td>\n",
       "    </tr>\n",
       "    <tr>\n",
       "      <th>3</th>\n",
       "      <td>г. Москва</td>\n",
       "      <td>Ховрино</td>\n",
       "      <td>ул Дыбенко</td>\n",
       "      <td>NaN</td>\n",
       "      <td>NaN</td>\n",
       "      <td>NaN</td>\n",
       "    </tr>\n",
       "    <tr>\n",
       "      <th>4</th>\n",
       "      <td>г. Москва</td>\n",
       "      <td>Даниловский</td>\n",
       "      <td>NaN</td>\n",
       "      <td>NaN</td>\n",
       "      <td>NaN</td>\n",
       "      <td>NaN</td>\n",
       "    </tr>\n",
       "    <tr>\n",
       "      <th>...</th>\n",
       "      <td>...</td>\n",
       "      <td>...</td>\n",
       "      <td>...</td>\n",
       "      <td>...</td>\n",
       "      <td>...</td>\n",
       "      <td>...</td>\n",
       "    </tr>\n",
       "    <tr>\n",
       "      <th>11443</th>\n",
       "      <td>г. Москва</td>\n",
       "      <td>NaN</td>\n",
       "      <td>NaN</td>\n",
       "      <td>NaN</td>\n",
       "      <td>NaN</td>\n",
       "      <td>NaN</td>\n",
       "    </tr>\n",
       "    <tr>\n",
       "      <th>11444</th>\n",
       "      <td>г. Москва</td>\n",
       "      <td>Хорошёво-Мнёвники</td>\n",
       "      <td>NaN</td>\n",
       "      <td>NaN</td>\n",
       "      <td>NaN</td>\n",
       "      <td>NaN</td>\n",
       "    </tr>\n",
       "    <tr>\n",
       "      <th>11445</th>\n",
       "      <td>г. Москва</td>\n",
       "      <td>Ховрино</td>\n",
       "      <td>NaN</td>\n",
       "      <td>NaN</td>\n",
       "      <td>NaN</td>\n",
       "      <td>NaN</td>\n",
       "    </tr>\n",
       "    <tr>\n",
       "      <th>11446</th>\n",
       "      <td>Новая Москва</td>\n",
       "      <td>п. Внуковское</td>\n",
       "      <td>г. Москва</td>\n",
       "      <td>NaN</td>\n",
       "      <td>NaN</td>\n",
       "      <td>NaN</td>\n",
       "    </tr>\n",
       "    <tr>\n",
       "      <th>11447</th>\n",
       "      <td>г. Москва</td>\n",
       "      <td>Ярославский</td>\n",
       "      <td>ул Красная Сосна</td>\n",
       "      <td>NaN</td>\n",
       "      <td>NaN</td>\n",
       "      <td>NaN</td>\n",
       "    </tr>\n",
       "  </tbody>\n",
       "</table>\n",
       "<p>34180 rows × 6 columns</p>\n",
       "</div>"
      ],
      "text/plain": [
       "        geo_block_0        geo_block_1       geo_block_2 geo_block_3  \\\n",
       "0         г. Москва          Лианозово               NaN         NaN   \n",
       "1         г. Москва            Ховрино               NaN         NaN   \n",
       "2         г. Москва    ул Лобачевского               NaN         NaN   \n",
       "3         г. Москва            Ховрино        ул Дыбенко         NaN   \n",
       "4         г. Москва        Даниловский               NaN         NaN   \n",
       "...             ...                ...               ...         ...   \n",
       "11443     г. Москва                NaN               NaN         NaN   \n",
       "11444     г. Москва  Хорошёво-Мнёвники               NaN         NaN   \n",
       "11445     г. Москва            Ховрино               NaN         NaN   \n",
       "11446  Новая Москва      п. Внуковское         г. Москва         NaN   \n",
       "11447     г. Москва        Ярославский  ул Красная Сосна         NaN   \n",
       "\n",
       "      geo_block_4 geo_block_5  \n",
       "0             NaN         NaN  \n",
       "1             NaN         NaN  \n",
       "2             NaN         NaN  \n",
       "3             NaN         NaN  \n",
       "4             NaN         NaN  \n",
       "...           ...         ...  \n",
       "11443         NaN         NaN  \n",
       "11444         NaN         NaN  \n",
       "11445         NaN         NaN  \n",
       "11446         NaN         NaN  \n",
       "11447         NaN         NaN  \n",
       "\n",
       "[34180 rows x 6 columns]"
      ]
     },
     "execution_count": 78,
     "metadata": {},
     "output_type": "execute_result"
    }
   ],
   "source": [
    "geo_block = (\n",
    "df[\"geo_block\"]\n",
    "    .map(lambda x: x[:int(len(x)/2) ])\n",
    "    .map(lambda x: {\"geo_block_{}\".format(idx):val for idx,val in enumerate(x) })\n",
    "    .apply(pd.Series)\n",
    ")\n",
    "\n",
    "geo_block"
   ]
  },
  {
   "cell_type": "markdown",
   "metadata": {},
   "source": [
    "Categorization of the `geo_block` feature"
   ]
  },
  {
   "cell_type": "code",
   "execution_count": 79,
   "metadata": {},
   "outputs": [
    {
     "name": "stdout",
     "output_type": "stream",
     "text": [
      "geo_block_0\n",
      "г. Москва             29049\n",
      "Новая Москва           4531\n",
      "г. Зеленоград           318\n",
      "п. Свиблово             138\n",
      "п. Некрасовка           134\n",
      "п. Новобратцевский        3\n",
      "п. Крюково                1\n",
      "пгт Акулово               1\n",
      "п. Подушкино              1\n",
      "д. Сколково               1\n",
      "п. Алабушево              1\n",
      "п. Рублево                1\n",
      "п. Главмосстроя           1\n",
      "Name: geo_block_0, dtype: int64\n",
      "====================================================================================================\n",
      "\n",
      "geo_block_1\n",
      "п. Сосенское              2522\n",
      "Хорошёво-Мнёвники         1142\n",
      "Филёвский Парк             945\n",
      "п. Московский              919\n",
      "Ховрино                    829\n",
      "Раменки                    811\n",
      "Люблино                    666\n",
      "Некрасовка                 654\n",
      "Кунцево                    537\n",
      "Орехово-Борисово Южное     534\n",
      "ул Дыбенко                 525\n",
      "Выхино-Жулебино            496\n",
      "Зябликово                  492\n",
      "ул Лобачевского            442\n",
      "п. Внуковское              430\n",
      "Рязанский                  425\n",
      "Марьино                    407\n",
      "Пресненский                378\n",
      "Лефортово                  374\n",
      "пр-кт Мира                 337\n",
      "Name: geo_block_1, dtype: int64\n",
      "====================================================================================================\n",
      "\n",
      "geo_block_2\n",
      "п. Коммунарка               1720\n",
      "г. Москва                   1082\n",
      "ул Верхние Поля              596\n",
      "ул Дыбенко                   540\n",
      "ул Лобачевского              540\n",
      "д. Николо-Хованское          522\n",
      "г. Московский                505\n",
      "ул Поляны                    231\n",
      "ул Берзарина                 193\n",
      "д. Румянцево                 160\n",
      "ул Золоторожский Вал         144\n",
      "ул Римского-Корсакова        132\n",
      "с. Остафьево                 125\n",
      "д. Староселье                113\n",
      "ул Красная Сосна             101\n",
      "ул Академика Павлова          96\n",
      "пр-кт Академика Сахарова      87\n",
      "ул Генерала Белова            86\n",
      "д. Столбово                   71\n",
      "ул Зорге                      57\n",
      "Name: geo_block_2, dtype: int64\n",
      "====================================================================================================\n",
      "\n",
      "geo_block_3\n",
      "Южное Бутово          1227\n",
      "Тропарёво-Никулино     509\n",
      "Тёплый Стан            436\n",
      "д. 32                   33\n",
      "д. 8                     4\n",
      "д. 16                    4\n",
      "д. 3                     4\n",
      "СП Сосенское             4\n",
      "СП Щаповское             3\n",
      "д. 18                    3\n",
      "д. 11, к. 2              3\n",
      "ул Радужная              3\n",
      "д. 7, к. 2               3\n",
      "СП Московский            3\n",
      "СП Первомайское          2\n",
      "д. 7, стр. 2             2\n",
      "д. 5                     2\n",
      "ул Фитаревская           2\n",
      "д. 13, к. 1              2\n",
      "д. 12                    2\n",
      "Name: geo_block_3, dtype: int64\n",
      "====================================================================================================\n",
      "\n",
      "geo_block_4\n",
      "ул Радужная                2\n",
      "проезд Пинский             1\n",
      "ул Лазурная                1\n",
      "ул Трофимова               1\n",
      "д. 37                      1\n",
      "ул Фитаревская             1\n",
      "ул Александры Монаховой    1\n",
      "ул Сосенский Стан          1\n",
      "мкр Родники                1\n",
      "Name: geo_block_4, dtype: int64\n",
      "====================================================================================================\n",
      "\n",
      "geo_block_5\n",
      "д. 3    2\n",
      "Name: geo_block_5, dtype: int64\n",
      "====================================================================================================\n",
      "\n"
     ]
    }
   ],
   "source": [
    "\n",
    "for feat in geo_block.columns:\n",
    "    print(feat)\n",
    "    print(geo_block[feat].value_counts().head(20))\n",
    "    print(\"=\"*100)\n",
    "    print()\n",
    "    \n",
    "\n",
    "    df[\"{}_cat\".format(feat)] = geo_block[feat].factorize()[0]"
   ]
  },
  {
   "cell_type": "code",
   "execution_count": 80,
   "metadata": {
    "scrolled": true
   },
   "outputs": [
    {
     "data": {
      "text/plain": [
       "['geo_block_0_cat',\n",
       " 'geo_block_1_cat',\n",
       " 'geo_block_2_cat',\n",
       " 'geo_block_3_cat',\n",
       " 'geo_block_4_cat',\n",
       " 'geo_block_5_cat']"
      ]
     },
     "execution_count": 80,
     "metadata": {},
     "output_type": "execute_result"
    }
   ],
   "source": [
    "geo_cat_feats = [x for x in df.columns if \"geo_block\" in x and \"_cat\" in x]\n",
    "geo_cat_feats"
   ]
  },
  {
   "cell_type": "markdown",
   "metadata": {},
   "source": [
    "### Check result"
   ]
  },
  {
   "cell_type": "code",
   "execution_count": 81,
   "metadata": {},
   "outputs": [
    {
     "data": {
      "text/plain": [
       "(3.25358809911422, 0.3150982251982633)"
      ]
     },
     "execution_count": 81,
     "metadata": {},
     "output_type": "execute_result"
    }
   ],
   "source": [
    "feats = [\"area\", \"kitchen_area\"] + geo_cat_feats + cat_feats\n",
    "\n",
    "check_log_model(df, feats, xgb.XGBRegressor(max_depth=5, n_estimators=50, learning_rate=0.3, random_state=0))"
   ]
  },
  {
   "cell_type": "markdown",
   "metadata": {},
   "source": [
    "### Breadcrumbs \n"
   ]
  },
  {
   "cell_type": "code",
   "execution_count": 82,
   "metadata": {},
   "outputs": [
    {
     "data": {
      "text/html": [
       "<div>\n",
       "<style scoped>\n",
       "    .dataframe tbody tr th:only-of-type {\n",
       "        vertical-align: middle;\n",
       "    }\n",
       "\n",
       "    .dataframe tbody tr th {\n",
       "        vertical-align: top;\n",
       "    }\n",
       "\n",
       "    .dataframe thead th {\n",
       "        text-align: right;\n",
       "    }\n",
       "</style>\n",
       "<table border=\"1\" class=\"dataframe\">\n",
       "  <thead>\n",
       "    <tr style=\"text-align: right;\">\n",
       "      <th></th>\n",
       "      <th>breadcrumbs_0</th>\n",
       "      <th>breadcrumbs_1</th>\n",
       "      <th>breadcrumbs_2</th>\n",
       "      <th>breadcrumbs_3</th>\n",
       "      <th>breadcrumbs_4</th>\n",
       "      <th>breadcrumbs_5</th>\n",
       "      <th>breadcrumbs_6</th>\n",
       "      <th>breadcrumbs_7</th>\n",
       "    </tr>\n",
       "  </thead>\n",
       "  <tbody>\n",
       "    <tr>\n",
       "      <th>0</th>\n",
       "      <td>Москва</td>\n",
       "      <td>Лианозово</td>\n",
       "      <td>м. Алтуфьево</td>\n",
       "      <td>МЦК Лихоборы</td>\n",
       "      <td>NaN</td>\n",
       "      <td>NaN</td>\n",
       "      <td>NaN</td>\n",
       "      <td>NaN</td>\n",
       "    </tr>\n",
       "    <tr>\n",
       "      <th>1</th>\n",
       "      <td>Москва</td>\n",
       "      <td>Ховрино</td>\n",
       "      <td>м. Ховрино</td>\n",
       "      <td>МЦК Коптево</td>\n",
       "      <td>NaN</td>\n",
       "      <td>NaN</td>\n",
       "      <td>NaN</td>\n",
       "      <td>NaN</td>\n",
       "    </tr>\n",
       "    <tr>\n",
       "      <th>2</th>\n",
       "      <td>Москва</td>\n",
       "      <td>МЦК Кутузовская</td>\n",
       "      <td>ул. Лобачевского</td>\n",
       "      <td>NaN</td>\n",
       "      <td>NaN</td>\n",
       "      <td>NaN</td>\n",
       "      <td>NaN</td>\n",
       "      <td>NaN</td>\n",
       "    </tr>\n",
       "    <tr>\n",
       "      <th>3</th>\n",
       "      <td>Москва</td>\n",
       "      <td>Ховрино</td>\n",
       "      <td>м. Ховрино</td>\n",
       "      <td>МЦК Коптево</td>\n",
       "      <td>ул. Дыбенко</td>\n",
       "      <td>NaN</td>\n",
       "      <td>NaN</td>\n",
       "      <td>NaN</td>\n",
       "    </tr>\n",
       "    <tr>\n",
       "      <th>4</th>\n",
       "      <td>Москва</td>\n",
       "      <td>Даниловский</td>\n",
       "      <td>м. Автозаводская</td>\n",
       "      <td>МЦК Автозаводская</td>\n",
       "      <td>NaN</td>\n",
       "      <td>NaN</td>\n",
       "      <td>NaN</td>\n",
       "      <td>NaN</td>\n",
       "    </tr>\n",
       "    <tr>\n",
       "      <th>...</th>\n",
       "      <td>...</td>\n",
       "      <td>...</td>\n",
       "      <td>...</td>\n",
       "      <td>...</td>\n",
       "      <td>...</td>\n",
       "      <td>...</td>\n",
       "      <td>...</td>\n",
       "      <td>...</td>\n",
       "    </tr>\n",
       "    <tr>\n",
       "      <th>11443</th>\n",
       "      <td>Москва</td>\n",
       "      <td>МЦК Кутузовская</td>\n",
       "      <td>NaN</td>\n",
       "      <td>NaN</td>\n",
       "      <td>NaN</td>\n",
       "      <td>NaN</td>\n",
       "      <td>NaN</td>\n",
       "      <td>NaN</td>\n",
       "    </tr>\n",
       "    <tr>\n",
       "      <th>11444</th>\n",
       "      <td>Москва</td>\n",
       "      <td>Хорошёво-Мнёвники</td>\n",
       "      <td>м. Октябрьское поле</td>\n",
       "      <td>МЦК Зорге</td>\n",
       "      <td>NaN</td>\n",
       "      <td>NaN</td>\n",
       "      <td>NaN</td>\n",
       "      <td>NaN</td>\n",
       "    </tr>\n",
       "    <tr>\n",
       "      <th>11445</th>\n",
       "      <td>Москва</td>\n",
       "      <td>Ховрино</td>\n",
       "      <td>м. Ховрино</td>\n",
       "      <td>МЦК Коптево</td>\n",
       "      <td>NaN</td>\n",
       "      <td>NaN</td>\n",
       "      <td>NaN</td>\n",
       "      <td>NaN</td>\n",
       "    </tr>\n",
       "    <tr>\n",
       "      <th>11446</th>\n",
       "      <td>Москва</td>\n",
       "      <td>Новая Москва</td>\n",
       "      <td>п. Внуковское</td>\n",
       "      <td>МЦК Кутузовская</td>\n",
       "      <td>NaN</td>\n",
       "      <td>NaN</td>\n",
       "      <td>NaN</td>\n",
       "      <td>NaN</td>\n",
       "    </tr>\n",
       "    <tr>\n",
       "      <th>11447</th>\n",
       "      <td>Москва</td>\n",
       "      <td>Ярославский</td>\n",
       "      <td>МЦК Ростокино</td>\n",
       "      <td>ул. Красная Сосна</td>\n",
       "      <td>NaN</td>\n",
       "      <td>NaN</td>\n",
       "      <td>NaN</td>\n",
       "      <td>NaN</td>\n",
       "    </tr>\n",
       "  </tbody>\n",
       "</table>\n",
       "<p>34180 rows × 8 columns</p>\n",
       "</div>"
      ],
      "text/plain": [
       "      breadcrumbs_0      breadcrumbs_1        breadcrumbs_2  \\\n",
       "0            Москва          Лианозово         м. Алтуфьево   \n",
       "1            Москва            Ховрино           м. Ховрино   \n",
       "2            Москва    МЦК Кутузовская     ул. Лобачевского   \n",
       "3            Москва            Ховрино           м. Ховрино   \n",
       "4            Москва        Даниловский     м. Автозаводская   \n",
       "...             ...                ...                  ...   \n",
       "11443        Москва    МЦК Кутузовская                  NaN   \n",
       "11444        Москва  Хорошёво-Мнёвники  м. Октябрьское поле   \n",
       "11445        Москва            Ховрино           м. Ховрино   \n",
       "11446        Москва       Новая Москва        п. Внуковское   \n",
       "11447        Москва        Ярославский        МЦК Ростокино   \n",
       "\n",
       "           breadcrumbs_3 breadcrumbs_4 breadcrumbs_5 breadcrumbs_6  \\\n",
       "0           МЦК Лихоборы           NaN           NaN           NaN   \n",
       "1            МЦК Коптево           NaN           NaN           NaN   \n",
       "2                    NaN           NaN           NaN           NaN   \n",
       "3            МЦК Коптево   ул. Дыбенко           NaN           NaN   \n",
       "4      МЦК Автозаводская           NaN           NaN           NaN   \n",
       "...                  ...           ...           ...           ...   \n",
       "11443                NaN           NaN           NaN           NaN   \n",
       "11444          МЦК Зорге           NaN           NaN           NaN   \n",
       "11445        МЦК Коптево           NaN           NaN           NaN   \n",
       "11446    МЦК Кутузовская           NaN           NaN           NaN   \n",
       "11447  ул. Красная Сосна           NaN           NaN           NaN   \n",
       "\n",
       "      breadcrumbs_7  \n",
       "0               NaN  \n",
       "1               NaN  \n",
       "2               NaN  \n",
       "3               NaN  \n",
       "4               NaN  \n",
       "...             ...  \n",
       "11443           NaN  \n",
       "11444           NaN  \n",
       "11445           NaN  \n",
       "11446           NaN  \n",
       "11447           NaN  \n",
       "\n",
       "[34180 rows x 8 columns]"
      ]
     },
     "execution_count": 82,
     "metadata": {},
     "output_type": "execute_result"
    }
   ],
   "source": [
    "breadcrumbs = (\n",
    "    df[\"breadcrumbs\"]\n",
    "        .map(lambda x: {\"breadcrumbs_{}\".format(idx):val for idx,val in enumerate(x) })\n",
    "        .apply(pd.Series)\n",
    ")\n",
    "\n",
    "breadcrumbs"
   ]
  },
  {
   "cell_type": "markdown",
   "metadata": {},
   "source": [
    "Categorization of the `breadcrumbs` feature"
   ]
  },
  {
   "cell_type": "code",
   "execution_count": 83,
   "metadata": {},
   "outputs": [
    {
     "name": "stdout",
     "output_type": "stream",
     "text": [
      "breadcrumbs_0\n",
      "Москва    34180\n",
      "Name: breadcrumbs_0, dtype: int64\n",
      "====================================================================================================\n",
      "\n",
      "breadcrumbs_1\n",
      "Новая Москва              4531\n",
      "МЦК Лужники               1245\n",
      "МЦК Кутузовская           1237\n",
      "Хорошёво-Мнёвники         1142\n",
      "Филёвский Парк             945\n",
      "МЦК Крымская               932\n",
      "МЦК Шелепиха               842\n",
      "Ховрино                    829\n",
      "Раменки                    811\n",
      "МЦК Коптево                800\n",
      "Люблино                    666\n",
      "МЦК Хорошёво               633\n",
      "Некрасовка                 608\n",
      "МЦК Нижегородская          564\n",
      "МЦК Лихоборы               549\n",
      "Кунцево                    537\n",
      "Орехово-Борисово Южное     534\n",
      "Выхино-Жулебино            494\n",
      "Зябликово                  492\n",
      "МЦК Ростокино              453\n",
      "Name: breadcrumbs_1, dtype: int64\n",
      "====================================================================================================\n",
      "\n",
      "breadcrumbs_2\n",
      "п. Сосенское             2522\n",
      "п. Московский             919\n",
      "м. Октябрьское поле       864\n",
      "м. Выхино                 856\n",
      "м. Ховрино                829\n",
      "м. Братиславская          649\n",
      "м. Рязанский проспект     600\n",
      "м. Пятницкое шоссе        558\n",
      "м. Фили                   548\n",
      "м. Раменки                545\n",
      "м. Домодедовская          535\n",
      "ул. Дыбенко               525\n",
      "м. Ботанический сад       483\n",
      "м. Зябликово              455\n",
      "м. Молодежная             455\n",
      "п. Внуковское             430\n",
      "м. Люблино                399\n",
      "ул. Лобачевского          386\n",
      "м. Селигерская            377\n",
      "пр-кт. Мира               337\n",
      "Name: breadcrumbs_2, dtype: int64\n",
      "====================================================================================================\n",
      "\n",
      "breadcrumbs_3\n",
      "п. Коммунарка            1720\n",
      "МЦК Шелепиха             1640\n",
      "МЦК Крымская             1507\n",
      "МЦК Кутузовская          1410\n",
      "МЦК ЗИЛ                  1137\n",
      "МЦК Шоссе Энтузиастов     995\n",
      "МЦК Коптево               938\n",
      "МЦК Угрешская             925\n",
      "МЦК Владыкино             818\n",
      "МЦК Хорошёво              756\n",
      "МЦК Нижегородская         646\n",
      "МЦК Ботанический сад      627\n",
      "МЦК Лужники               616\n",
      "МЦК Зорге                 606\n",
      "МЦК Лихоборы              574\n",
      "д. Николо-Хованское       522\n",
      "г. Московский             505\n",
      "МЦК Балтийская            432\n",
      "МЦК Андроновка            385\n",
      "МЦК Стрешнево             307\n",
      "Name: breadcrumbs_3, dtype: int64\n",
      "====================================================================================================\n",
      "\n",
      "breadcrumbs_4\n",
      "Южное Бутово                 1197\n",
      "МЦК Крымская                 1030\n",
      "ул. Верхние Поля              595\n",
      "ул. Дыбенко                   540\n",
      "ул. Лобачевского              539\n",
      "Тропарёво-Никулино            506\n",
      "Тёплый Стан                   405\n",
      "ул. Поляны                    231\n",
      "ул. Берзарина                 193\n",
      "МЦК Лужники                   184\n",
      "МЦК Балтийская                164\n",
      "ул. Золоторожский Вал         144\n",
      "МЦК Ботанический сад          138\n",
      "ул. Римского-Корсакова        132\n",
      "ул. Академика Павлова          96\n",
      "пр-кт. Академика Сахарова      87\n",
      "ул. Генерала Белова            86\n",
      "МЦК Кутузовская                85\n",
      "МЦК Шоссе Энтузиастов          48\n",
      "м. Теплый Стан                 47\n",
      "Name: breadcrumbs_4, dtype: int64\n",
      "====================================================================================================\n",
      "\n",
      "breadcrumbs_5\n",
      "м. Бунинская Аллея             1198\n",
      "м. Саларьево                    504\n",
      "м. Теплый Стан                  409\n",
      "МЦК Крымская                     64\n",
      "МЦК Кутузовская                   3\n",
      "м. Румянцево                      3\n",
      "ул. Нагорная                      2\n",
      "м. Марьино                        2\n",
      "ул. Радужная                      2\n",
      "мкр. В                            1\n",
      "м. Новокузнецкая                  1\n",
      "ул. Бианки                        1\n",
      "м. Свиблово                       1\n",
      "м. Планерная                      1\n",
      "м. Сокольники                     1\n",
      "м. Автозаводская                  1\n",
      "м. Юго-Западная                   1\n",
      "м. Бульвар Дмитрия Донского       1\n",
      "м. Аннино                         1\n",
      "м. Улица Скобелевская             1\n",
      "Name: breadcrumbs_5, dtype: int64\n",
      "====================================================================================================\n",
      "\n",
      "breadcrumbs_6\n",
      "МЦК Крымская             2068\n",
      "МЦК Лужники                42\n",
      "МЦК Кутузовская             3\n",
      "МЦК ЗИЛ                     2\n",
      "ул. Фитаревская             1\n",
      "мкр. Родники                1\n",
      "МЦК Дубровка                1\n",
      "ул. Радужная                1\n",
      "МЦК Ботанический сад        1\n",
      "МЦК Шоссе Энтузиастов       1\n",
      "ул. Сосенский Стан          1\n",
      "МЦК Стрешнево               1\n",
      "МЦК Балтийская              1\n",
      "МЦК Автозаводская           1\n",
      "МЦК Измайлово               1\n",
      "ул. Лазурная                1\n",
      "Name: breadcrumbs_6, dtype: int64\n",
      "====================================================================================================\n",
      "\n",
      "breadcrumbs_7\n",
      "ул. Александры Монаховой    1\n",
      "ул. Трофимова               1\n",
      "проезд. Пинский             1\n",
      "Name: breadcrumbs_7, dtype: int64\n",
      "====================================================================================================\n",
      "\n"
     ]
    }
   ],
   "source": [
    "for feat in breadcrumbs.columns:\n",
    "    print(feat)\n",
    "    print(breadcrumbs[feat].value_counts().head(20))\n",
    "    print(\"=\"*100)\n",
    "    print()\n",
    "    \n",
    "\n",
    "    df[\"{}_cat\".format(feat)] = breadcrumbs[feat].factorize()[0]"
   ]
  },
  {
   "cell_type": "code",
   "execution_count": 84,
   "metadata": {},
   "outputs": [
    {
     "data": {
      "text/plain": [
       "['breadcrumbs_0_cat',\n",
       " 'breadcrumbs_1_cat',\n",
       " 'breadcrumbs_2_cat',\n",
       " 'breadcrumbs_3_cat',\n",
       " 'breadcrumbs_4_cat',\n",
       " 'breadcrumbs_5_cat',\n",
       " 'breadcrumbs_6_cat',\n",
       " 'breadcrumbs_7_cat']"
      ]
     },
     "execution_count": 84,
     "metadata": {},
     "output_type": "execute_result"
    }
   ],
   "source": [
    "breadcrumbs_cat_feats = [x for x in df.columns if \"breadcrumbs\" in x and \"_cat\" in x]\n",
    "breadcrumbs_cat_feats"
   ]
  },
  {
   "cell_type": "markdown",
   "metadata": {},
   "source": [
    "A selection of the 7 best features from `breadcrumbs`. "
   ]
  },
  {
   "cell_type": "code",
   "execution_count": 85,
   "metadata": {},
   "outputs": [],
   "source": [
    "best_feats_breadcrumbs = ['Общая площадь:_cat',\n",
    " 'Класс жилья:_cat',\n",
    " 'Этаж:_cat',\n",
    " 'Количество комнат:_cat',\n",
    " 'Высота потолков:_cat',\n",
    " 'Дата публикации:_cat',\n",
    " 'Тип балкона:_cat',\n",
    " 'Застройщик:_cat',\n",
    " 'Парковка:_cat',\n",
    " 'Количество квартир:_cat',\n",
    " 'Количество этажей:_cat',\n",
    " 'Площадь кухни:_cat',\n",
    " 'Жилая комната:_cat',\n",
    " 'Охрана:_cat',\n",
    " 'Тип здания:_cat',\n",
    " 'Год постройки:_cat',\n",
    " 'Сдача:_cat'\n",
    "              ]"
   ]
  },
  {
   "cell_type": "markdown",
   "metadata": {},
   "source": [
    "### Check result"
   ]
  },
  {
   "cell_type": "code",
   "execution_count": 86,
   "metadata": {},
   "outputs": [
    {
     "data": {
      "text/plain": [
       "(3.2406849416154246, 0.3516361939626481)"
      ]
     },
     "execution_count": 86,
     "metadata": {},
     "output_type": "execute_result"
    }
   ],
   "source": [
    "feats = [\"area\", \"kitchen_area\"] + geo_cat_feats + best_feats_breadcrumbs;\n",
    "check_log_model(df, feats, xgb.XGBRegressor(max_depth=10, n_estimators=50, learning_rate=0.3, random_state=0))"
   ]
  },
  {
   "cell_type": "markdown",
   "metadata": {},
   "source": [
    "## Floor"
   ]
  },
  {
   "cell_type": "code",
   "execution_count": 87,
   "metadata": {},
   "outputs": [],
   "source": [
    "def parse_floor(val):\n",
    "    if isinstance(val, int): return val\n",
    "    if isinstance(val, str):\n",
    "        return val.split('/')[0]\n",
    "    return val"
   ]
  },
  {
   "cell_type": "code",
   "execution_count": 88,
   "metadata": {},
   "outputs": [],
   "source": [
    "df[\"floor\"] = df[\"Этаж:\"].map(parse_floor)\n",
    "df[\"floor\"] = df[\"floor\"].astype(str).astype(float)"
   ]
  },
  {
   "cell_type": "code",
   "execution_count": 89,
   "metadata": {},
   "outputs": [
    {
     "name": "stdout",
     "output_type": "stream",
     "text": [
      "2.0     0.082212\n",
      "3.0     0.063897\n",
      "4.0     0.057226\n",
      "5.0     0.054125\n",
      "6.0     0.051755\n",
      "          ...   \n",
      "65.0    0.000059\n",
      "97.0    0.000029\n",
      "67.0    0.000029\n",
      "60.0    0.000029\n",
      "83.0    0.000029\n",
      "Name: floor, Length: 90, dtype: float64\n"
     ]
    }
   ],
   "source": [
    "print(df['floor'].value_counts(normalize = True))"
   ]
  },
  {
   "cell_type": "markdown",
   "metadata": {},
   "source": [
    "## Check result"
   ]
  },
  {
   "cell_type": "code",
   "execution_count": 90,
   "metadata": {},
   "outputs": [
    {
     "data": {
      "text/plain": [
       "(3.188459923371516, 0.3164262501583159)"
      ]
     },
     "execution_count": 90,
     "metadata": {},
     "output_type": "execute_result"
    }
   ],
   "source": [
    "feats = [\"area\", \"kitchen_area\",\"floor\"] + geo_cat_feats + best_feats_breadcrumbs;\n",
    "check_log_model(df, feats, xgb.XGBRegressor(max_depth=10, n_estimators=50, learning_rate=0.3, random_state=0))"
   ]
  },
  {
   "cell_type": "markdown",
   "metadata": {},
   "source": [
    "## Metro station"
   ]
  },
  {
   "cell_type": "code",
   "execution_count": 91,
   "metadata": {},
   "outputs": [],
   "source": [
    "def get_metro_station(row):\n",
    "        for i in row:\n",
    "            if 'МЦК' in i:\n",
    "                return i"
   ]
  },
  {
   "cell_type": "code",
   "execution_count": 92,
   "metadata": {},
   "outputs": [],
   "source": [
    "metro_station = (\n",
    "    df[\"breadcrumbs\"]\n",
    "        .map(lambda x: get_metro_station(x))\n",
    "        .apply(pd.Series)\n",
    ")\n",
    "metro_station.columns = ['metro_station_name']"
   ]
  },
  {
   "cell_type": "code",
   "execution_count": 93,
   "metadata": {},
   "outputs": [],
   "source": [
    "df[\"metro_station_cat\"] = metro_station.apply(lambda x : pd.factorize(x)[0])"
   ]
  },
  {
   "cell_type": "code",
   "execution_count": 94,
   "metadata": {},
   "outputs": [
    {
     "name": "stdout",
     "output_type": "stream",
     "text": [
      " 5     0.164102\n",
      " 2     0.082826\n",
      " 9     0.073142\n",
      " 12    0.067934\n",
      " 1     0.051375\n",
      " 16    0.046080\n",
      " 7     0.042744\n",
      " 14    0.039263\n",
      " 11    0.037010\n",
      " 22    0.034728\n",
      " 15    0.034699\n",
      " 4     0.033411\n",
      " 0     0.032855\n",
      " 20    0.031510\n",
      "-1     0.027326\n",
      " 19    0.027297\n",
      " 13    0.024166\n",
      " 10    0.016618\n",
      " 6     0.016121\n",
      " 24    0.014570\n",
      " 23    0.014453\n",
      " 21    0.013839\n",
      " 8     0.013487\n",
      " 26    0.011235\n",
      " 28    0.010913\n",
      " 18    0.010650\n",
      " 25    0.009479\n",
      " 17    0.006173\n",
      " 30    0.005705\n",
      " 3     0.003043\n",
      " 29    0.001872\n",
      " 27    0.001375\n",
      "Name: metro_station_cat, dtype: float64\n"
     ]
    }
   ],
   "source": [
    "print(df['metro_station_cat'].value_counts(normalize = True))"
   ]
  },
  {
   "cell_type": "markdown",
   "metadata": {},
   "source": [
    "## Check result"
   ]
  },
  {
   "cell_type": "code",
   "execution_count": 95,
   "metadata": {},
   "outputs": [
    {
     "data": {
      "text/plain": [
       "(3.09804353293389, 0.3370788557053665)"
      ]
     },
     "execution_count": 95,
     "metadata": {},
     "output_type": "execute_result"
    }
   ],
   "source": [
    "feats = [\"area\", \"kitchen_area\",\"floor\",\"metro_station_cat\"] + geo_cat_feats + best_feats_breadcrumbs;\n",
    "check_log_model(df, feats, xgb.XGBRegressor(max_depth=10, n_estimators=50, learning_rate=0.3, random_state=0))"
   ]
  },
  {
   "cell_type": "markdown",
   "metadata": {},
   "source": [
    "## Hot-one encoding of nominal categorizing features"
   ]
  },
  {
   "cell_type": "code",
   "execution_count": 103,
   "metadata": {},
   "outputs": [
    {
     "data": {
      "text/html": [
       "<div>\n",
       "<style scoped>\n",
       "    .dataframe tbody tr th:only-of-type {\n",
       "        vertical-align: middle;\n",
       "    }\n",
       "\n",
       "    .dataframe tbody tr th {\n",
       "        vertical-align: top;\n",
       "    }\n",
       "\n",
       "    .dataframe thead th {\n",
       "        text-align: right;\n",
       "    }\n",
       "</style>\n",
       "<table border=\"1\" class=\"dataframe\">\n",
       "  <thead>\n",
       "    <tr style=\"text-align: right;\">\n",
       "      <th></th>\n",
       "      <th>area</th>\n",
       "      <th>kitchen_area</th>\n",
       "      <th>floor</th>\n",
       "      <th>metro_station_cat</th>\n",
       "      <th>geo_block_0_cat</th>\n",
       "      <th>geo_block_1_cat</th>\n",
       "      <th>geo_block_2_cat</th>\n",
       "      <th>geo_block_3_cat</th>\n",
       "      <th>geo_block_4_cat</th>\n",
       "      <th>geo_block_5_cat</th>\n",
       "      <th>...</th>\n",
       "      <th>Застройщик:_cat</th>\n",
       "      <th>Парковка:_cat</th>\n",
       "      <th>Количество квартир:_cat</th>\n",
       "      <th>Количество этажей:_cat</th>\n",
       "      <th>Площадь кухни:_cat</th>\n",
       "      <th>Жилая комната:_cat</th>\n",
       "      <th>Охрана:_cat</th>\n",
       "      <th>Тип здания:_cat</th>\n",
       "      <th>Год постройки:_cat</th>\n",
       "      <th>Сдача:_cat</th>\n",
       "    </tr>\n",
       "  </thead>\n",
       "  <tbody>\n",
       "    <tr>\n",
       "      <th>0</th>\n",
       "      <td>54.3</td>\n",
       "      <td>-1.0</td>\n",
       "      <td>8.0</td>\n",
       "      <td>0</td>\n",
       "      <td>0</td>\n",
       "      <td>0</td>\n",
       "      <td>-1</td>\n",
       "      <td>-1</td>\n",
       "      <td>-1</td>\n",
       "      <td>-1</td>\n",
       "      <td>...</td>\n",
       "      <td>0</td>\n",
       "      <td>0</td>\n",
       "      <td>0</td>\n",
       "      <td>0</td>\n",
       "      <td>0</td>\n",
       "      <td>0</td>\n",
       "      <td>0</td>\n",
       "      <td>0</td>\n",
       "      <td>0</td>\n",
       "      <td>0</td>\n",
       "    </tr>\n",
       "    <tr>\n",
       "      <th>1</th>\n",
       "      <td>38.0</td>\n",
       "      <td>-1.0</td>\n",
       "      <td>6.0</td>\n",
       "      <td>1</td>\n",
       "      <td>0</td>\n",
       "      <td>1</td>\n",
       "      <td>-1</td>\n",
       "      <td>-1</td>\n",
       "      <td>-1</td>\n",
       "      <td>-1</td>\n",
       "      <td>...</td>\n",
       "      <td>1</td>\n",
       "      <td>1</td>\n",
       "      <td>1</td>\n",
       "      <td>1</td>\n",
       "      <td>0</td>\n",
       "      <td>0</td>\n",
       "      <td>1</td>\n",
       "      <td>0</td>\n",
       "      <td>0</td>\n",
       "      <td>1</td>\n",
       "    </tr>\n",
       "    <tr>\n",
       "      <th>2</th>\n",
       "      <td>40.0</td>\n",
       "      <td>-1.0</td>\n",
       "      <td>20.0</td>\n",
       "      <td>2</td>\n",
       "      <td>0</td>\n",
       "      <td>2</td>\n",
       "      <td>-1</td>\n",
       "      <td>-1</td>\n",
       "      <td>-1</td>\n",
       "      <td>-1</td>\n",
       "      <td>...</td>\n",
       "      <td>2</td>\n",
       "      <td>2</td>\n",
       "      <td>2</td>\n",
       "      <td>2</td>\n",
       "      <td>0</td>\n",
       "      <td>0</td>\n",
       "      <td>0</td>\n",
       "      <td>0</td>\n",
       "      <td>1</td>\n",
       "      <td>2</td>\n",
       "    </tr>\n",
       "    <tr>\n",
       "      <th>3</th>\n",
       "      <td>43.0</td>\n",
       "      <td>-1.0</td>\n",
       "      <td>27.0</td>\n",
       "      <td>1</td>\n",
       "      <td>0</td>\n",
       "      <td>1</td>\n",
       "      <td>0</td>\n",
       "      <td>-1</td>\n",
       "      <td>-1</td>\n",
       "      <td>-1</td>\n",
       "      <td>...</td>\n",
       "      <td>1</td>\n",
       "      <td>1</td>\n",
       "      <td>1</td>\n",
       "      <td>1</td>\n",
       "      <td>0</td>\n",
       "      <td>0</td>\n",
       "      <td>1</td>\n",
       "      <td>0</td>\n",
       "      <td>0</td>\n",
       "      <td>1</td>\n",
       "    </tr>\n",
       "    <tr>\n",
       "      <th>4</th>\n",
       "      <td>141.1</td>\n",
       "      <td>-1.0</td>\n",
       "      <td>2.0</td>\n",
       "      <td>3</td>\n",
       "      <td>0</td>\n",
       "      <td>3</td>\n",
       "      <td>-1</td>\n",
       "      <td>-1</td>\n",
       "      <td>-1</td>\n",
       "      <td>-1</td>\n",
       "      <td>...</td>\n",
       "      <td>3</td>\n",
       "      <td>3</td>\n",
       "      <td>3</td>\n",
       "      <td>3</td>\n",
       "      <td>0</td>\n",
       "      <td>0</td>\n",
       "      <td>1</td>\n",
       "      <td>0</td>\n",
       "      <td>0</td>\n",
       "      <td>2</td>\n",
       "    </tr>\n",
       "    <tr>\n",
       "      <th>...</th>\n",
       "      <td>...</td>\n",
       "      <td>...</td>\n",
       "      <td>...</td>\n",
       "      <td>...</td>\n",
       "      <td>...</td>\n",
       "      <td>...</td>\n",
       "      <td>...</td>\n",
       "      <td>...</td>\n",
       "      <td>...</td>\n",
       "      <td>...</td>\n",
       "      <td>...</td>\n",
       "      <td>...</td>\n",
       "      <td>...</td>\n",
       "      <td>...</td>\n",
       "      <td>...</td>\n",
       "      <td>...</td>\n",
       "      <td>...</td>\n",
       "      <td>...</td>\n",
       "      <td>...</td>\n",
       "      <td>...</td>\n",
       "      <td>...</td>\n",
       "    </tr>\n",
       "    <tr>\n",
       "      <th>11443</th>\n",
       "      <td>51.0</td>\n",
       "      <td>5.0</td>\n",
       "      <td>4.0</td>\n",
       "      <td>2</td>\n",
       "      <td>0</td>\n",
       "      <td>-1</td>\n",
       "      <td>-1</td>\n",
       "      <td>-1</td>\n",
       "      <td>-1</td>\n",
       "      <td>-1</td>\n",
       "      <td>...</td>\n",
       "      <td>1</td>\n",
       "      <td>117</td>\n",
       "      <td>120</td>\n",
       "      <td>2</td>\n",
       "      <td>35</td>\n",
       "      <td>58</td>\n",
       "      <td>2</td>\n",
       "      <td>0</td>\n",
       "      <td>8</td>\n",
       "      <td>2</td>\n",
       "    </tr>\n",
       "    <tr>\n",
       "      <th>11444</th>\n",
       "      <td>119.5</td>\n",
       "      <td>31.0</td>\n",
       "      <td>11.0</td>\n",
       "      <td>19</td>\n",
       "      <td>0</td>\n",
       "      <td>19</td>\n",
       "      <td>-1</td>\n",
       "      <td>-1</td>\n",
       "      <td>-1</td>\n",
       "      <td>-1</td>\n",
       "      <td>...</td>\n",
       "      <td>9</td>\n",
       "      <td>26</td>\n",
       "      <td>23</td>\n",
       "      <td>3</td>\n",
       "      <td>6</td>\n",
       "      <td>522</td>\n",
       "      <td>2</td>\n",
       "      <td>5</td>\n",
       "      <td>3</td>\n",
       "      <td>2</td>\n",
       "    </tr>\n",
       "    <tr>\n",
       "      <th>11445</th>\n",
       "      <td>61.0</td>\n",
       "      <td>12.0</td>\n",
       "      <td>21.0</td>\n",
       "      <td>1</td>\n",
       "      <td>0</td>\n",
       "      <td>1</td>\n",
       "      <td>-1</td>\n",
       "      <td>-1</td>\n",
       "      <td>-1</td>\n",
       "      <td>-1</td>\n",
       "      <td>...</td>\n",
       "      <td>1</td>\n",
       "      <td>1</td>\n",
       "      <td>16</td>\n",
       "      <td>13</td>\n",
       "      <td>15</td>\n",
       "      <td>44</td>\n",
       "      <td>1</td>\n",
       "      <td>0</td>\n",
       "      <td>0</td>\n",
       "      <td>1</td>\n",
       "    </tr>\n",
       "    <tr>\n",
       "      <th>11446</th>\n",
       "      <td>68.0</td>\n",
       "      <td>-1.0</td>\n",
       "      <td>4.0</td>\n",
       "      <td>2</td>\n",
       "      <td>1</td>\n",
       "      <td>21</td>\n",
       "      <td>4</td>\n",
       "      <td>-1</td>\n",
       "      <td>-1</td>\n",
       "      <td>-1</td>\n",
       "      <td>...</td>\n",
       "      <td>15</td>\n",
       "      <td>18</td>\n",
       "      <td>3</td>\n",
       "      <td>2</td>\n",
       "      <td>0</td>\n",
       "      <td>0</td>\n",
       "      <td>6</td>\n",
       "      <td>0</td>\n",
       "      <td>4</td>\n",
       "      <td>2</td>\n",
       "    </tr>\n",
       "    <tr>\n",
       "      <th>11447</th>\n",
       "      <td>39.0</td>\n",
       "      <td>9.0</td>\n",
       "      <td>17.0</td>\n",
       "      <td>13</td>\n",
       "      <td>0</td>\n",
       "      <td>94</td>\n",
       "      <td>51</td>\n",
       "      <td>-1</td>\n",
       "      <td>-1</td>\n",
       "      <td>-1</td>\n",
       "      <td>...</td>\n",
       "      <td>17</td>\n",
       "      <td>1</td>\n",
       "      <td>3</td>\n",
       "      <td>21</td>\n",
       "      <td>10</td>\n",
       "      <td>43</td>\n",
       "      <td>2</td>\n",
       "      <td>0</td>\n",
       "      <td>0</td>\n",
       "      <td>6</td>\n",
       "    </tr>\n",
       "  </tbody>\n",
       "</table>\n",
       "<p>34180 rows × 27 columns</p>\n",
       "</div>"
      ],
      "text/plain": [
       "        area  kitchen_area  floor  metro_station_cat  geo_block_0_cat  \\\n",
       "0       54.3          -1.0    8.0                  0                0   \n",
       "1       38.0          -1.0    6.0                  1                0   \n",
       "2       40.0          -1.0   20.0                  2                0   \n",
       "3       43.0          -1.0   27.0                  1                0   \n",
       "4      141.1          -1.0    2.0                  3                0   \n",
       "...      ...           ...    ...                ...              ...   \n",
       "11443   51.0           5.0    4.0                  2                0   \n",
       "11444  119.5          31.0   11.0                 19                0   \n",
       "11445   61.0          12.0   21.0                  1                0   \n",
       "11446   68.0          -1.0    4.0                  2                1   \n",
       "11447   39.0           9.0   17.0                 13                0   \n",
       "\n",
       "       geo_block_1_cat  geo_block_2_cat  geo_block_3_cat  geo_block_4_cat  \\\n",
       "0                    0               -1               -1               -1   \n",
       "1                    1               -1               -1               -1   \n",
       "2                    2               -1               -1               -1   \n",
       "3                    1                0               -1               -1   \n",
       "4                    3               -1               -1               -1   \n",
       "...                ...              ...              ...              ...   \n",
       "11443               -1               -1               -1               -1   \n",
       "11444               19               -1               -1               -1   \n",
       "11445                1               -1               -1               -1   \n",
       "11446               21                4               -1               -1   \n",
       "11447               94               51               -1               -1   \n",
       "\n",
       "       geo_block_5_cat  ...  Застройщик:_cat  Парковка:_cat  \\\n",
       "0                   -1  ...                0              0   \n",
       "1                   -1  ...                1              1   \n",
       "2                   -1  ...                2              2   \n",
       "3                   -1  ...                1              1   \n",
       "4                   -1  ...                3              3   \n",
       "...                ...  ...              ...            ...   \n",
       "11443               -1  ...                1            117   \n",
       "11444               -1  ...                9             26   \n",
       "11445               -1  ...                1              1   \n",
       "11446               -1  ...               15             18   \n",
       "11447               -1  ...               17              1   \n",
       "\n",
       "       Количество квартир:_cat  Количество этажей:_cat  Площадь кухни:_cat  \\\n",
       "0                            0                       0                   0   \n",
       "1                            1                       1                   0   \n",
       "2                            2                       2                   0   \n",
       "3                            1                       1                   0   \n",
       "4                            3                       3                   0   \n",
       "...                        ...                     ...                 ...   \n",
       "11443                      120                       2                  35   \n",
       "11444                       23                       3                   6   \n",
       "11445                       16                      13                  15   \n",
       "11446                        3                       2                   0   \n",
       "11447                        3                      21                  10   \n",
       "\n",
       "       Жилая комната:_cat  Охрана:_cat  Тип здания:_cat  Год постройки:_cat  \\\n",
       "0                       0            0                0                   0   \n",
       "1                       0            1                0                   0   \n",
       "2                       0            0                0                   1   \n",
       "3                       0            1                0                   0   \n",
       "4                       0            1                0                   0   \n",
       "...                   ...          ...              ...                 ...   \n",
       "11443                  58            2                0                   8   \n",
       "11444                 522            2                5                   3   \n",
       "11445                  44            1                0                   0   \n",
       "11446                   0            6                0                   4   \n",
       "11447                  43            2                0                   0   \n",
       "\n",
       "       Сдача:_cat  \n",
       "0               0  \n",
       "1               1  \n",
       "2               2  \n",
       "3               1  \n",
       "4               2  \n",
       "...           ...  \n",
       "11443           2  \n",
       "11444           2  \n",
       "11445           1  \n",
       "11446           2  \n",
       "11447           6  \n",
       "\n",
       "[34180 rows x 27 columns]"
      ]
     },
     "execution_count": 103,
     "metadata": {},
     "output_type": "execute_result"
    }
   ],
   "source": [
    "df_d = pd.get_dummies(df[feats])\n",
    "df_d"
   ]
  },
  {
   "cell_type": "code",
   "execution_count": 110,
   "metadata": {},
   "outputs": [],
   "source": [
    "df_d[\"price\"]=df[\"price\"]\n"
   ]
  },
  {
   "cell_type": "markdown",
   "metadata": {},
   "source": [
    "## Check result"
   ]
  },
  {
   "cell_type": "code",
   "execution_count": 109,
   "metadata": {},
   "outputs": [
    {
     "data": {
      "text/plain": [
       "(3.09804353293389, 0.3370788557053665)"
      ]
     },
     "execution_count": 109,
     "metadata": {},
     "output_type": "execute_result"
    }
   ],
   "source": [
    "check_log_model(df_d, feats, xgb.XGBRegressor(max_depth=10, n_estimators=50, learning_rate=0.3, random_state=0))"
   ]
  },
  {
   "cell_type": "markdown",
   "metadata": {},
   "source": [
    "## Importance of features "
   ]
  },
  {
   "cell_type": "code",
   "execution_count": 47,
   "metadata": {},
   "outputs": [],
   "source": [
    "feats = [\"area\", \"kitchen_area\", \"floor\"] + geo_cat_feats + breadcrumbs_cat_feats;\n",
    "\n",
    "df_train = df[ ~df[\"price\"].isnull() ].copy()\n",
    "df_test = df[ df[\"price\"].isnull() ].copy()\n",
    "\n",
    "X_train = df_train[feats]\n",
    "y_train = df_train[\"price\"]"
   ]
  },
  {
   "cell_type": "code",
   "execution_count": 48,
   "metadata": {},
   "outputs": [
    {
     "name": "stdout",
     "output_type": "stream",
     "text": [
      " 1) area                           0.342180\n",
      " 2) Класс жилья:_cat               0.322520\n",
      " 3) breadcrumbs_5_cat              0.035477\n",
      " 4) Количество комнат:_cat         0.030725\n",
      " 5) Количество квартир:_cat        0.030684\n",
      " 6) Парковка:_cat                  0.024787\n",
      " 7) Охрана:_cat                    0.024734\n",
      " 8) Застройщик:_cat                0.023006\n",
      " 9) geo_block_1_cat                0.019634\n",
      "10) breadcrumbs_1_cat              0.018375\n",
      "11) geo_block_0_cat                0.017576\n",
      "12) floor                          0.016939\n",
      "13) breadcrumbs_3_cat              0.013221\n",
      "14) Площадь кухни:_cat             0.010582\n",
      "15) Количество этажей:_cat         0.008187\n",
      "16) Высота потолков:_cat           0.007632\n",
      "17) breadcrumbs_2_cat              0.007148\n",
      "18) Этаж:_cat                      0.006604\n",
      "19) Год постройки:_cat             0.005890\n",
      "20) Тип здания:_cat                0.005276\n",
      "21) Сдача:_cat                     0.004969\n",
      "22) Тип балкона:_cat               0.004702\n",
      "23) Общая площадь:_cat             0.004314\n",
      "24) breadcrumbs_4_cat              0.003930\n",
      "25) Жилая комната:_cat             0.003172\n",
      "26) Дата публикации:_cat           0.002652\n",
      "27) kitchen_area                   0.002357\n",
      "28) geo_block_2_cat                0.001218\n",
      "29) geo_block_3_cat                0.000976\n",
      "30) breadcrumbs_6_cat              0.000428\n",
      "31) geo_block_4_cat                0.000108\n",
      "32) geo_block_5_cat                0.000000\n",
      "33) breadcrumbs_0_cat              0.000000\n",
      "34) breadcrumbs_7_cat              0.000000\n"
     ]
    },
    {
     "data": {
      "image/png": "[encoded data removed]",
      "text/plain": [
       "<Figure size 720x360 with 1 Axes>"
      ]
     },
     "metadata": {},
     "output_type": "display_data"
    }
   ],
   "source": [
    "#feat = x_train.columns[1:]\n",
    "model = xgb.XGBRegressor(max_depth=10, n_estimators=50, learning_rate=0.3, random_state=0)\n",
    "model.fit(X_train, y_train)\n",
    "importance = model.feature_importances_\n",
    "index = np.argsort(importance)[::-1]\n",
    "\n",
    "for f in range(X_train.shape[1]):\n",
    "    print(\"%2d) %-*s %f\" % (f+1, 30, feats[index[f]],importance[index[f]]))\n",
    " \n",
    "    \n",
    "plt.figure(figsize=(10,5))    \n",
    "plt.title('Feature importance')\n",
    "plt.bar(range(X_train.shape[1]), importance[index], align='center')\n",
    "#plt.xticks(range(x_train.shape[1]), feats[index], rotation=90)\n",
    "plt.xlim([-1, X_train.shape[1]])\n",
    "plt.tight_layout()\n",
    "plt.show()"
   ]
  },
  {
   "cell_type": "code",
   "execution_count": 49,
   "metadata": {},
   "outputs": [
    {
     "data": {
      "text/plain": [
       "['area',\n",
       " 'Класс жилья:_cat',\n",
       " 'breadcrumbs_5_cat',\n",
       " 'Количество комнат:_cat',\n",
       " 'Количество квартир:_cat',\n",
       " 'Парковка:_cat',\n",
       " 'Охрана:_cat',\n",
       " 'Застройщик:_cat',\n",
       " 'geo_block_1_cat',\n",
       " 'breadcrumbs_1_cat',\n",
       " 'geo_block_0_cat',\n",
       " 'floor',\n",
       " 'breadcrumbs_3_cat',\n",
       " 'Площадь кухни:_cat',\n",
       " 'Количество этажей:_cat',\n",
       " 'Высота потолков:_cat',\n",
       " 'breadcrumbs_2_cat']"
      ]
     },
     "execution_count": 49,
     "metadata": {},
     "output_type": "execute_result"
    }
   ],
   "source": [
    "best_feats=[]\n",
    "for f in range(X_train.shape[1]):\n",
    "    if importance[index[f]] > 0.007:\n",
    "        best_feats.append(feats[index[f]])\n",
    "#best_feats.append('intercept')\n",
    "best_feats"
   ]
  },
  {
   "cell_type": "markdown",
   "metadata": {},
   "source": [
    "### Check results"
   ]
  },
  {
   "cell_type": "code",
   "execution_count": 50,
   "metadata": {},
   "outputs": [
    {
     "data": {
      "text/plain": [
       "(3.0877903228333987, 0.3557645416840162)"
      ]
     },
     "execution_count": 50,
     "metadata": {},
     "output_type": "execute_result"
    }
   ],
   "source": [
    "check_log_model(df, best_feats, xgb.XGBRegressor(max_depth=5, n_estimators=50, learning_rate=0.3, random_state=0))"
   ]
  },
  {
   "cell_type": "markdown",
   "metadata": {},
   "source": [
    "### Optimization of hyperparameters "
   ]
  },
  {
   "cell_type": "code",
   "execution_count": 51,
   "metadata": {},
   "outputs": [],
   "source": [
    "xgb_parameters = {\n",
    "                'n_estimators' : randint(50, 500),\n",
    "                'max_depth' : randint(2, 10),\n",
    "                'learning_rate' : uniform(loc = 0, scale = 1),\n",
    "                'gamma' : uniform(loc = 0, scale = 1),\n",
    "                'min_child_weight' : randint(1, 5),\n",
    "                'subsample': uniform(loc = 0, scale = 1),\n",
    "                'colsample_bytree': uniform(loc = 0, scale = 1),\n",
    "                'reg_alpha' : uniform(loc = 0, scale = 1),\n",
    "                'reg_lambda' : uniform(loc = 0, scale = 1),    \n",
    "                'booster' : ['gbtree', 'gblinear', 'dart'],\n",
    "                'n_jobs' : [2]\n",
    "                }"
   ]
  },
  {
   "cell_type": "code",
   "execution_count": 52,
   "metadata": {},
   "outputs": [],
   "source": [
    "def random_optimization_hp(x, y, hyperparameters, model, n_iter=20, n_jobs = 2, cv = 5):\n",
    "\n",
    "    rs = RandomizedSearchCV(model, hyperparameters, n_iter = n_iter, n_jobs = n_jobs, cv = cv)\n",
    "    rs.fit(x, y.values.ravel())\n",
    "    selected_parameters  = rs.best_params_\n",
    "    return selected_parameters;\n"
   ]
  },
  {
   "cell_type": "code",
   "execution_count": 53,
   "metadata": {},
   "outputs": [
    {
     "data": {
      "text/plain": [
       "'\\n#hiding the code because it takes a very long code execution \\nX_train = df_train[best_feats]\\ny_train = df_train[\"price\"]\\n\\nselected_parameters_xgb = random_optimization_hp(X_train, y_train, xgb_parameters, xgb.XGBRegressor(), n_iter=20, n_jobs = 2, cv = 5)\\n'"
      ]
     },
     "execution_count": 53,
     "metadata": {},
     "output_type": "execute_result"
    }
   ],
   "source": [
    "\"\"\"\n",
    "#hiding the code because it takes a very long code execution \n",
    "X_train = df_train[best_feats]\n",
    "y_train = df_train[\"price\"]\n",
    "\n",
    "selected_parameters_xgb = random_optimization_hp(X_train, y_train, xgb_parameters, xgb.XGBRegressor(), n_iter=20, n_jobs = 2, cv = 5)\n",
    "\"\"\""
   ]
  },
  {
   "cell_type": "code",
   "execution_count": 54,
   "metadata": {},
   "outputs": [],
   "source": [
    "#The assignment of a permanent because it takes a very long code execution \n",
    "selected_parameters_xgb = {'booster': 'dart',\n",
    " 'colsample_bytree': 0.7340410495604391,\n",
    " 'gamma': 0.975366505482443,\n",
    " 'learning_rate': 0.1,\n",
    " 'max_depth': 8,\n",
    " 'min_child_weight': 2,\n",
    " 'n_estimators': 700,\n",
    " 'n_jobs': 2,\n",
    " 'reg_alpha': 0.6642504942329533,\n",
    " 'reg_lambda': 0.08488834287883062,\n",
    " 'subsample': 0.8268881729914456}"
   ]
  },
  {
   "cell_type": "code",
   "execution_count": 55,
   "metadata": {},
   "outputs": [
    {
     "data": {
      "text/plain": [
       "{'booster': 'dart',\n",
       " 'colsample_bytree': 0.7340410495604391,\n",
       " 'gamma': 0.975366505482443,\n",
       " 'learning_rate': 0.1,\n",
       " 'max_depth': 8,\n",
       " 'min_child_weight': 2,\n",
       " 'n_estimators': 700,\n",
       " 'n_jobs': 2,\n",
       " 'reg_alpha': 0.6642504942329533,\n",
       " 'reg_lambda': 0.08488834287883062,\n",
       " 'subsample': 0.8268881729914456}"
      ]
     },
     "execution_count": 55,
     "metadata": {},
     "output_type": "execute_result"
    }
   ],
   "source": [
    "selected_parameters_xgb"
   ]
  },
  {
   "cell_type": "markdown",
   "metadata": {},
   "source": [
    "### Check results"
   ]
  },
  {
   "cell_type": "code",
   "execution_count": 56,
   "metadata": {},
   "outputs": [
    {
     "data": {
      "text/plain": [
       "(3.0877903228333987, 0.3557645416840162)"
      ]
     },
     "execution_count": 56,
     "metadata": {},
     "output_type": "execute_result"
    }
   ],
   "source": [
    "check_log_model(df, best_feats, xgb.XGBRegressor(**selected_parameters_xgb))"
   ]
  },
  {
   "cell_type": "markdown",
   "metadata": {},
   "source": [
    "## Summary of reasult for best features"
   ]
  },
  {
   "cell_type": "code",
   "execution_count": 57,
   "metadata": {},
   "outputs": [],
   "source": [
    "feats = best_feats\n",
    "\n",
    "df_train = df[ ~df[\"price\"].isnull() ].copy()\n",
    "df_test = df[ df[\"price\"].isnull() ].copy()\n",
    "\n",
    "X_train = df_train[feats]\n",
    "y_train = df_train[\"price\"]\n",
    "y_log_train = np.log(y_train)\n",
    "\n",
    "X_test = df_test[feats]\n",
    "\n",
    "model = xgb.XGBRegressor(**selected_parameters_xgb)\n",
    "model.fit(X_train, y_log_train)\n",
    "y_log_pred = model.predict(X_test)\n",
    "y_pred = np.exp(y_log_pred)\n"
   ]
  },
  {
   "cell_type": "markdown",
   "metadata": {},
   "source": [
    "## Creat a result file "
   ]
  },
  {
   "cell_type": "code",
   "execution_count": 58,
   "metadata": {},
   "outputs": [],
   "source": [
    "#save the data to a file \n",
    "\n",
    "df_test[\"price\"] = y_pred\n",
    "df_test[ [\"id\", \"price\"] ].to_csv(\"../output/xgb_location_log_area.csv\", index=False)"
   ]
  },
  {
   "cell_type": "code",
   "execution_count": null,
   "metadata": {},
   "outputs": [],
   "source": []
  },
  {
   "cell_type": "code",
   "execution_count": null,
   "metadata": {},
   "outputs": [],
   "source": []
  }
 ],
 "metadata": {
  "kernelspec": {
   "display_name": "Python 3",
   "language": "python",
   "name": "python3"
  },
  "language_info": {
   "codemirror_mode": {
    "name": "ipython",
    "version": 3
   },
   "file_extension": ".py",
   "mimetype": "text/x-python",
   "name": "python",
   "nbconvert_exporter": "python",
   "pygments_lexer": "ipython3",
   "version": "3.8.3"
  }
 },
 "nbformat": 4,
 "nbformat_minor": 5
}
